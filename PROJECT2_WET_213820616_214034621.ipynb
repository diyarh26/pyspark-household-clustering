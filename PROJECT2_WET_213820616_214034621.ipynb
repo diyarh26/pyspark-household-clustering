{
 "cells": [
  {
   "cell_type": "markdown",
   "metadata": {
    "application/vnd.databricks.v1+cell": {
     "cellMetadata": {
      "byteLimit": 2048000,
      "rowLimit": 10000
     },
     "inputWidgets": {},
     "nuid": "9bf6f18a-5511-453d-a283-4e3de2276f24",
     "showTitle": false,
     "tableResultSettingsMap": {},
     "title": ""
    }
   },
   "source": [
    "# Project 2 - Starter Notebook\n",
    "\n",
    "Please make sure your solution is divided into multiple code cells, explained clearly and properly, and most importantly, pretty.\n"
   ]
  },
  {
   "cell_type": "code",
   "execution_count": 0,
   "metadata": {
    "application/vnd.databricks.v1+cell": {
     "cellMetadata": {
      "byteLimit": 2048000,
      "rowLimit": 10000
     },
     "inputWidgets": {},
     "nuid": "d4dffdc6-9b10-4156-84e3-2aa633287766",
     "showTitle": false,
     "tableResultSettingsMap": {},
     "title": ""
    }
   },
   "outputs": [],
   "source": [
    "from pyspark.sql.types import *\n",
    "from pyspark.sql.functions import *\n",
    "import os,time\n",
    "from pyspark.sql import SparkSession\n",
    " \n",
    "spark = SparkSession.builder.appName(\"my_project_2\").getOrCreate()"
   ]
  },
  {
   "cell_type": "markdown",
   "metadata": {
    "application/vnd.databricks.v1+cell": {
     "cellMetadata": {
      "byteLimit": 2048000,
      "rowLimit": 10000
     },
     "inputWidgets": {},
     "nuid": "2c4ef082-3c15-445c-b5cf-bdcfecb5eb47",
     "showTitle": false,
     "tableResultSettingsMap": {},
     "title": ""
    }
   },
   "source": [
    "## Read Sub Demographic data"
   ]
  },
  {
   "cell_type": "code",
   "execution_count": 0,
   "metadata": {
    "application/vnd.databricks.v1+cell": {
     "cellMetadata": {
      "byteLimit": 2048000,
      "rowLimit": 10000
     },
     "inputWidgets": {},
     "nuid": "9ca687de-044e-4965-9866-2be25a8d6bde",
     "showTitle": false,
     "tableResultSettingsMap": {},
     "title": ""
    }
   },
   "outputs": [
    {
     "output_type": "stream",
     "name": "stdout",
     "output_type": "stream",
     "text": [
      "root\n |-- household_id: long (nullable = true)\n |-- household_size: integer (nullable = true)\n |-- num_adults: integer (nullable = true)\n |-- num_generations: integer (nullable = true)\n |-- marital_status: string (nullable = true)\n |-- race_code: string (nullable = true)\n |-- dwelling_type: string (nullable = true)\n |-- home_owner_status: string (nullable = true)\n |-- length_residence: integer (nullable = true)\n |-- home_market_value: double (nullable = true)\n |-- net_worth: double (nullable = true)\n |-- gender_individual: string (nullable = true)\n |-- education_highest: string (nullable = true)\n\n"
     ]
    },
    {
     "output_type": "display_data",
     "data": {
      "text/html": [
       "<style scoped>\n",
       "  .table-result-container {\n",
       "    max-height: 300px;\n",
       "    overflow: auto;\n",
       "  }\n",
       "  table, th, td {\n",
       "    border: 1px solid black;\n",
       "    border-collapse: collapse;\n",
       "  }\n",
       "  th, td {\n",
       "    padding: 5px;\n",
       "  }\n",
       "  th {\n",
       "    text-align: left;\n",
       "  }\n",
       "</style><div class='table-result-container'><table class='table-result'><thead style='background-color: white'><tr><th>household_id</th><th>household_size</th><th>num_adults</th><th>num_generations</th><th>marital_status</th><th>race_code</th><th>dwelling_type</th><th>home_owner_status</th><th>length_residence</th><th>home_market_value</th><th>net_worth</th><th>gender_individual</th><th>education_highest</th></tr></thead><tbody><tr><td>85</td><td>2</td><td>1</td><td>2</td><td>B</td><td>W</td><td>S</td><td>O</td><td>15</td><td>0.125</td><td>0.05</td><td>F</td><td>1</td></tr><tr><td>2073</td><td>1</td><td>1</td><td>2</td><td>M</td><td>H</td><td>S</td><td>O</td><td>15</td><td>0.15</td><td>0.1</td><td>F</td><td>1</td></tr><tr><td>2523</td><td>7</td><td>6</td><td>3</td><td>M</td><td>W</td><td>S</td><td>O</td><td>15</td><td>0.1</td><td>0.1</td><td>M</td><td>2</td></tr><tr><td>2717</td><td>3</td><td>2</td><td>2</td><td>S</td><td>W</td><td>S</td><td>O</td><td>11</td><td>0.125</td><td>0.2</td><td>M</td><td>3</td></tr><tr><td>3364</td><td>2</td><td>2</td><td>2</td><td>M</td><td>W</td><td>S</td><td>O</td><td>15</td><td>0.1</td><td>0.1</td><td>M</td><td>1</td></tr><tr><td>4046</td><td>4</td><td>3</td><td>3</td><td>M</td><td>W</td><td>S</td><td>O</td><td>6</td><td>0.075</td><td>0.05</td><td>F</td><td>1</td></tr><tr><td>4303</td><td>1</td><td>1</td><td>1</td><td>S</td><td>W</td><td>S</td><td>O</td><td>15</td><td>0.15</td><td>0.2</td><td>M</td><td>1</td></tr><tr><td>4559</td><td>3</td><td>2</td><td>2</td><td>S</td><td>W</td><td>S</td><td>O</td><td>12</td><td>0.175</td><td>0.2</td><td>F</td><td>2</td></tr><tr><td>5277</td><td>3</td><td>2</td><td>2</td><td>M</td><td>W</td><td>S</td><td>R</td><td>15</td><td>0.125</td><td>0.02</td><td>M</td><td>2</td></tr><tr><td>5440</td><td>1</td><td>1</td><td>1</td><td>S</td><td>W</td><td>S</td><td>O</td><td>8</td><td>0.225</td><td>0.2</td><td>F</td><td>1</td></tr></tbody></table></div>"
      ]
     },
     "metadata": {
      "application/vnd.databricks.v1+output": {
       "addedWidgets": {},
       "aggData": [],
       "aggError": "",
       "aggOverflow": false,
       "aggSchema": [],
       "aggSeriesLimitReached": false,
       "aggType": "",
       "arguments": {},
       "columnCustomDisplayInfos": {},
       "data": [
        [
         85,
         2,
         1,
         2,
         "B",
         "W",
         "S",
         "O",
         15,
         0.125,
         0.05,
         "F",
         "1"
        ],
        [
         2073,
         1,
         1,
         2,
         "M",
         "H",
         "S",
         "O",
         15,
         0.15,
         0.1,
         "F",
         "1"
        ],
        [
         2523,
         7,
         6,
         3,
         "M",
         "W",
         "S",
         "O",
         15,
         0.1,
         0.1,
         "M",
         "2"
        ],
        [
         2717,
         3,
         2,
         2,
         "S",
         "W",
         "S",
         "O",
         11,
         0.125,
         0.2,
         "M",
         "3"
        ],
        [
         3364,
         2,
         2,
         2,
         "M",
         "W",
         "S",
         "O",
         15,
         0.1,
         0.1,
         "M",
         "1"
        ],
        [
         4046,
         4,
         3,
         3,
         "M",
         "W",
         "S",
         "O",
         6,
         0.075,
         0.05,
         "F",
         "1"
        ],
        [
         4303,
         1,
         1,
         1,
         "S",
         "W",
         "S",
         "O",
         15,
         0.15,
         0.2,
         "M",
         "1"
        ],
        [
         4559,
         3,
         2,
         2,
         "S",
         "W",
         "S",
         "O",
         12,
         0.175,
         0.2,
         "F",
         "2"
        ],
        [
         5277,
         3,
         2,
         2,
         "M",
         "W",
         "S",
         "R",
         15,
         0.125,
         0.02,
         "M",
         "2"
        ],
        [
         5440,
         1,
         1,
         1,
         "S",
         "W",
         "S",
         "O",
         8,
         0.225,
         0.2,
         "F",
         "1"
        ]
       ],
       "datasetInfos": [],
       "dbfsResultPath": null,
       "isJsonSchema": true,
       "metadata": {},
       "overflow": false,
       "plotOptions": {
        "customPlotOptions": {},
        "displayType": "table",
        "pivotAggregation": null,
        "pivotColumns": null,
        "xColumns": null,
        "yColumns": null
       },
       "removedWidgets": [],
       "schema": [
        {
         "metadata": "{}",
         "name": "household_id",
         "type": "\"long\""
        },
        {
         "metadata": "{}",
         "name": "household_size",
         "type": "\"integer\""
        },
        {
         "metadata": "{}",
         "name": "num_adults",
         "type": "\"integer\""
        },
        {
         "metadata": "{}",
         "name": "num_generations",
         "type": "\"integer\""
        },
        {
         "metadata": "{}",
         "name": "marital_status",
         "type": "\"string\""
        },
        {
         "metadata": "{}",
         "name": "race_code",
         "type": "\"string\""
        },
        {
         "metadata": "{}",
         "name": "dwelling_type",
         "type": "\"string\""
        },
        {
         "metadata": "{}",
         "name": "home_owner_status",
         "type": "\"string\""
        },
        {
         "metadata": "{}",
         "name": "length_residence",
         "type": "\"integer\""
        },
        {
         "metadata": "{}",
         "name": "home_market_value",
         "type": "\"double\""
        },
        {
         "metadata": "{}",
         "name": "net_worth",
         "type": "\"double\""
        },
        {
         "metadata": "{}",
         "name": "gender_individual",
         "type": "\"string\""
        },
        {
         "metadata": "{}",
         "name": "education_highest",
         "type": "\"string\""
        }
       ],
       "type": "table"
      }
     },
     "output_type": "display_data"
    }
   ],
   "source": [
    "demographic_df = spark.read\\\n",
    "    .parquet(\"dbfs:/FileStore/project_b_data/proj_B_demographic/\")\n",
    "demographic_df.printSchema()\n",
    "display(demographic_df.limit(10))"
   ]
  },
  {
   "cell_type": "markdown",
   "metadata": {
    "application/vnd.databricks.v1+cell": {
     "cellMetadata": {
      "byteLimit": 2048000,
      "rowLimit": 10000
     },
     "inputWidgets": {},
     "nuid": "52414b4f-3283-4a0a-81b3-71593e9a8c98",
     "showTitle": false,
     "tableResultSettingsMap": {},
     "title": ""
    }
   },
   "source": [
    "## Read Static Viewing Data"
   ]
  },
  {
   "cell_type": "code",
   "execution_count": 0,
   "metadata": {
    "application/vnd.databricks.v1+cell": {
     "cellMetadata": {
      "byteLimit": 2048000,
      "rowLimit": 10000
     },
     "inputWidgets": {},
     "nuid": "6694dd5d-7c68-40c4-9f15-1ae50b45c428",
     "showTitle": false,
     "tableResultSettingsMap": {},
     "title": ""
    }
   },
   "outputs": [
    {
     "output_type": "stream",
     "name": "stdout",
     "output_type": "stream",
     "text": [
      "root\n |-- device_id: string (nullable = true)\n |-- event_date: string (nullable = true)\n |-- event_time: string (nullable = true)\n |-- station_num: integer (nullable = true)\n |-- prog_code: string (nullable = true)\n |-- household_id: integer (nullable = true)\n\n"
     ]
    },
    {
     "output_type": "display_data",
     "data": {
      "text/html": [
       "<style scoped>\n",
       "  .table-result-container {\n",
       "    max-height: 300px;\n",
       "    overflow: auto;\n",
       "  }\n",
       "  table, th, td {\n",
       "    border: 1px solid black;\n",
       "    border-collapse: collapse;\n",
       "  }\n",
       "  th, td {\n",
       "    padding: 5px;\n",
       "  }\n",
       "  th {\n",
       "    text-align: left;\n",
       "  }\n",
       "</style><div class='table-result-container'><table class='table-result'><thead style='background-color: white'><tr><th>device_id</th><th>event_date</th><th>event_time</th><th>station_num</th><th>prog_code</th><th>household_id</th></tr></thead><tbody><tr><td>001bd74cc8d1</td><td>20150120</td><td>181338</td><td>75523</td><td>EP000009110053</td><td>3783713</td></tr><tr><td>10ea5940d694</td><td>20150120</td><td>181338</td><td>11218</td><td>MV001054110000</td><td>3787015</td></tr><tr><td>44e08ed80c35</td><td>20150120</td><td>181338</td><td>11713</td><td>SH004464010000</td><td>43921</td></tr><tr><td>0000048de4f2</td><td>20150120</td><td>181338</td><td>65626</td><td>MV000506130000</td><td>3672067</td></tr><tr><td>0000059867a7</td><td>20150120</td><td>181338</td><td>58812</td><td>EP019199930005</td><td>3645541</td></tr><tr><td>000011ff9ba9</td><td>20150120</td><td>181338</td><td>18510</td><td>EP010855880111</td><td>3642303</td></tr><tr><td>00000254e5f6</td><td>20150120</td><td>181338</td><td>35513</td><td>EP000369550087</td><td>3825751</td></tr><tr><td>000002bd8a47</td><td>20150120</td><td>181338</td><td>10035</td><td>EP013413450102</td><td>2971023</td></tr><tr><td>000003c4c597</td><td>20150120</td><td>181338</td><td>59337</td><td>MV000744670000</td><td>2358722</td></tr><tr><td>00407bba00fe</td><td>20150120</td><td>181338</td><td>14771</td><td>EP015899250028</td><td>2838674</td></tr></tbody></table></div>"
      ]
     },
     "metadata": {
      "application/vnd.databricks.v1+output": {
       "addedWidgets": {},
       "aggData": [],
       "aggError": "",
       "aggOverflow": false,
       "aggSchema": [],
       "aggSeriesLimitReached": false,
       "aggType": "",
       "arguments": {},
       "columnCustomDisplayInfos": {},
       "data": [
        [
         "001bd74cc8d1",
         "20150120",
         "181338",
         75523,
         "EP000009110053",
         3783713
        ],
        [
         "10ea5940d694",
         "20150120",
         "181338",
         11218,
         "MV001054110000",
         3787015
        ],
        [
         "44e08ed80c35",
         "20150120",
         "181338",
         11713,
         "SH004464010000",
         43921
        ],
        [
         "0000048de4f2",
         "20150120",
         "181338",
         65626,
         "MV000506130000",
         3672067
        ],
        [
         "0000059867a7",
         "20150120",
         "181338",
         58812,
         "EP019199930005",
         3645541
        ],
        [
         "000011ff9ba9",
         "20150120",
         "181338",
         18510,
         "EP010855880111",
         3642303
        ],
        [
         "00000254e5f6",
         "20150120",
         "181338",
         35513,
         "EP000369550087",
         3825751
        ],
        [
         "000002bd8a47",
         "20150120",
         "181338",
         10035,
         "EP013413450102",
         2971023
        ],
        [
         "000003c4c597",
         "20150120",
         "181338",
         59337,
         "MV000744670000",
         2358722
        ],
        [
         "00407bba00fe",
         "20150120",
         "181338",
         14771,
         "EP015899250028",
         2838674
        ]
       ],
       "datasetInfos": [],
       "dbfsResultPath": null,
       "isJsonSchema": true,
       "metadata": {},
       "overflow": false,
       "plotOptions": {
        "customPlotOptions": {},
        "displayType": "table",
        "pivotAggregation": null,
        "pivotColumns": null,
        "xColumns": null,
        "yColumns": null
       },
       "removedWidgets": [],
       "schema": [
        {
         "metadata": "{}",
         "name": "device_id",
         "type": "\"string\""
        },
        {
         "metadata": "{}",
         "name": "event_date",
         "type": "\"string\""
        },
        {
         "metadata": "{}",
         "name": "event_time",
         "type": "\"string\""
        },
        {
         "metadata": "{}",
         "name": "station_num",
         "type": "\"integer\""
        },
        {
         "metadata": "{}",
         "name": "prog_code",
         "type": "\"string\""
        },
        {
         "metadata": "{}",
         "name": "household_id",
         "type": "\"integer\""
        }
       ],
       "type": "table"
      }
     },
     "output_type": "display_data"
    }
   ],
   "source": [
    "schema = StructType([\n",
    "    StructField(\"device_id\", StringType(), True),\n",
    "    StructField(\"event_date\", StringType(), True),\n",
    "    StructField(\"event_time\", StringType(), True),     \n",
    "    StructField(\"station_num\", IntegerType(), True),\n",
    "    StructField(\"prog_code\", StringType(), True),\n",
    "    StructField(\"household_id\", IntegerType(), True)\n",
    "])\n",
    "\n",
    "viewing_static_df = spark.read.schema(schema)\\\n",
    "    .option(\"header\", True).csv(\"dbfs:/FileStore/project_b_data/viewing_static_csv/\")\n",
    "\n",
    "viewing_static_df.printSchema()\n",
    "display(viewing_static_df.limit(10))"
   ]
  },
  {
   "cell_type": "markdown",
   "metadata": {
    "application/vnd.databricks.v1+cell": {
     "cellMetadata": {
      "byteLimit": 2048000,
      "rowLimit": 10000
     },
     "inputWidgets": {},
     "nuid": "6c926b32-0694-4710-86f9-f3fa6f26a064",
     "showTitle": false,
     "tableResultSettingsMap": {},
     "title": ""
    }
   },
   "source": [
    "## Static Data Analysis (65 points)"
   ]
  },
  {
   "cell_type": "code",
   "execution_count": 0,
   "metadata": {
    "application/vnd.databricks.v1+cell": {
     "cellMetadata": {
      "byteLimit": 2048000,
      "rowLimit": 10000
     },
     "inputWidgets": {},
     "nuid": "8b3fb0dd-656e-454b-a455-fde6f8be8561",
     "showTitle": false,
     "tableResultSettingsMap": {},
     "title": ""
    }
   },
   "outputs": [],
   "source": [
    "from pyspark.ml import Pipeline\n",
    "from pyspark.ml.feature import VectorAssembler\\\n",
    "    , StringIndexer, OneHotEncoder, MinMaxScaler\n"
   ]
  },
  {
   "cell_type": "markdown",
   "metadata": {
    "application/vnd.databricks.v1+cell": {
     "cellMetadata": {
      "byteLimit": 2048000,
      "rowLimit": 10000
     },
     "inputWidgets": {},
     "nuid": "c4a58974-4dfc-4be4-9c5d-cf35961fe7a9",
     "showTitle": false,
     "tableResultSettingsMap": {},
     "title": ""
    }
   },
   "source": [
    "### Feature Extraction"
   ]
  },
  {
   "cell_type": "code",
   "execution_count": 0,
   "metadata": {
    "application/vnd.databricks.v1+cell": {
     "cellMetadata": {
      "byteLimit": 2048000,
      "rowLimit": 10000
     },
     "inputWidgets": {},
     "nuid": "1bc83d85-d356-4efb-90b7-73baf3dda57f",
     "showTitle": false,
     "tableResultSettingsMap": {},
     "title": ""
    }
   },
   "outputs": [
    {
     "output_type": "display_data",
     "data": {
      "application/vnd.jupyter.widget-view+json": {
       "model_id": "72c218d478184f8b95f422fb6d0afd08",
       "version_major": 2,
       "version_minor": 0
      },
      "text/plain": [
       "Downloading artifacts:   0%|          | 0/150 [00:00<?, ?it/s]"
      ]
     },
     "metadata": {},
     "output_type": "display_data"
    },
    {
     "output_type": "display_data",
     "data": {
      "application/vnd.jupyter.widget-view+json": {
       "model_id": "57dd9e426c6c48a5953844561c0f5dc2",
       "version_major": 2,
       "version_minor": 0
      },
      "text/plain": [
       "Uploading artifacts:   0%|          | 0/4 [00:00<?, ?it/s]"
      ]
     },
     "metadata": {},
     "output_type": "display_data"
    },
    {
     "output_type": "stream",
     "name": "stdout",
     "output_type": "stream",
     "text": [
      "\uD83C\uDFC3 View run efficient-panda-238 at: https://adb-385435138940782.2.azuredatabricks.net/ml/experiments/30648897007770/runs/4c28426973a44a2d814551dddfc973a0\n\uD83E\uDDEA View experiment at: https://adb-385435138940782.2.azuredatabricks.net/ml/experiments/30648897007770\n"
     ]
    },
    {
     "output_type": "display_data",
     "data": {
      "text/html": [
       "<style scoped>\n",
       "  .table-result-container {\n",
       "    max-height: 300px;\n",
       "    overflow: auto;\n",
       "  }\n",
       "  table, th, td {\n",
       "    border: 1px solid black;\n",
       "    border-collapse: collapse;\n",
       "  }\n",
       "  th, td {\n",
       "    padding: 5px;\n",
       "  }\n",
       "  th {\n",
       "    text-align: left;\n",
       "  }\n",
       "</style><div class='table-result-container'><table class='table-result'><thead style='background-color: white'><tr><th>household_id</th><th>full_features</th></tr></thead><tbody><tr><td>85</td><td>Map(vectorType -> sparse, length -> 18, indices -> List(0, 2, 3, 4, 5, 9, 12, 13, 15), values -> List(0.125, 0.5, 1.0, 0.12412412412412413, 0.05, 1.0, 1.0, 1.0, 1.0))</td></tr><tr><td>2073</td><td>Map(vectorType -> sparse, length -> 18, indices -> List(2, 3, 4, 5, 6, 11, 12, 13, 15), values -> List(0.5, 1.0, 0.14914914914914915, 0.1, 1.0, 1.0, 1.0, 1.0, 1.0))</td></tr><tr><td>2523</td><td>Map(vectorType -> dense, length -> 18, values -> List(0.75, 1.0, 1.0, 1.0, 0.09909909909909911, 0.1, 1.0, 0.0, 0.0, 1.0, 0.0, 0.0, 1.0, 1.0, 1.0, 0.0, 1.0, 0.0))</td></tr><tr><td>2717</td><td>Map(vectorType -> dense, length -> 18, values -> List(0.25, 0.2, 0.5, 0.7333333333333333, 0.12412412412412413, 0.2, 0.0, 1.0, 0.0, 1.0, 0.0, 0.0, 1.0, 1.0, 1.0, 0.0, 0.0, 1.0))</td></tr><tr><td>3364</td><td>Map(vectorType -> dense, length -> 18, values -> List(0.125, 0.2, 0.5, 1.0, 0.09909909909909911, 0.1, 1.0, 0.0, 0.0, 1.0, 0.0, 0.0, 1.0, 1.0, 1.0, 1.0, 0.0, 0.0))</td></tr><tr><td>4046</td><td>Map(vectorType -> dense, length -> 18, values -> List(0.375, 0.4, 1.0, 0.4, 0.07407407407407408, 0.05, 1.0, 0.0, 0.0, 1.0, 0.0, 0.0, 1.0, 1.0, 0.0, 1.0, 0.0, 0.0))</td></tr><tr><td>4303</td><td>Map(vectorType -> sparse, length -> 18, indices -> List(3, 4, 5, 7, 9, 12, 13, 14, 15), values -> List(1.0, 0.14914914914914915, 0.2, 1.0, 1.0, 1.0, 1.0, 1.0, 1.0))</td></tr></tbody></table></div>"
      ]
     },
     "metadata": {
      "application/vnd.databricks.v1+output": {
       "addedWidgets": {},
       "aggData": [],
       "aggError": "",
       "aggOverflow": false,
       "aggSchema": [],
       "aggSeriesLimitReached": false,
       "aggType": "",
       "arguments": {},
       "columnCustomDisplayInfos": {},
       "data": [
        [
         85,
         {
          "indices": [
           0,
           2,
           3,
           4,
           5,
           9,
           12,
           13,
           15
          ],
          "length": 18,
          "values": [
           0.125,
           0.5,
           1.0,
           0.12412412412412413,
           0.05,
           1.0,
           1.0,
           1.0,
           1.0
          ],
          "vectorType": "sparse"
         }
        ],
        [
         2073,
         {
          "indices": [
           2,
           3,
           4,
           5,
           6,
           11,
           12,
           13,
           15
          ],
          "length": 18,
          "values": [
           0.5,
           1.0,
           0.14914914914914915,
           0.1,
           1.0,
           1.0,
           1.0,
           1.0,
           1.0
          ],
          "vectorType": "sparse"
         }
        ],
        [
         2523,
         {
          "length": 18,
          "values": [
           0.75,
           1.0,
           1.0,
           1.0,
           0.09909909909909911,
           0.1,
           1.0,
           0.0,
           0.0,
           1.0,
           0.0,
           0.0,
           1.0,
           1.0,
           1.0,
           0.0,
           1.0,
           0.0
          ],
          "vectorType": "dense"
         }
        ],
        [
         2717,
         {
          "length": 18,
          "values": [
           0.25,
           0.2,
           0.5,
           0.7333333333333333,
           0.12412412412412413,
           0.2,
           0.0,
           1.0,
           0.0,
           1.0,
           0.0,
           0.0,
           1.0,
           1.0,
           1.0,
           0.0,
           0.0,
           1.0
          ],
          "vectorType": "dense"
         }
        ],
        [
         3364,
         {
          "length": 18,
          "values": [
           0.125,
           0.2,
           0.5,
           1.0,
           0.09909909909909911,
           0.1,
           1.0,
           0.0,
           0.0,
           1.0,
           0.0,
           0.0,
           1.0,
           1.0,
           1.0,
           1.0,
           0.0,
           0.0
          ],
          "vectorType": "dense"
         }
        ],
        [
         4046,
         {
          "length": 18,
          "values": [
           0.375,
           0.4,
           1.0,
           0.4,
           0.07407407407407408,
           0.05,
           1.0,
           0.0,
           0.0,
           1.0,
           0.0,
           0.0,
           1.0,
           1.0,
           0.0,
           1.0,
           0.0,
           0.0
          ],
          "vectorType": "dense"
         }
        ],
        [
         4303,
         {
          "indices": [
           3,
           4,
           5,
           7,
           9,
           12,
           13,
           14,
           15
          ],
          "length": 18,
          "values": [
           1.0,
           0.14914914914914915,
           0.2,
           1.0,
           1.0,
           1.0,
           1.0,
           1.0,
           1.0
          ],
          "vectorType": "sparse"
         }
        ]
       ],
       "datasetInfos": [],
       "dbfsResultPath": null,
       "isJsonSchema": true,
       "metadata": {},
       "overflow": false,
       "plotOptions": {
        "customPlotOptions": {},
        "displayType": "table",
        "pivotAggregation": null,
        "pivotColumns": null,
        "xColumns": null,
        "yColumns": null
       },
       "removedWidgets": [],
       "schema": [
        {
         "metadata": "{}",
         "name": "household_id",
         "type": "\"long\""
        },
        {
         "metadata": "{\"ml_attr\":{\"attrs\":{\"numeric\":[{\"idx\":0,\"name\":\"scaled_num_features_0\"},{\"idx\":1,\"name\":\"scaled_num_features_1\"},{\"idx\":2,\"name\":\"scaled_num_features_2\"},{\"idx\":3,\"name\":\"scaled_num_features_3\"},{\"idx\":4,\"name\":\"scaled_num_features_4\"},{\"idx\":5,\"name\":\"scaled_num_features_5\"}],\"binary\":[{\"idx\":6,\"name\":\"cat_features_marital_status_onehot_M\"},{\"idx\":7,\"name\":\"cat_features_marital_status_onehot_S\"},{\"idx\":8,\"name\":\"cat_features_marital_status_onehot_A\"},{\"idx\":9,\"name\":\"cat_features_race_code_onehot_W\"},{\"idx\":10,\"name\":\"cat_features_race_code_onehot_B\"},{\"idx\":11,\"name\":\"cat_features_race_code_onehot_H\"},{\"idx\":12,\"name\":\"cat_features_dwelling_type_onehot_S\"},{\"idx\":13,\"name\":\"cat_features_home_owner_status_onehot_O\"},{\"idx\":14,\"name\":\"cat_features_gender_individual_onehot_M\"},{\"idx\":15,\"name\":\"cat_features_education_highest_onehot_1\"},{\"idx\":16,\"name\":\"cat_features_education_highest_onehot_2\"},{\"idx\":17,\"name\":\"cat_features_education_highest_onehot_3\"}]},\"num_attrs\":18}}",
         "name": "full_features",
         "type": "{\"type\":\"udt\",\"class\":\"org.apache.spark.ml.linalg.VectorUDT\",\"pyClass\":\"pyspark.ml.linalg.VectorUDT\",\"sqlType\":{\"type\":\"struct\",\"fields\":[{\"name\":\"type\",\"type\":\"byte\",\"nullable\":false,\"metadata\":{}},{\"name\":\"size\",\"type\":\"integer\",\"nullable\":true,\"metadata\":{}},{\"name\":\"indices\",\"type\":{\"type\":\"array\",\"elementType\":\"integer\",\"containsNull\":false},\"nullable\":true,\"metadata\":{}},{\"name\":\"values\",\"type\":{\"type\":\"array\",\"elementType\":\"double\",\"containsNull\":false},\"nullable\":true,\"metadata\":{}}]}}"
        }
       ],
       "type": "table"
      }
     },
     "output_type": "display_data"
    }
   ],
   "source": [
    "\n",
    "from pyspark.sql.functions import col\n",
    "from pyspark.sql.types import IntegerType, StringType, DoubleType\n",
    "\n",
    "numerical_cols = ['household_size', 'num_adults', 'num_generations',\\\n",
    "     'length_residence', 'home_market_value', 'net_worth']\n",
    "categorical_cols = ['marital_status', 'race_code', 'dwelling_type',\\\n",
    "     'home_owner_status', 'gender_individual', 'education_highest']\n",
    "\n",
    "indexed_col = [c + \"_index\" for c in categorical_cols]\n",
    "onehot_cols  = [c + \"_onehot\" for c in categorical_cols]\n",
    "\n",
    "assembler_stage = VectorAssembler(inputCols=numerical_cols, \\\n",
    "    outputCol='num_features')\n",
    "scaler_stage    = MinMaxScaler(inputCol='num_features', \\\n",
    "    outputCol='scaled_num_features')\n",
    "\n",
    "# אינדוקס: skip כדי שלא יווצר דלי \"invalid\"\n",
    "indexer = [StringIndexer(inputCol=c, outputCol=i, handleInvalid=\"skip\")\n",
    "           for c, i in zip(categorical_cols, indexed_col)]\n",
    "\n",
    "# OHE: dropLast=True (ברירת מחדל) + error כדי לא להוסיף דלי נוסף\n",
    "encoder = [OneHotEncoder(inputCol=i, outputCol=o, dropLast=True,\\\n",
    "     handleInvalid=\"error\")\n",
    "           for i, o in zip(indexed_col, onehot_cols)]\n",
    "\n",
    "onehot_assembler = VectorAssembler(inputCols=onehot_cols,\\\n",
    "     outputCol='cat_features')\n",
    "final_assembler  = VectorAssembler(inputCols=\\\n",
    "    ['scaled_num_features', 'cat_features'], outputCol='full_features')\n",
    "\n",
    "stages = [assembler_stage, scaler_stage] + indexer +\\\n",
    "     encoder + [onehot_assembler, final_assembler]\n",
    "\n",
    "pipeline = Pipeline(stages=stages)\n",
    "model = pipeline.fit(demographic_df)\n",
    "result_df = model.transform(demographic_df)\n",
    "\n",
    "# הצג 7 שורות לפי הדרישה\n",
    "display(result_df.select('household_id', 'full_features').limit(7))\n"
   ]
  },
  {
   "cell_type": "code",
   "execution_count": 0,
   "metadata": {
    "application/vnd.databricks.v1+cell": {
     "cellMetadata": {
      "byteLimit": 2048000,
      "rowLimit": 10000
     },
     "inputWidgets": {},
     "nuid": "d679acf1-f213-4a86-889b-349051ef7429",
     "showTitle": false,
     "tableResultSettingsMap": {},
     "title": ""
    }
   },
   "outputs": [
    {
     "output_type": "stream",
     "name": "stdout",
     "output_type": "stream",
     "text": [
      "Actual vector length: 18\nVector values: [0.125, 0.0, 0.5, 1.0, 0.12412412412412413, 0.05, 0.0, 0.0, 0.0, 1.0, 0.0, 0.0, 1.0, 1.0, 0.0, 1.0, 0.0, 0.0]\nDistinct counts per categorical: [('marital_status', 4), ('race_code', 4), ('dwelling_type', 2), ('home_owner_status', 2), ('gender_individual', 2), ('education_highest', 4)]\nExpected numerical part: 6\nExpected categorical one-hot part: 12\nExpected total vector length: 18\n"
     ]
    }
   ],
   "source": [
    "import pyspark.sql.functions as sfn\n",
    "from pyspark.ml.functions import vector_to_array as v2a\n",
    "\n",
    "# 1) Pull the vector safely (no 'col' alias anywhere)\n",
    "dbg = (result_df\n",
    "       .select(\"full_features\")\n",
    "       .withColumn(\"features_array\", v2a(sfn.col(\"full_features\"))))\n",
    "\n",
    "# Show actual length and values for one row\n",
    "row = dbg.select(\"features_array\").limit(1).collect()[0][\"features_array\"]\n",
    "print(\"Actual vector length:\", len(row))\n",
    "print(\"Vector values:\", row)\n",
    "\n",
    "# 2) Expected length (manual; no max, no risky aliases)\n",
    "numerical_cols = [\n",
    "    'household_size','num_adults','num_generations',\n",
    "    'length_residence','home_market_value','net_worth'\n",
    "]\n",
    "categorical_cols = [\n",
    "    'marital_status','race_code','dwelling_type',\n",
    "    'home_owner_status','gender_individual','education_highest'\n",
    "]\n",
    "\n",
    "num_len = len(numerical_cols)\n",
    "\n",
    "# distinct counts\n",
    "dcnts = []\n",
    "for name in categorical_cols:\n",
    "    dcnts.append((name, demographic_df.select(name).distinct().count()))\n",
    "\n",
    "# one-hot width = (count-1) if count>1 else 0\n",
    "cat_len = 0\n",
    "for _, d in dcnts:\n",
    "    d_minus_1 = d - 1\n",
    "    if d_minus_1 > 0:\n",
    "        cat_len += d_minus_1\n",
    "\n",
    "print(\"Distinct counts per categorical:\", dcnts)\n",
    "print(\"Expected numerical part:\", num_len)\n",
    "print(\"Expected categorical one-hot part:\", cat_len)\n",
    "print(\"Expected total vector length:\", num_len + cat_len)\n"
   ]
  },
  {
   "cell_type": "markdown",
   "metadata": {
    "application/vnd.databricks.v1+cell": {
     "cellMetadata": {
      "byteLimit": 2048000,
      "rowLimit": 10000
     },
     "inputWidgets": {},
     "nuid": "370bfcfa-c11e-464e-9ac6-8bc39d22e098",
     "showTitle": false,
     "tableResultSettingsMap": {},
     "title": ""
    }
   },
   "source": [
    "### Visual Analysis"
   ]
  },
  {
   "cell_type": "code",
   "execution_count": 0,
   "metadata": {
    "application/vnd.databricks.v1+cell": {
     "cellMetadata": {
      "byteLimit": 2048000,
      "rowLimit": 10000
     },
     "inputWidgets": {},
     "nuid": "4b4999e8-0a9a-498d-ab86-92779973debb",
     "showTitle": false,
     "tableResultSettingsMap": {},
     "title": ""
    }
   },
   "outputs": [],
   "source": [
    "from pyspark.ml.feature import PCA\n",
    "from pyspark.ml.functions import vector_to_array \n",
    "from pyspark.sql import functions as F\n"
   ]
  },
  {
   "cell_type": "code",
   "execution_count": 0,
   "metadata": {
    "application/vnd.databricks.v1+cell": {
     "cellMetadata": {
      "byteLimit": 2048000,
      "rowLimit": 10000
     },
     "inputWidgets": {},
     "nuid": "0d3da538-1e6c-4c5a-bd79-9f809556319a",
     "showTitle": false,
     "tableResultSettingsMap": {},
     "title": ""
    }
   },
   "outputs": [
    {
     "output_type": "stream",
     "name": "stdout",
     "output_type": "stream",
     "text": [
      "\uD83C\uDFC3 View run secretive-bird-812 at: https://adb-385435138940782.2.azuredatabricks.net/ml/experiments/30648897007770/runs/6cd0eab24f94476287cf5310320bdd57\n\uD83E\uDDEA View experiment at: https://adb-385435138940782.2.azuredatabricks.net/ml/experiments/30648897007770\n"
     ]
    },
    {
     "output_type": "display_data",
     "data": {
      "text/html": [
       "<style scoped>\n",
       "  .table-result-container {\n",
       "    max-height: 300px;\n",
       "    overflow: auto;\n",
       "  }\n",
       "  table, th, td {\n",
       "    border: 1px solid black;\n",
       "    border-collapse: collapse;\n",
       "  }\n",
       "  th, td {\n",
       "    padding: 5px;\n",
       "  }\n",
       "  th {\n",
       "    text-align: left;\n",
       "  }\n",
       "</style><div class='table-result-container'><table class='table-result'><thead style='background-color: white'><tr><th>x</th><th>y</th></tr></thead><tbody><tr><td>0.7696161667682888</td><td>-0.14328450444325935</td></tr><tr><td>1.0470607429479757</td><td>-0.8077002155153579</td></tr><tr><td>-0.21564461720437628</td><td>-1.6496380625532248</td></tr><tr><td>-0.1472713333051469</td><td>-0.009878108533882997</td></tr><tr><td>1.0866265581511159</td><td>-1.0202633541472845</td></tr><tr><td>0.9640643076197327</td><td>-0.9501483206226211</td></tr><tr><td>0.6852258565823554</td><td>0.33186218098408143</td></tr></tbody></table></div>"
      ]
     },
     "metadata": {
      "application/vnd.databricks.v1+output": {
       "addedWidgets": {},
       "aggData": [],
       "aggError": "",
       "aggOverflow": false,
       "aggSchema": [],
       "aggSeriesLimitReached": false,
       "aggType": "",
       "arguments": {},
       "columnCustomDisplayInfos": {},
       "data": [
        [
         0.7696161667682888,
         -0.14328450444325935
        ],
        [
         1.0470607429479757,
         -0.8077002155153579
        ],
        [
         -0.21564461720437628,
         -1.6496380625532248
        ],
        [
         -0.1472713333051469,
         -0.009878108533882997
        ],
        [
         1.0866265581511159,
         -1.0202633541472845
        ],
        [
         0.9640643076197327,
         -0.9501483206226211
        ],
        [
         0.6852258565823554,
         0.33186218098408143
        ]
       ],
       "datasetInfos": [],
       "dbfsResultPath": null,
       "isJsonSchema": true,
       "metadata": {},
       "overflow": false,
       "plotOptions": {
        "customPlotOptions": {},
        "displayType": "table",
        "pivotAggregation": null,
        "pivotColumns": null,
        "xColumns": null,
        "yColumns": null
       },
       "removedWidgets": [],
       "schema": [
        {
         "metadata": "{}",
         "name": "x",
         "type": "\"double\""
        },
        {
         "metadata": "{}",
         "name": "y",
         "type": "\"double\""
        }
       ],
       "type": "table"
      }
     },
     "output_type": "display_data"
    },
    {
     "output_type": "display_data",
     "data": {
      "image/png": "[encoded data removed]",
      "text/plain": [
       "<Figure size 640x480 with 1 Axes>"
      ]
     },
     "metadata": {},
     "output_type": "display_data"
    }
   ],
   "source": [
    "# PCA על וקטור הפיצ'רים\n",
    "pca = PCA(k=2, inputCol=\"full_features\", outputCol=\"pca_features\")\n",
    "pca_model = pca.fit(result_df)\n",
    "pca_result = pca_model.transform(result_df)\n",
    "\n",
    "# הוצאת x,y ממערך ה-PCA\n",
    "pca_result = (pca_result\n",
    "              .withColumn(\"pca_arr\", vector_to_array(F.col(\"pca_features\")))\n",
    "              .withColumn(\"x\", F.col(\"pca_arr\")[0])\n",
    "              .withColumn(\"y\", F.col(\"pca_arr\")[1])\n",
    "              .select(\"x\", \"y\"))\n",
    "\n",
    "# הצגת 7 שורות כפי שדרשו\n",
    "display(pca_result.limit(7))\n",
    "\n",
    "# (אופציונלי) סקאטר בפנדהס\n",
    "pdf = pca_result.select(\"x\",\"y\").toPandas()\n",
    "ax = pdf.plot(kind=\"scatter\", x=\"x\", y=\"y\", color=\"pink\", title=\"PCA (k=2)\")"
   ]
  },
  {
   "cell_type": "markdown",
   "metadata": {
    "application/vnd.databricks.v1+cell": {
     "cellMetadata": {
      "byteLimit": 2048000,
      "rowLimit": 10000
     },
     "inputWidgets": {},
     "nuid": "7815ce78-184b-4ea6-a3a4-094a551d9ba5",
     "showTitle": false,
     "tableResultSettingsMap": {},
     "title": ""
    }
   },
   "source": [
    "### Clustering"
   ]
  },
  {
   "cell_type": "code",
   "execution_count": 0,
   "metadata": {
    "application/vnd.databricks.v1+cell": {
     "cellMetadata": {
      "byteLimit": 2048000,
      "rowLimit": 10000
     },
     "inputWidgets": {},
     "nuid": "3762b305-e1dc-4517-9347-c873232665ce",
     "showTitle": false,
     "tableResultSettingsMap": {},
     "title": ""
    }
   },
   "outputs": [],
   "source": [
    "from pyspark.ml.clustering import KMeans\n",
    "from pyspark.ml.linalg import Vectors\n",
    "from pyspark.ml.linalg import VectorUDT\n",
    "from pyspark.sql.types import StructType, StructField, IntegerType"
   ]
  },
  {
   "cell_type": "code",
   "execution_count": 0,
   "metadata": {
    "application/vnd.databricks.v1+cell": {
     "cellMetadata": {
      "byteLimit": 2048000,
      "rowLimit": 10000
     },
     "inputWidgets": {},
     "nuid": "eb846ae9-9f02-4b22-8777-76c14bf28046",
     "showTitle": false,
     "tableResultSettingsMap": {},
     "title": ""
    }
   },
   "outputs": [
    {
     "output_type": "display_data",
     "data": {
      "application/vnd.jupyter.widget-view+json": {
       "model_id": "fe5660358e844fa3a951236dd0cf07d1",
       "version_major": 2,
       "version_minor": 0
      },
      "text/plain": [
       "Downloading artifacts:   0%|          | 0/15 [00:00<?, ?it/s]"
      ]
     },
     "metadata": {},
     "output_type": "display_data"
    },
    {
     "output_type": "display_data",
     "data": {
      "application/vnd.jupyter.widget-view+json": {
       "model_id": "bf68a0bc11fb4733b7e5ffebfdce8fde",
       "version_major": 2,
       "version_minor": 0
      },
      "text/plain": [
       "Uploading artifacts:   0%|          | 0/4 [00:00<?, ?it/s]"
      ]
     },
     "metadata": {},
     "output_type": "display_data"
    },
    {
     "output_type": "stream",
     "name": "stdout",
     "output_type": "stream",
     "text": [
      "\uD83C\uDFC3 View run luminous-donkey-969 at: https://adb-385435138940782.2.azuredatabricks.net/ml/experiments/30648897007770/runs/a20a2bc15fb3454da564df95d8cc3796\n\uD83E\uDDEA View experiment at: https://adb-385435138940782.2.azuredatabricks.net/ml/experiments/30648897007770\nroot\n |-- cluster: integer (nullable = false)\n |-- household_id: long (nullable = true)\n |-- household_size: integer (nullable = true)\n |-- num_adults: integer (nullable = true)\n |-- num_generations: integer (nullable = true)\n |-- marital_status: string (nullable = true)\n |-- race_code: string (nullable = true)\n |-- dwelling_type: string (nullable = true)\n |-- home_owner_status: string (nullable = true)\n |-- length_residence: integer (nullable = true)\n |-- home_market_value: double (nullable = true)\n |-- net_worth: double (nullable = true)\n |-- gender_individual: string (nullable = true)\n |-- education_highest: string (nullable = true)\n |-- num_features: vector (nullable = true)\n |-- scaled_num_features: vector (nullable = true)\n |-- marital_status_index: double (nullable = false)\n |-- race_code_index: double (nullable = false)\n |-- dwelling_type_index: double (nullable = false)\n |-- home_owner_status_index: double (nullable = false)\n |-- gender_individual_index: double (nullable = false)\n |-- education_highest_index: double (nullable = false)\n |-- marital_status_onehot: vector (nullable = true)\n |-- race_code_onehot: vector (nullable = true)\n |-- dwelling_type_onehot: vector (nullable = true)\n |-- home_owner_status_onehot: vector (nullable = true)\n |-- gender_individual_onehot: vector (nullable = true)\n |-- education_highest_onehot: vector (nullable = true)\n |-- cat_features: vector (nullable = true)\n |-- features: vector (nullable = true)\n |-- centroid: vector (nullable = true)\n |-- distance_to_centroid: double (nullable = true)\n\n"
     ]
    },
    {
     "output_type": "display_data",
     "data": {
      "text/html": [
       "<style scoped>\n",
       "  .table-result-container {\n",
       "    max-height: 300px;\n",
       "    overflow: auto;\n",
       "  }\n",
       "  table, th, td {\n",
       "    border: 1px solid black;\n",
       "    border-collapse: collapse;\n",
       "  }\n",
       "  th, td {\n",
       "    padding: 5px;\n",
       "  }\n",
       "  th {\n",
       "    text-align: left;\n",
       "  }\n",
       "</style><div class='table-result-container'><table class='table-result'><thead style='background-color: white'><tr><th>household_id</th><th>cluster</th><th>distance_to_centroid</th></tr></thead><tbody><tr><td>85</td><td>1</td><td>0.9568649711438204</td></tr><tr><td>2073</td><td>2</td><td>0.8481485938466666</td></tr><tr><td>2523</td><td>0</td><td>1.3296410205779297</td></tr><tr><td>2717</td><td>1</td><td>1.4315091453110265</td></tr><tr><td>3364</td><td>5</td><td>0.58615854643112</td></tr><tr><td>4046</td><td>5</td><td>0.9358106506190059</td></tr><tr><td>4303</td><td>1</td><td>0.9705720982818974</td></tr></tbody></table></div>"
      ]
     },
     "metadata": {
      "application/vnd.databricks.v1+output": {
       "addedWidgets": {},
       "aggData": [],
       "aggError": "",
       "aggOverflow": false,
       "aggSchema": [],
       "aggSeriesLimitReached": false,
       "aggType": "",
       "arguments": {},
       "columnCustomDisplayInfos": {},
       "data": [
        [
         85,
         1,
         0.9568649711438204
        ],
        [
         2073,
         2,
         0.8481485938466666
        ],
        [
         2523,
         0,
         1.3296410205779297
        ],
        [
         2717,
         1,
         1.4315091453110265
        ],
        [
         3364,
         5,
         0.58615854643112
        ],
        [
         4046,
         5,
         0.9358106506190059
        ],
        [
         4303,
         1,
         0.9705720982818974
        ]
       ],
       "datasetInfos": [],
       "dbfsResultPath": null,
       "isJsonSchema": true,
       "metadata": {},
       "overflow": false,
       "plotOptions": {
        "customPlotOptions": {},
        "displayType": "table",
        "pivotAggregation": null,
        "pivotColumns": null,
        "xColumns": null,
        "yColumns": null
       },
       "removedWidgets": [],
       "schema": [
        {
         "metadata": "{}",
         "name": "household_id",
         "type": "\"long\""
        },
        {
         "metadata": "{\"ml_attr\":{\"type\":\"nominal\",\"num_vals\":6}}",
         "name": "cluster",
         "type": "\"integer\""
        },
        {
         "metadata": "{}",
         "name": "distance_to_centroid",
         "type": "\"double\""
        }
       ],
       "type": "table"
      }
     },
     "output_type": "display_data"
    }
   ],
   "source": [
    "from pyspark.ml.clustering import KMeans\n",
    "from pyspark.ml.linalg import Vectors, VectorUDT\n",
    "from pyspark.ml.functions import vector_to_array\n",
    "from pyspark.sql import functions as F\n",
    "from pyspark.sql.types import StructType, StructField, IntegerType\n",
    "\n",
    "# Step 1: Rename the actual feature vector (full_features -> features)\n",
    "result_data = result_df.withColumnRenamed(\"full_features\", \"features\")\n",
    "\n",
    "# Step 2: Train KMeans model (k=6, seed=3). Use predictionCol='cluster'\n",
    "# 3 for clarity\n",
    "km = KMeans(k=6, seed=3, featuresCol=\"features\", predictionCol=\"cluster\")\n",
    "km_model = km.fit(result_data)\n",
    "km_result = km_model.transform(result_data)  # adds 'cluster'\n",
    "\n",
    "# Step 3: Convert cluster centers to Spark Vectors with schema\n",
    "centers = [(i, Vectors.dense(vec)) for i, vec in enumerate(km_model\\\n",
    "    .clusterCenters())]\n",
    "schema = StructType([\n",
    "    StructField(\"cluster\", IntegerType(), False),\n",
    "    StructField(\"centroid\", VectorUDT(), False)\n",
    "])\n",
    "center_df = spark.createDataFrame(centers, schema=schema)\n",
    "\n",
    "# Step 4: Join cluster assignments with cluster centers (by 'cluster')\n",
    "km_result = km_result.join(center_df, on=\"cluster\", how=\"left\")\n",
    "\n",
    "# Step 5: Convert vectors to arrays for Spark SQL operations\n",
    "km_result = (km_result\n",
    "    .withColumn(\"features_array\", vector_to_array(F.col(\"features\")))\n",
    "    .withColumn(\"centroid_array\", vector_to_array(F.col(\"centroid\"))))\n",
    "\n",
    "# Step 6: Compute distance to centroid (Euclidean). \n",
    "km_result = (km_result\n",
    "    .withColumn(\"distance_sq\",\n",
    "                F.expr(\"aggregate(zip_with(features_array, centroid_array\\\n",
    "                    , (x, y) -> pow(x - y, 2)), 0D, (acc, z) -> acc + z)\"))\n",
    "    .withColumn(\"distance_to_centroid\", F.sqrt(F.col(\"distance_sq\")))\n",
    "    .drop(\"features_array\", \"centroid_array\", \"distance_sq\"))\n",
    "\n",
    "# Step 7: Preview\n",
    "km_result.printSchema()\n",
    "display(km_result.select(\"household_id\", \"cluster\", \"distance_to_centroid\")\\\n",
    "    .limit(7))\n"
   ]
  },
  {
   "cell_type": "markdown",
   "metadata": {
    "application/vnd.databricks.v1+cell": {
     "cellMetadata": {
      "byteLimit": 2048000,
      "rowLimit": 10000
     },
     "inputWidgets": {},
     "nuid": "ee9d1af9-1ccf-4832-8706-eefe9703aea3",
     "showTitle": false,
     "tableResultSettingsMap": {},
     "title": ""
    }
   },
   "source": [
    "### Dividing households into subsets"
   ]
  },
  {
   "cell_type": "code",
   "execution_count": 0,
   "metadata": {
    "application/vnd.databricks.v1+cell": {
     "cellMetadata": {
      "byteLimit": 2048000,
      "rowLimit": 10000
     },
     "inputWidgets": {},
     "nuid": "a31da259-94aa-49c0-832f-86c7cb679bec",
     "showTitle": false,
     "tableResultSettingsMap": {},
     "title": ""
    }
   },
   "outputs": [],
   "source": [
    "from pyspark.sql.functions import col, expr, row_number\n",
    "from pyspark.sql.window import Window\n"
   ]
  },
  {
   "cell_type": "code",
   "execution_count": 0,
   "metadata": {
    "application/vnd.databricks.v1+cell": {
     "cellMetadata": {
      "byteLimit": 2048000,
      "rowLimit": 10000
     },
     "inputWidgets": {},
     "nuid": "fb53fb24-af9f-4280-93b7-66b8f06e2f59",
     "showTitle": false,
     "tableResultSettingsMap": {},
     "title": ""
    }
   },
   "outputs": [
    {
     "output_type": "display_data",
     "data": {
      "text/html": [
       "<style scoped>\n",
       "  .table-result-container {\n",
       "    max-height: 300px;\n",
       "    overflow: auto;\n",
       "  }\n",
       "  table, th, td {\n",
       "    border: 1px solid black;\n",
       "    border-collapse: collapse;\n",
       "  }\n",
       "  th, td {\n",
       "    padding: 5px;\n",
       "  }\n",
       "  th {\n",
       "    text-align: left;\n",
       "  }\n",
       "</style><div class='table-result-container'><table class='table-result'><thead style='background-color: white'><tr><th>household_id</th><th>cluster</th><th>distance_to_centroid</th><th>rank</th></tr></thead><tbody><tr><td>828</td><td>4</td><td>1.0431279601805084</td><td>324</td></tr><tr><td>907</td><td>4</td><td>1.2070723215901578</td><td>4118</td></tr><tr><td>1000</td><td>4</td><td>1.0497595374377215</td><td>433</td></tr><tr><td>1043</td><td>4</td><td>1.033987174114564</td><td>179</td></tr><tr><td>1124</td><td>4</td><td>1.0828574619897031</td><td>1000</td></tr><tr><td>1143</td><td>4</td><td>1.3656220515631412</td><td>6828</td></tr><tr><td>1365</td><td>4</td><td>1.1175355527246138</td><td>1743</td></tr><tr><td>1480</td><td>4</td><td>1.1583557895242602</td><td>2956</td></tr><tr><td>1531</td><td>4</td><td>1.1795273576703513</td><td>3483</td></tr><tr><td>1628</td><td>4</td><td>1.1303754450258676</td><td>2308</td></tr><tr><td>4279</td><td>4</td><td>1.1166131776738062</td><td>1717</td></tr><tr><td>4592</td><td>4</td><td>1.0477553641129658</td><td>397</td></tr><tr><td>4614</td><td>4</td><td>1.4385409850592639</td><td>8797</td></tr><tr><td>4778</td><td>4</td><td>1.1454968469897524</td><td>2543</td></tr><tr><td>5059</td><td>4</td><td>1.3787487240935672</td><td>7125</td></tr><tr><td>5376</td><td>4</td><td>1.1514819686185775</td><td>2731</td></tr><tr><td>5473</td><td>4</td><td>1.5855909337679925</td><td>10971</td></tr><tr><td>5493</td><td>4</td><td>1.6108033766256957</td><td>11157</td></tr><tr><td>5751</td><td>4</td><td>1.361438685152261</td><td>6770</td></tr><tr><td>5800</td><td>4</td><td>1.1065701742159162</td><td>1497</td></tr></tbody></table></div>"
      ]
     },
     "metadata": {
      "application/vnd.databricks.v1+output": {
       "addedWidgets": {},
       "aggData": [],
       "aggError": "",
       "aggOverflow": false,
       "aggSchema": [],
       "aggSeriesLimitReached": false,
       "aggType": "",
       "arguments": {},
       "columnCustomDisplayInfos": {},
       "data": [
        [
         828,
         4,
         1.0431279601805084,
         324
        ],
        [
         907,
         4,
         1.2070723215901578,
         4118
        ],
        [
         1000,
         4,
         1.0497595374377215,
         433
        ],
        [
         1043,
         4,
         1.033987174114564,
         179
        ],
        [
         1124,
         4,
         1.0828574619897031,
         1000
        ],
        [
         1143,
         4,
         1.3656220515631412,
         6828
        ],
        [
         1365,
         4,
         1.1175355527246138,
         1743
        ],
        [
         1480,
         4,
         1.1583557895242602,
         2956
        ],
        [
         1531,
         4,
         1.1795273576703513,
         3483
        ],
        [
         1628,
         4,
         1.1303754450258676,
         2308
        ],
        [
         4279,
         4,
         1.1166131776738062,
         1717
        ],
        [
         4592,
         4,
         1.0477553641129658,
         397
        ],
        [
         4614,
         4,
         1.4385409850592639,
         8797
        ],
        [
         4778,
         4,
         1.1454968469897524,
         2543
        ],
        [
         5059,
         4,
         1.3787487240935672,
         7125
        ],
        [
         5376,
         4,
         1.1514819686185775,
         2731
        ],
        [
         5473,
         4,
         1.5855909337679925,
         10971
        ],
        [
         5493,
         4,
         1.6108033766256957,
         11157
        ],
        [
         5751,
         4,
         1.361438685152261,
         6770
        ],
        [
         5800,
         4,
         1.1065701742159162,
         1497
        ]
       ],
       "datasetInfos": [],
       "dbfsResultPath": null,
       "isJsonSchema": true,
       "metadata": {},
       "overflow": false,
       "plotOptions": {
        "customPlotOptions": {},
        "displayType": "table",
        "pivotAggregation": null,
        "pivotColumns": null,
        "xColumns": null,
        "yColumns": null
       },
       "removedWidgets": [],
       "schema": [
        {
         "metadata": "{}",
         "name": "household_id",
         "type": "\"long\""
        },
        {
         "metadata": "{\"ml_attr\":{\"type\":\"nominal\",\"num_vals\":6}}",
         "name": "cluster",
         "type": "\"integer\""
        },
        {
         "metadata": "{}",
         "name": "distance_to_centroid",
         "type": "\"double\""
        },
        {
         "metadata": "{}",
         "name": "rank",
         "type": "\"integer\""
        }
       ],
       "type": "table"
      }
     },
     "output_type": "display_data"
    },
    {
     "output_type": "display_data",
     "data": {
      "text/html": [
       "<style scoped>\n",
       "  .table-result-container {\n",
       "    max-height: 300px;\n",
       "    overflow: auto;\n",
       "  }\n",
       "  table, th, td {\n",
       "    border: 1px solid black;\n",
       "    border-collapse: collapse;\n",
       "  }\n",
       "  th, td {\n",
       "    padding: 5px;\n",
       "  }\n",
       "  th {\n",
       "    text-align: left;\n",
       "  }\n",
       "</style><div class='table-result-container'><table class='table-result'><thead style='background-color: white'><tr><th>household_id</th><th>rank</th><th>distance_to_centroid</th></tr></thead><tbody><tr><td>3514686</td><td>3</td><td>0.7044092313106604</td></tr><tr><td>23167</td><td>6</td><td>0.7044092313106604</td></tr><tr><td>19916</td><td>9</td><td>0.7051120446118223</td></tr><tr><td>2164280</td><td>12</td><td>0.7053905341282163</td></tr><tr><td>2725436</td><td>15</td><td>0.7057182024603863</td></tr><tr><td>2410867</td><td>18</td><td>0.7065123836932489</td></tr><tr><td>2330934</td><td>21</td><td>0.7067903214482653</td></tr><tr><td>1969118</td><td>24</td><td>0.7067903214482653</td></tr><tr><td>3945526</td><td>27</td><td>0.7072564951095969</td></tr><tr><td>3240541</td><td>30</td><td>0.7072564951095969</td></tr><tr><td>1398348</td><td>33</td><td>0.7092062918941878</td></tr><tr><td>4023561</td><td>36</td><td>0.7092062918941878</td></tr><tr><td>2023792</td><td>39</td><td>0.7092985980455006</td></tr><tr><td>3667570</td><td>42</td><td>0.7092985980455006</td></tr><tr><td>1969049</td><td>45</td><td>0.7099965714637653</td></tr><tr><td>2569486</td><td>48</td><td>0.7102731458187951</td></tr><tr><td>75562</td><td>51</td><td>0.7102731458187951</td></tr><tr><td>2066351</td><td>54</td><td>0.7107463637845294</td></tr><tr><td>2360214</td><td>57</td><td>0.7113908565071598</td></tr><tr><td>2838227</td><td>60</td><td>0.7115252429186285</td></tr></tbody></table></div>"
      ]
     },
     "metadata": {
      "application/vnd.databricks.v1+output": {
       "addedWidgets": {},
       "aggData": [],
       "aggError": "",
       "aggOverflow": false,
       "aggSchema": [],
       "aggSeriesLimitReached": false,
       "aggType": "",
       "arguments": {},
       "columnCustomDisplayInfos": {},
       "data": [
        [
         3514686,
         3,
         0.7044092313106604
        ],
        [
         23167,
         6,
         0.7044092313106604
        ],
        [
         19916,
         9,
         0.7051120446118223
        ],
        [
         2164280,
         12,
         0.7053905341282163
        ],
        [
         2725436,
         15,
         0.7057182024603863
        ],
        [
         2410867,
         18,
         0.7065123836932489
        ],
        [
         2330934,
         21,
         0.7067903214482653
        ],
        [
         1969118,
         24,
         0.7067903214482653
        ],
        [
         3945526,
         27,
         0.7072564951095969
        ],
        [
         3240541,
         30,
         0.7072564951095969
        ],
        [
         1398348,
         33,
         0.7092062918941878
        ],
        [
         4023561,
         36,
         0.7092062918941878
        ],
        [
         2023792,
         39,
         0.7092985980455006
        ],
        [
         3667570,
         42,
         0.7092985980455006
        ],
        [
         1969049,
         45,
         0.7099965714637653
        ],
        [
         2569486,
         48,
         0.7102731458187951
        ],
        [
         75562,
         51,
         0.7102731458187951
        ],
        [
         2066351,
         54,
         0.7107463637845294
        ],
        [
         2360214,
         57,
         0.7113908565071598
        ],
        [
         2838227,
         60,
         0.7115252429186285
        ]
       ],
       "datasetInfos": [],
       "dbfsResultPath": null,
       "isJsonSchema": true,
       "metadata": {},
       "overflow": false,
       "plotOptions": {
        "customPlotOptions": {},
        "displayType": "table",
        "pivotAggregation": null,
        "pivotColumns": null,
        "xColumns": null,
        "yColumns": null
       },
       "removedWidgets": [],
       "schema": [
        {
         "metadata": "{}",
         "name": "household_id",
         "type": "\"long\""
        },
        {
         "metadata": "{}",
         "name": "rank",
         "type": "\"integer\""
        },
        {
         "metadata": "{}",
         "name": "distance_to_centroid",
         "type": "\"double\""
        }
       ],
       "type": "table"
      }
     },
     "output_type": "display_data"
    },
    {
     "output_type": "display_data",
     "data": {
      "text/html": [
       "<style scoped>\n",
       "  .table-result-container {\n",
       "    max-height: 300px;\n",
       "    overflow: auto;\n",
       "  }\n",
       "  table, th, td {\n",
       "    border: 1px solid black;\n",
       "    border-collapse: collapse;\n",
       "  }\n",
       "  th, td {\n",
       "    padding: 5px;\n",
       "  }\n",
       "  th {\n",
       "    text-align: left;\n",
       "  }\n",
       "</style><div class='table-result-container'><table class='table-result'><thead style='background-color: white'><tr><th>household_id</th><th>rank</th><th>distance_to_centroid</th></tr></thead><tbody><tr><td>1942214</td><td>17</td><td>0.7058109647851379</td></tr><tr><td>1587557</td><td>34</td><td>0.7092062918941878</td></tr><tr><td>75562</td><td>51</td><td>0.7102731458187951</td></tr><tr><td>2156491</td><td>68</td><td>0.7126346736912084</td></tr><tr><td>3665179</td><td>85</td><td>0.7129129849888168</td></tr><tr><td>19624</td><td>102</td><td>0.7134667194446199</td></tr><tr><td>2208866</td><td>119</td><td>0.7139743002200348</td></tr><tr><td>3236947</td><td>136</td><td>0.7141606192279557</td></tr><tr><td>3031763</td><td>153</td><td>0.7148052168459772</td></tr><tr><td>2229286</td><td>170</td><td>0.7152644128448189</td></tr><tr><td>4096113</td><td>187</td><td>0.7163660428468467</td></tr><tr><td>3169225</td><td>204</td><td>0.7169908935863186</td></tr><tr><td>2127562</td><td>221</td><td>0.7174679882619238</td></tr><tr><td>2755052</td><td>238</td><td>0.7175592316370967</td></tr><tr><td>2035258</td><td>255</td><td>0.7182491776595429</td></tr><tr><td>1474528</td><td>272</td><td>0.7188017425932216</td></tr><tr><td>2709639</td><td>289</td><td>0.7195766383401799</td></tr><tr><td>2043331</td><td>306</td><td>0.7202600845422643</td></tr><tr><td>2059812</td><td>323</td><td>0.7203509742561873</td></tr><tr><td>21373</td><td>340</td><td>0.72067367461391</td></tr></tbody></table></div>"
      ]
     },
     "metadata": {
      "application/vnd.databricks.v1+output": {
       "addedWidgets": {},
       "aggData": [],
       "aggError": "",
       "aggOverflow": false,
       "aggSchema": [],
       "aggSeriesLimitReached": false,
       "aggType": "",
       "arguments": {},
       "columnCustomDisplayInfos": {},
       "data": [
        [
         1942214,
         17,
         0.7058109647851379
        ],
        [
         1587557,
         34,
         0.7092062918941878
        ],
        [
         75562,
         51,
         0.7102731458187951
        ],
        [
         2156491,
         68,
         0.7126346736912084
        ],
        [
         3665179,
         85,
         0.7129129849888168
        ],
        [
         19624,
         102,
         0.7134667194446199
        ],
        [
         2208866,
         119,
         0.7139743002200348
        ],
        [
         3236947,
         136,
         0.7141606192279557
        ],
        [
         3031763,
         153,
         0.7148052168459772
        ],
        [
         2229286,
         170,
         0.7152644128448189
        ],
        [
         4096113,
         187,
         0.7163660428468467
        ],
        [
         3169225,
         204,
         0.7169908935863186
        ],
        [
         2127562,
         221,
         0.7174679882619238
        ],
        [
         2755052,
         238,
         0.7175592316370967
        ],
        [
         2035258,
         255,
         0.7182491776595429
        ],
        [
         1474528,
         272,
         0.7188017425932216
        ],
        [
         2709639,
         289,
         0.7195766383401799
        ],
        [
         2043331,
         306,
         0.7202600845422643
        ],
        [
         2059812,
         323,
         0.7203509742561873
        ],
        [
         21373,
         340,
         0.72067367461391
        ]
       ],
       "datasetInfos": [],
       "dbfsResultPath": null,
       "isJsonSchema": true,
       "metadata": {},
       "overflow": false,
       "plotOptions": {
        "customPlotOptions": {},
        "displayType": "table",
        "pivotAggregation": null,
        "pivotColumns": null,
        "xColumns": null,
        "yColumns": null
       },
       "removedWidgets": [],
       "schema": [
        {
         "metadata": "{}",
         "name": "household_id",
         "type": "\"long\""
        },
        {
         "metadata": "{}",
         "name": "rank",
         "type": "\"integer\""
        },
        {
         "metadata": "{}",
         "name": "distance_to_centroid",
         "type": "\"double\""
        }
       ],
       "type": "table"
      }
     },
     "output_type": "display_data"
    }
   ],
   "source": [
    "windowspec = Window.partitionBy(\"cluster\").orderBy(\"distance_to_centroid\")\n",
    "assigned = km_result.withColumn(\"rank\", row_number().over(windowspec))\n",
    "full_subsets = {}\n",
    "thirds_subsets = {}\n",
    "seventeenths_subsets = {}\n",
    "for i in range(6):\n",
    "    full_subsets[i] = assigned.filter(col(\"cluster\") == i)\n",
    "    thirds_subsets[i] = full_subsets[i].filter(col(\"rank\") % 3 == 0)\n",
    "    seventeenths_subsets[i] = full_subsets[i].filter(col(\"rank\") % 17 == 0)\n",
    "for i in range(6):\n",
    "    thirds_subsets[i] = thirds_subsets[i].cache()\n",
    "    \n",
    "display(full_subsets[4].select(\"household_id\", \"cluster\", \\\n",
    "    \"distance_to_centroid\", \"rank\").orderBy(\"household_id\").limit(20))\n",
    "\n",
    "display(thirds_subsets[0].select(\"household_id\", \"rank\", \\\n",
    "    \"distance_to_centroid\").orderBy(\"rank\").limit(20))\n",
    "\n",
    "display(seventeenths_subsets[0].select(\"household_id\", \"rank\"\\\n",
    "    , \"distance_to_centroid\").orderBy(\"rank\").limit(20))\n"
   ]
  },
  {
   "cell_type": "markdown",
   "metadata": {
    "application/vnd.databricks.v1+cell": {
     "cellMetadata": {
      "byteLimit": 2048000,
      "rowLimit": 10000
     },
     "inputWidgets": {},
     "nuid": "75e1419a-5cee-4bb4-aaa4-ee04b18f1d0d",
     "showTitle": false,
     "tableResultSettingsMap": {},
     "title": ""
    }
   },
   "source": [
    "### Cluster’s Viewing Analysis"
   ]
  },
  {
   "cell_type": "code",
   "execution_count": 0,
   "metadata": {
    "application/vnd.databricks.v1+cell": {
     "cellMetadata": {
      "byteLimit": 2048000,
      "rowLimit": 10000
     },
     "inputWidgets": {},
     "nuid": "64fa5e01-2af7-4067-b5f2-233bc9275ec1",
     "showTitle": false,
     "tableResultSettingsMap": {},
     "title": ""
    }
   },
   "outputs": [
    {
     "output_type": "display_data",
     "data": {
      "text/html": [
       "<style scoped>\n",
       "  .table-result-container {\n",
       "    max-height: 300px;\n",
       "    overflow: auto;\n",
       "  }\n",
       "  table, th, td {\n",
       "    border: 1px solid black;\n",
       "    border-collapse: collapse;\n",
       "  }\n",
       "  th, td {\n",
       "    padding: 5px;\n",
       "  }\n",
       "  th {\n",
       "    text-align: left;\n",
       "  }\n",
       "</style><div class='table-result-container'><table class='table-result'><thead style='background-color: white'><tr><th>station_num</th><th>count</th><th>genreal_precentage</th></tr></thead><tbody><tr><td>11458</td><td>7864</td><td>0.108872122741966</td></tr><tr><td>11858</td><td>1777</td><td>0.02460144482610295</td></tr><tr><td>32414</td><td>644</td><td>0.00891577403939803</td></tr><tr><td>31035</td><td>2826</td><td>0.03912418856419074</td></tr><tr><td>11317</td><td>8777</td><td>0.12151203221086415</td></tr><tr><td>10817</td><td>196</td><td>0.002713496446773314</td></tr><tr><td>31236</td><td>863</td><td>0.011947690987578417</td></tr><tr><td>43714</td><td>497</td><td>0.0068806517043180455</td></tr><tr><td>59355</td><td>33</td><td>4.5686419767101706E-4</td></tr><tr><td>22223</td><td>6</td><td>8.306621775836674E-5</td></tr><tr><td>52697</td><td>93</td><td>0.0012875263752546845</td></tr><tr><td>26623</td><td>61</td><td>8.445065472100618E-4</td></tr><tr><td>63964</td><td>8</td><td>1.1075495701115566E-4</td></tr><tr><td>10121</td><td>5859</td><td>0.08111416164104512</td></tr><tr><td>15004</td><td>2968</td><td>0.04109008905113875</td></tr><tr><td>10462</td><td>3385</td><td>0.04686319118534524</td></tr><tr><td>34878</td><td>2089</td><td>0.028920888149538023</td></tr><tr><td>19614</td><td>1476</td><td>0.020434289568558216</td></tr><tr><td>10703</td><td>73</td><td>0.0010106389827267955</td></tr><tr><td>14075</td><td>143</td><td>0.001979744856574407</td></tr></tbody></table></div>"
      ]
     },
     "metadata": {
      "application/vnd.databricks.v1+output": {
       "addedWidgets": {},
       "aggData": [],
       "aggError": "",
       "aggOverflow": false,
       "aggSchema": [],
       "aggSeriesLimitReached": false,
       "aggType": "",
       "arguments": {},
       "columnCustomDisplayInfos": {},
       "data": [
        [
         11458,
         7864,
         0.108872122741966
        ],
        [
         11858,
         1777,
         0.02460144482610295
        ],
        [
         32414,
         644,
         0.00891577403939803
        ],
        [
         31035,
         2826,
         0.03912418856419074
        ],
        [
         11317,
         8777,
         0.12151203221086415
        ],
        [
         10817,
         196,
         0.002713496446773314
        ],
        [
         31236,
         863,
         0.011947690987578417
        ],
        [
         43714,
         497,
         0.0068806517043180455
        ],
        [
         59355,
         33,
         4.5686419767101706E-4
        ],
        [
         22223,
         6,
         8.306621775836674E-5
        ],
        [
         52697,
         93,
         0.0012875263752546845
        ],
        [
         26623,
         61,
         8.445065472100618E-4
        ],
        [
         63964,
         8,
         1.1075495701115566E-4
        ],
        [
         10121,
         5859,
         0.08111416164104512
        ],
        [
         15004,
         2968,
         0.04109008905113875
        ],
        [
         10462,
         3385,
         0.04686319118534524
        ],
        [
         34878,
         2089,
         0.028920888149538023
        ],
        [
         19614,
         1476,
         0.020434289568558216
        ],
        [
         10703,
         73,
         0.0010106389827267955
        ],
        [
         14075,
         143,
         0.001979744856574407
        ]
       ],
       "datasetInfos": [],
       "dbfsResultPath": null,
       "isJsonSchema": true,
       "metadata": {},
       "overflow": false,
       "plotOptions": {
        "customPlotOptions": {},
        "displayType": "table",
        "pivotAggregation": null,
        "pivotColumns": null,
        "xColumns": null,
        "yColumns": null
       },
       "removedWidgets": [],
       "schema": [
        {
         "metadata": "{}",
         "name": "station_num",
         "type": "\"integer\""
        },
        {
         "metadata": "{}",
         "name": "count",
         "type": "\"long\""
        },
        {
         "metadata": "{}",
         "name": "genreal_precentage",
         "type": "\"double\""
        }
       ],
       "type": "table"
      }
     },
     "output_type": "display_data"
    },
    {
     "output_type": "stream",
     "name": "stdout",
     "output_type": "stream",
     "text": [
      "7223153\n"
     ]
    }
   ],
   "source": [
    "from pyspark.sql.functions import col, count, lit\n",
    "\n",
    "# סופרים רק צפיות עם מספר תחנה תקין\n",
    "all_count = viewing_static_df.where(col(\"station_num\").\\\n",
    "  isNotNull()).count()\n",
    "\n",
    "# שומרים על שם העמודה המקורי כדי לא לשבור קוד בהמשך\n",
    "general_population = (\n",
    "    viewing_static_df\n",
    "      .where(col(\"station_num\").isNotNull())\n",
    "      .groupBy(\"station_num\")\n",
    "      .agg(count(\"*\").alias(\"count\"))\n",
    "      .withColumn(\"genreal_precentage\", (col(\"count\") / \\\n",
    "        lit(all_count)) * 100)  # אחוזים\n",
    ")\n",
    "\n",
    "display(general_population.limit(20))\n",
    "print(all_count)\n"
   ]
  },
  {
   "cell_type": "code",
   "execution_count": 0,
   "metadata": {
    "application/vnd.databricks.v1+cell": {
     "cellMetadata": {
      "byteLimit": 2048000,
      "rowLimit": 10000
     },
     "inputWidgets": {},
     "nuid": "6f520209-c4d0-4296-81a6-8f2086f52983",
     "showTitle": false,
     "tableResultSettingsMap": {},
     "title": ""
    }
   },
   "outputs": [
    {
     "output_type": "stream",
     "name": "stdout",
     "output_type": "stream",
     "text": [
      "+------------+-----+\n|household_id|count|\n+------------+-----+\n|     2724124| 3388|\n|     3611285| 2570|\n|     2509469| 2037|\n|     2901019| 1845|\n|     3617223| 1797|\n|     2460935| 1745|\n|      408868| 1709|\n|     2663349| 1636|\n|     2057408| 1624|\n|     3616005| 1587|\n|     2903914| 1578|\n|     2904998| 1478|\n|     2715652| 1471|\n|     2257104| 1429|\n|     1471911| 1421|\n|      649170| 1407|\n|       45491| 1405|\n|     2691943| 1388|\n|     3798503| 1381|\n|      404684| 1286|\n+------------+-----+\nonly showing top 20 rows\n\n"
     ]
    }
   ],
   "source": [
    "from pyspark.sql.functions import col, count\n",
    "\n",
    "tmp = (\n",
    "    viewing_static_df\n",
    "      .where(col(\"station_num\").isNotNull())  \n",
    "      .groupBy(\"household_id\")\n",
    "      .agg(count(\"*\").alias(\"count\"))\n",
    "      .select(\"household_id\", \"count\")\n",
    "      .orderBy(\"count\", ascending=False)\n",
    ")\n",
    "\n",
    "tmp.show()\n"
   ]
  },
  {
   "cell_type": "code",
   "execution_count": 0,
   "metadata": {
    "application/vnd.databricks.v1+cell": {
     "cellMetadata": {
      "byteLimit": 2048000,
      "rowLimit": 10000
     },
     "inputWidgets": {},
     "nuid": "2b5634d0-27ce-468d-a04a-b859cea99d57",
     "showTitle": false,
     "tableResultSettingsMap": {},
     "title": ""
    }
   },
   "outputs": [
    {
     "output_type": "stream",
     "name": "stdout",
     "output_type": "stream",
     "text": [
      "\nCluster 0:\n  Full subset → 78987 households\n  Viewing rows (Full) → 1565983\n"
     ]
    },
    {
     "output_type": "display_data",
     "data": {
      "text/html": [
       "<style scoped>\n",
       "  .table-result-container {\n",
       "    max-height: 300px;\n",
       "    overflow: auto;\n",
       "  }\n",
       "  table, th, td {\n",
       "    border: 1px solid black;\n",
       "    border-collapse: collapse;\n",
       "  }\n",
       "  th, td {\n",
       "    padding: 5px;\n",
       "  }\n",
       "  th {\n",
       "    text-align: left;\n",
       "  }\n",
       "</style><div class='table-result-container'><table class='table-result'><thead style='background-color: white'><tr><th>household_id</th><th>station_num</th></tr></thead><tbody><tr><td>3642303</td><td>18510</td></tr><tr><td>2971023</td><td>10035</td></tr><tr><td>3760805</td><td>21250</td></tr><tr><td>49895</td><td>19326</td></tr><tr><td>2276833</td><td>32786</td></tr></tbody></table></div>"
      ]
     },
     "metadata": {
      "application/vnd.databricks.v1+output": {
       "addedWidgets": {},
       "aggData": [],
       "aggError": "",
       "aggOverflow": false,
       "aggSchema": [],
       "aggSeriesLimitReached": false,
       "aggType": "",
       "arguments": {},
       "columnCustomDisplayInfos": {},
       "data": [
        [
         3642303,
         18510
        ],
        [
         2971023,
         10035
        ],
        [
         3760805,
         21250
        ],
        [
         49895,
         19326
        ],
        [
         2276833,
         32786
        ]
       ],
       "datasetInfos": [],
       "dbfsResultPath": null,
       "isJsonSchema": true,
       "metadata": {},
       "overflow": false,
       "plotOptions": {
        "customPlotOptions": {},
        "displayType": "table",
        "pivotAggregation": null,
        "pivotColumns": null,
        "xColumns": null,
        "yColumns": null
       },
       "removedWidgets": [],
       "schema": [
        {
         "metadata": "{}",
         "name": "household_id",
         "type": "\"integer\""
        },
        {
         "metadata": "{}",
         "name": "station_num",
         "type": "\"integer\""
        }
       ],
       "type": "table"
      }
     },
     "output_type": "display_data"
    },
    {
     "output_type": "stream",
     "name": "stdout",
     "output_type": "stream",
     "text": [
      "  Thirds subset → 26329 households\n  Viewing rows (Thirds) → 526001\n"
     ]
    },
    {
     "output_type": "display_data",
     "data": {
      "text/html": [
       "<style scoped>\n",
       "  .table-result-container {\n",
       "    max-height: 300px;\n",
       "    overflow: auto;\n",
       "  }\n",
       "  table, th, td {\n",
       "    border: 1px solid black;\n",
       "    border-collapse: collapse;\n",
       "  }\n",
       "  th, td {\n",
       "    padding: 5px;\n",
       "  }\n",
       "  th {\n",
       "    text-align: left;\n",
       "  }\n",
       "</style><div class='table-result-container'><table class='table-result'><thead style='background-color: white'><tr><th>household_id</th><th>station_num</th></tr></thead><tbody><tr><td>3642303</td><td>18510</td></tr><tr><td>3760805</td><td>21250</td></tr><tr><td>52858</td><td>19313</td></tr><tr><td>3224853</td><td>31042</td></tr><tr><td>2744790</td><td>64244</td></tr></tbody></table></div>"
      ]
     },
     "metadata": {
      "application/vnd.databricks.v1+output": {
       "addedWidgets": {},
       "aggData": [],
       "aggError": "",
       "aggOverflow": false,
       "aggSchema": [],
       "aggSeriesLimitReached": false,
       "aggType": "",
       "arguments": {},
       "columnCustomDisplayInfos": {},
       "data": [
        [
         3642303,
         18510
        ],
        [
         3760805,
         21250
        ],
        [
         52858,
         19313
        ],
        [
         3224853,
         31042
        ],
        [
         2744790,
         64244
        ]
       ],
       "datasetInfos": [],
       "dbfsResultPath": null,
       "isJsonSchema": true,
       "metadata": {},
       "overflow": false,
       "plotOptions": {
        "customPlotOptions": {},
        "displayType": "table",
        "pivotAggregation": null,
        "pivotColumns": null,
        "xColumns": null,
        "yColumns": null
       },
       "removedWidgets": [],
       "schema": [
        {
         "metadata": "{}",
         "name": "household_id",
         "type": "\"integer\""
        },
        {
         "metadata": "{}",
         "name": "station_num",
         "type": "\"integer\""
        }
       ],
       "type": "table"
      }
     },
     "output_type": "display_data"
    },
    {
     "output_type": "stream",
     "name": "stdout",
     "output_type": "stream",
     "text": [
      "  17ths subset → 4646 households\n  Viewing rows (17ths) → 96688\n"
     ]
    },
    {
     "output_type": "display_data",
     "data": {
      "text/html": [
       "<style scoped>\n",
       "  .table-result-container {\n",
       "    max-height: 300px;\n",
       "    overflow: auto;\n",
       "  }\n",
       "  table, th, td {\n",
       "    border: 1px solid black;\n",
       "    border-collapse: collapse;\n",
       "  }\n",
       "  th, td {\n",
       "    padding: 5px;\n",
       "  }\n",
       "  th {\n",
       "    text-align: left;\n",
       "  }\n",
       "</style><div class='table-result-container'><table class='table-result'><thead style='background-color: white'><tr><th>household_id</th><th>station_num</th></tr></thead><tbody><tr><td>1518381</td><td>32645</td></tr><tr><td>2715978</td><td>80619</td></tr><tr><td>20635</td><td>14771</td></tr><tr><td>2424532</td><td>21883</td></tr><tr><td>2673747</td><td>32677</td></tr></tbody></table></div>"
      ]
     },
     "metadata": {
      "application/vnd.databricks.v1+output": {
       "addedWidgets": {},
       "aggData": [],
       "aggError": "",
       "aggOverflow": false,
       "aggSchema": [],
       "aggSeriesLimitReached": false,
       "aggType": "",
       "arguments": {},
       "columnCustomDisplayInfos": {},
       "data": [
        [
         1518381,
         32645
        ],
        [
         2715978,
         80619
        ],
        [
         20635,
         14771
        ],
        [
         2424532,
         21883
        ],
        [
         2673747,
         32677
        ]
       ],
       "datasetInfos": [],
       "dbfsResultPath": null,
       "isJsonSchema": true,
       "metadata": {},
       "overflow": false,
       "plotOptions": {
        "customPlotOptions": {},
        "displayType": "table",
        "pivotAggregation": null,
        "pivotColumns": null,
        "xColumns": null,
        "yColumns": null
       },
       "removedWidgets": [],
       "schema": [
        {
         "metadata": "{}",
         "name": "household_id",
         "type": "\"integer\""
        },
        {
         "metadata": "{}",
         "name": "station_num",
         "type": "\"integer\""
        }
       ],
       "type": "table"
      }
     },
     "output_type": "display_data"
    },
    {
     "output_type": "stream",
     "name": "stdout",
     "output_type": "stream",
     "text": [
      "\nCluster 1:\n  Full subset → 87383 households\n  Viewing rows (Full) → 1701257\n"
     ]
    },
    {
     "output_type": "display_data",
     "data": {
      "text/html": [
       "<style scoped>\n",
       "  .table-result-container {\n",
       "    max-height: 300px;\n",
       "    overflow: auto;\n",
       "  }\n",
       "  table, th, td {\n",
       "    border: 1px solid black;\n",
       "    border-collapse: collapse;\n",
       "  }\n",
       "  th, td {\n",
       "    padding: 5px;\n",
       "  }\n",
       "  th {\n",
       "    text-align: left;\n",
       "  }\n",
       "</style><div class='table-result-container'><table class='table-result'><thead style='background-color: white'><tr><th>household_id</th><th>station_num</th></tr></thead><tbody><tr><td>3787015</td><td>11218</td></tr><tr><td>3645541</td><td>58812</td></tr><tr><td>3825751</td><td>35513</td></tr><tr><td>2838674</td><td>14771</td></tr><tr><td>2679446</td><td>16752</td></tr></tbody></table></div>"
      ]
     },
     "metadata": {
      "application/vnd.databricks.v1+output": {
       "addedWidgets": {},
       "aggData": [],
       "aggError": "",
       "aggOverflow": false,
       "aggSchema": [],
       "aggSeriesLimitReached": false,
       "aggType": "",
       "arguments": {},
       "columnCustomDisplayInfos": {},
       "data": [
        [
         3787015,
         11218
        ],
        [
         3645541,
         58812
        ],
        [
         3825751,
         35513
        ],
        [
         2838674,
         14771
        ],
        [
         2679446,
         16752
        ]
       ],
       "datasetInfos": [],
       "dbfsResultPath": null,
       "isJsonSchema": true,
       "metadata": {},
       "overflow": false,
       "plotOptions": {
        "customPlotOptions": {},
        "displayType": "table",
        "pivotAggregation": null,
        "pivotColumns": null,
        "xColumns": null,
        "yColumns": null
       },
       "removedWidgets": [],
       "schema": [
        {
         "metadata": "{}",
         "name": "household_id",
         "type": "\"integer\""
        },
        {
         "metadata": "{}",
         "name": "station_num",
         "type": "\"integer\""
        }
       ],
       "type": "table"
      }
     },
     "output_type": "display_data"
    },
    {
     "output_type": "stream",
     "name": "stdout",
     "output_type": "stream",
     "text": [
      "  Thirds subset → 29127 households\n  Viewing rows (Thirds) → 559437\n"
     ]
    },
    {
     "output_type": "display_data",
     "data": {
      "text/html": [
       "<style scoped>\n",
       "  .table-result-container {\n",
       "    max-height: 300px;\n",
       "    overflow: auto;\n",
       "  }\n",
       "  table, th, td {\n",
       "    border: 1px solid black;\n",
       "    border-collapse: collapse;\n",
       "  }\n",
       "  th, td {\n",
       "    padding: 5px;\n",
       "  }\n",
       "  th {\n",
       "    text-align: left;\n",
       "  }\n",
       "</style><div class='table-result-container'><table class='table-result'><thead style='background-color: white'><tr><th>household_id</th><th>station_num</th></tr></thead><tbody><tr><td>3787015</td><td>11218</td></tr><tr><td>3645541</td><td>58812</td></tr><tr><td>1605319</td><td>49788</td></tr><tr><td>2054439</td><td>60468</td></tr><tr><td>1489172</td><td>12574</td></tr></tbody></table></div>"
      ]
     },
     "metadata": {
      "application/vnd.databricks.v1+output": {
       "addedWidgets": {},
       "aggData": [],
       "aggError": "",
       "aggOverflow": false,
       "aggSchema": [],
       "aggSeriesLimitReached": false,
       "aggType": "",
       "arguments": {},
       "columnCustomDisplayInfos": {},
       "data": [
        [
         3787015,
         11218
        ],
        [
         3645541,
         58812
        ],
        [
         1605319,
         49788
        ],
        [
         2054439,
         60468
        ],
        [
         1489172,
         12574
        ]
       ],
       "datasetInfos": [],
       "dbfsResultPath": null,
       "isJsonSchema": true,
       "metadata": {},
       "overflow": false,
       "plotOptions": {
        "customPlotOptions": {},
        "displayType": "table",
        "pivotAggregation": null,
        "pivotColumns": null,
        "xColumns": null,
        "yColumns": null
       },
       "removedWidgets": [],
       "schema": [
        {
         "metadata": "{}",
         "name": "household_id",
         "type": "\"integer\""
        },
        {
         "metadata": "{}",
         "name": "station_num",
         "type": "\"integer\""
        }
       ],
       "type": "table"
      }
     },
     "output_type": "display_data"
    },
    {
     "output_type": "stream",
     "name": "stdout",
     "output_type": "stream",
     "text": [
      "  17ths subset → 5140 households\n  Viewing rows (17ths) → 97810\n"
     ]
    },
    {
     "output_type": "display_data",
     "data": {
      "text/html": [
       "<style scoped>\n",
       "  .table-result-container {\n",
       "    max-height: 300px;\n",
       "    overflow: auto;\n",
       "  }\n",
       "  table, th, td {\n",
       "    border: 1px solid black;\n",
       "    border-collapse: collapse;\n",
       "  }\n",
       "  th, td {\n",
       "    padding: 5px;\n",
       "  }\n",
       "  th {\n",
       "    text-align: left;\n",
       "  }\n",
       "</style><div class='table-result-container'><table class='table-result'><thead style='background-color: white'><tr><th>household_id</th><th>station_num</th></tr></thead><tbody><tr><td>2054439</td><td>60468</td></tr><tr><td>3821486</td><td>45507</td></tr><tr><td>2054439</td><td>59337</td></tr><tr><td>2670137</td><td>42642</td></tr><tr><td>2116032</td><td>10325</td></tr></tbody></table></div>"
      ]
     },
     "metadata": {
      "application/vnd.databricks.v1+output": {
       "addedWidgets": {},
       "aggData": [],
       "aggError": "",
       "aggOverflow": false,
       "aggSchema": [],
       "aggSeriesLimitReached": false,
       "aggType": "",
       "arguments": {},
       "columnCustomDisplayInfos": {},
       "data": [
        [
         2054439,
         60468
        ],
        [
         3821486,
         45507
        ],
        [
         2054439,
         59337
        ],
        [
         2670137,
         42642
        ],
        [
         2116032,
         10325
        ]
       ],
       "datasetInfos": [],
       "dbfsResultPath": null,
       "isJsonSchema": true,
       "metadata": {},
       "overflow": false,
       "plotOptions": {
        "customPlotOptions": {},
        "displayType": "table",
        "pivotAggregation": null,
        "pivotColumns": null,
        "xColumns": null,
        "yColumns": null
       },
       "removedWidgets": [],
       "schema": [
        {
         "metadata": "{}",
         "name": "household_id",
         "type": "\"integer\""
        },
        {
         "metadata": "{}",
         "name": "station_num",
         "type": "\"integer\""
        }
       ],
       "type": "table"
      }
     },
     "output_type": "display_data"
    },
    {
     "output_type": "stream",
     "name": "stdout",
     "output_type": "stream",
     "text": [
      "\nCluster 2:\n  Full subset → 16545 households\n  Viewing rows (Full) → 283916\n"
     ]
    },
    {
     "output_type": "display_data",
     "data": {
      "text/html": [
       "<style scoped>\n",
       "  .table-result-container {\n",
       "    max-height: 300px;\n",
       "    overflow: auto;\n",
       "  }\n",
       "  table, th, td {\n",
       "    border: 1px solid black;\n",
       "    border-collapse: collapse;\n",
       "  }\n",
       "  th, td {\n",
       "    padding: 5px;\n",
       "  }\n",
       "  th {\n",
       "    text-align: left;\n",
       "  }\n",
       "</style><div class='table-result-container'><table class='table-result'><thead style='background-color: white'><tr><th>household_id</th><th>station_num</th></tr></thead><tbody><tr><td>43921</td><td>11713</td></tr><tr><td>2101605</td><td>18480</td></tr><tr><td>2029846</td><td>10568</td></tr><tr><td>2428475</td><td>18480</td></tr><tr><td>43921</td><td>11713</td></tr></tbody></table></div>"
      ]
     },
     "metadata": {
      "application/vnd.databricks.v1+output": {
       "addedWidgets": {},
       "aggData": [],
       "aggError": "",
       "aggOverflow": false,
       "aggSchema": [],
       "aggSeriesLimitReached": false,
       "aggType": "",
       "arguments": {},
       "columnCustomDisplayInfos": {},
       "data": [
        [
         43921,
         11713
        ],
        [
         2101605,
         18480
        ],
        [
         2029846,
         10568
        ],
        [
         2428475,
         18480
        ],
        [
         43921,
         11713
        ]
       ],
       "datasetInfos": [],
       "dbfsResultPath": null,
       "isJsonSchema": true,
       "metadata": {},
       "overflow": false,
       "plotOptions": {
        "customPlotOptions": {},
        "displayType": "table",
        "pivotAggregation": null,
        "pivotColumns": null,
        "xColumns": null,
        "yColumns": null
       },
       "removedWidgets": [],
       "schema": [
        {
         "metadata": "{}",
         "name": "household_id",
         "type": "\"integer\""
        },
        {
         "metadata": "{}",
         "name": "station_num",
         "type": "\"integer\""
        }
       ],
       "type": "table"
      }
     },
     "output_type": "display_data"
    },
    {
     "output_type": "stream",
     "name": "stdout",
     "output_type": "stream",
     "text": [
      "  Thirds subset → 5515 households\n  Viewing rows (Thirds) → 90185\n"
     ]
    },
    {
     "output_type": "display_data",
     "data": {
      "text/html": [
       "<style scoped>\n",
       "  .table-result-container {\n",
       "    max-height: 300px;\n",
       "    overflow: auto;\n",
       "  }\n",
       "  table, th, td {\n",
       "    border: 1px solid black;\n",
       "    border-collapse: collapse;\n",
       "  }\n",
       "  th, td {\n",
       "    padding: 5px;\n",
       "  }\n",
       "  th {\n",
       "    text-align: left;\n",
       "  }\n",
       "</style><div class='table-result-container'><table class='table-result'><thead style='background-color: white'><tr><th>household_id</th><th>station_num</th></tr></thead><tbody><tr><td>43921</td><td>11713</td></tr><tr><td>43921</td><td>11713</td></tr><tr><td>3601868</td><td>16046</td></tr><tr><td>3124313</td><td>70387</td></tr><tr><td>3601868</td><td>44714</td></tr></tbody></table></div>"
      ]
     },
     "metadata": {
      "application/vnd.databricks.v1+output": {
       "addedWidgets": {},
       "aggData": [],
       "aggError": "",
       "aggOverflow": false,
       "aggSchema": [],
       "aggSeriesLimitReached": false,
       "aggType": "",
       "arguments": {},
       "columnCustomDisplayInfos": {},
       "data": [
        [
         43921,
         11713
        ],
        [
         43921,
         11713
        ],
        [
         3601868,
         16046
        ],
        [
         3124313,
         70387
        ],
        [
         3601868,
         44714
        ]
       ],
       "datasetInfos": [],
       "dbfsResultPath": null,
       "isJsonSchema": true,
       "metadata": {},
       "overflow": false,
       "plotOptions": {
        "customPlotOptions": {},
        "displayType": "table",
        "pivotAggregation": null,
        "pivotColumns": null,
        "xColumns": null,
        "yColumns": null
       },
       "removedWidgets": [],
       "schema": [
        {
         "metadata": "{}",
         "name": "household_id",
         "type": "\"integer\""
        },
        {
         "metadata": "{}",
         "name": "station_num",
         "type": "\"integer\""
        }
       ],
       "type": "table"
      }
     },
     "output_type": "display_data"
    },
    {
     "output_type": "stream",
     "name": "stdout",
     "output_type": "stream",
     "text": [
      "  17ths subset → 973 households\n  Viewing rows (17ths) → 19048\n"
     ]
    },
    {
     "output_type": "display_data",
     "data": {
      "text/html": [
       "<style scoped>\n",
       "  .table-result-container {\n",
       "    max-height: 300px;\n",
       "    overflow: auto;\n",
       "  }\n",
       "  table, th, td {\n",
       "    border: 1px solid black;\n",
       "    border-collapse: collapse;\n",
       "  }\n",
       "  th, td {\n",
       "    padding: 5px;\n",
       "  }\n",
       "  th {\n",
       "    text-align: left;\n",
       "  }\n",
       "</style><div class='table-result-container'><table class='table-result'><thead style='background-color: white'><tr><th>household_id</th><th>station_num</th></tr></thead><tbody><tr><td>1980937</td><td>10057</td></tr><tr><td>2852949</td><td>65732</td></tr><tr><td>2289579</td><td>70225</td></tr><tr><td>2974452</td><td>31658</td></tr><tr><td>1947982</td><td>60179</td></tr></tbody></table></div>"
      ]
     },
     "metadata": {
      "application/vnd.databricks.v1+output": {
       "addedWidgets": {},
       "aggData": [],
       "aggError": "",
       "aggOverflow": false,
       "aggSchema": [],
       "aggSeriesLimitReached": false,
       "aggType": "",
       "arguments": {},
       "columnCustomDisplayInfos": {},
       "data": [
        [
         1980937,
         10057
        ],
        [
         2852949,
         65732
        ],
        [
         2289579,
         70225
        ],
        [
         2974452,
         31658
        ],
        [
         1947982,
         60179
        ]
       ],
       "datasetInfos": [],
       "dbfsResultPath": null,
       "isJsonSchema": true,
       "metadata": {},
       "overflow": false,
       "plotOptions": {
        "customPlotOptions": {},
        "displayType": "table",
        "pivotAggregation": null,
        "pivotColumns": null,
        "xColumns": null,
        "yColumns": null
       },
       "removedWidgets": [],
       "schema": [
        {
         "metadata": "{}",
         "name": "household_id",
         "type": "\"integer\""
        },
        {
         "metadata": "{}",
         "name": "station_num",
         "type": "\"integer\""
        }
       ],
       "type": "table"
      }
     },
     "output_type": "display_data"
    },
    {
     "output_type": "stream",
     "name": "stdout",
     "output_type": "stream",
     "text": [
      "\nCluster 3:\n  Full subset → 22534 households\n  Viewing rows (Full) → 507936\n"
     ]
    },
    {
     "output_type": "display_data",
     "data": {
      "text/html": [
       "<style scoped>\n",
       "  .table-result-container {\n",
       "    max-height: 300px;\n",
       "    overflow: auto;\n",
       "  }\n",
       "  table, th, td {\n",
       "    border: 1px solid black;\n",
       "    border-collapse: collapse;\n",
       "  }\n",
       "  th, td {\n",
       "    padding: 5px;\n",
       "  }\n",
       "  th {\n",
       "    text-align: left;\n",
       "  }\n",
       "</style><div class='table-result-container'><table class='table-result'><thead style='background-color: white'><tr><th>household_id</th><th>station_num</th></tr></thead><tbody><tr><td>3850378</td><td>47540</td></tr><tr><td>2327767</td><td>10537</td></tr><tr><td>1980391</td><td>10458</td></tr><tr><td>3216462</td><td>23315</td></tr><tr><td>2348192</td><td>14815</td></tr></tbody></table></div>"
      ]
     },
     "metadata": {
      "application/vnd.databricks.v1+output": {
       "addedWidgets": {},
       "aggData": [],
       "aggError": "",
       "aggOverflow": false,
       "aggSchema": [],
       "aggSeriesLimitReached": false,
       "aggType": "",
       "arguments": {},
       "columnCustomDisplayInfos": {},
       "data": [
        [
         3850378,
         47540
        ],
        [
         2327767,
         10537
        ],
        [
         1980391,
         10458
        ],
        [
         3216462,
         23315
        ],
        [
         2348192,
         14815
        ]
       ],
       "datasetInfos": [],
       "dbfsResultPath": null,
       "isJsonSchema": true,
       "metadata": {},
       "overflow": false,
       "plotOptions": {
        "customPlotOptions": {},
        "displayType": "table",
        "pivotAggregation": null,
        "pivotColumns": null,
        "xColumns": null,
        "yColumns": null
       },
       "removedWidgets": [],
       "schema": [
        {
         "metadata": "{}",
         "name": "household_id",
         "type": "\"integer\""
        },
        {
         "metadata": "{}",
         "name": "station_num",
         "type": "\"integer\""
        }
       ],
       "type": "table"
      }
     },
     "output_type": "display_data"
    },
    {
     "output_type": "stream",
     "name": "stdout",
     "output_type": "stream",
     "text": [
      "  Thirds subset → 7511 households\n  Viewing rows (Thirds) → 175179\n"
     ]
    },
    {
     "output_type": "display_data",
     "data": {
      "text/html": [
       "<style scoped>\n",
       "  .table-result-container {\n",
       "    max-height: 300px;\n",
       "    overflow: auto;\n",
       "  }\n",
       "  table, th, td {\n",
       "    border: 1px solid black;\n",
       "    border-collapse: collapse;\n",
       "  }\n",
       "  th, td {\n",
       "    padding: 5px;\n",
       "  }\n",
       "  th {\n",
       "    text-align: left;\n",
       "  }\n",
       "</style><div class='table-result-container'><table class='table-result'><thead style='background-color: white'><tr><th>household_id</th><th>station_num</th></tr></thead><tbody><tr><td>3216462</td><td>23315</td></tr><tr><td>2348192</td><td>14815</td></tr><tr><td>3491582</td><td>12574</td></tr><tr><td>2148557</td><td>12729</td></tr><tr><td>2788047</td><td>10162</td></tr></tbody></table></div>"
      ]
     },
     "metadata": {
      "application/vnd.databricks.v1+output": {
       "addedWidgets": {},
       "aggData": [],
       "aggError": "",
       "aggOverflow": false,
       "aggSchema": [],
       "aggSeriesLimitReached": false,
       "aggType": "",
       "arguments": {},
       "columnCustomDisplayInfos": {},
       "data": [
        [
         3216462,
         23315
        ],
        [
         2348192,
         14815
        ],
        [
         3491582,
         12574
        ],
        [
         2148557,
         12729
        ],
        [
         2788047,
         10162
        ]
       ],
       "datasetInfos": [],
       "dbfsResultPath": null,
       "isJsonSchema": true,
       "metadata": {},
       "overflow": false,
       "plotOptions": {
        "customPlotOptions": {},
        "displayType": "table",
        "pivotAggregation": null,
        "pivotColumns": null,
        "xColumns": null,
        "yColumns": null
       },
       "removedWidgets": [],
       "schema": [
        {
         "metadata": "{}",
         "name": "household_id",
         "type": "\"integer\""
        },
        {
         "metadata": "{}",
         "name": "station_num",
         "type": "\"integer\""
        }
       ],
       "type": "table"
      }
     },
     "output_type": "display_data"
    },
    {
     "output_type": "stream",
     "name": "stdout",
     "output_type": "stream",
     "text": [
      "  17ths subset → 1325 households\n  Viewing rows (17ths) → 31641\n"
     ]
    },
    {
     "output_type": "display_data",
     "data": {
      "text/html": [
       "<style scoped>\n",
       "  .table-result-container {\n",
       "    max-height: 300px;\n",
       "    overflow: auto;\n",
       "  }\n",
       "  table, th, td {\n",
       "    border: 1px solid black;\n",
       "    border-collapse: collapse;\n",
       "  }\n",
       "  th, td {\n",
       "    padding: 5px;\n",
       "  }\n",
       "  th {\n",
       "    text-align: left;\n",
       "  }\n",
       "</style><div class='table-result-container'><table class='table-result'><thead style='background-color: white'><tr><th>household_id</th><th>station_num</th></tr></thead><tbody><tr><td>3016583</td><td>44940</td></tr><tr><td>3016583</td><td>10918</td></tr><tr><td>2136400</td><td>10145</td></tr><tr><td>2483168</td><td>11158</td></tr><tr><td>3016583</td><td>44940</td></tr></tbody></table></div>"
      ]
     },
     "metadata": {
      "application/vnd.databricks.v1+output": {
       "addedWidgets": {},
       "aggData": [],
       "aggError": "",
       "aggOverflow": false,
       "aggSchema": [],
       "aggSeriesLimitReached": false,
       "aggType": "",
       "arguments": {},
       "columnCustomDisplayInfos": {},
       "data": [
        [
         3016583,
         44940
        ],
        [
         3016583,
         10918
        ],
        [
         2136400,
         10145
        ],
        [
         2483168,
         11158
        ],
        [
         3016583,
         44940
        ]
       ],
       "datasetInfos": [],
       "dbfsResultPath": null,
       "isJsonSchema": true,
       "metadata": {},
       "overflow": false,
       "plotOptions": {
        "customPlotOptions": {},
        "displayType": "table",
        "pivotAggregation": null,
        "pivotColumns": null,
        "xColumns": null,
        "yColumns": null
       },
       "removedWidgets": [],
       "schema": [
        {
         "metadata": "{}",
         "name": "household_id",
         "type": "\"integer\""
        },
        {
         "metadata": "{}",
         "name": "station_num",
         "type": "\"integer\""
        }
       ],
       "type": "table"
      }
     },
     "output_type": "display_data"
    },
    {
     "output_type": "stream",
     "name": "stdout",
     "output_type": "stream",
     "text": [
      "\nCluster 4:\n  Full subset → 12389 households\n  Viewing rows (Full) → 245972\n"
     ]
    },
    {
     "output_type": "display_data",
     "data": {
      "text/html": [
       "<style scoped>\n",
       "  .table-result-container {\n",
       "    max-height: 300px;\n",
       "    overflow: auto;\n",
       "  }\n",
       "  table, th, td {\n",
       "    border: 1px solid black;\n",
       "    border-collapse: collapse;\n",
       "  }\n",
       "  th, td {\n",
       "    padding: 5px;\n",
       "  }\n",
       "  th {\n",
       "    text-align: left;\n",
       "  }\n",
       "</style><div class='table-result-container'><table class='table-result'><thead style='background-color: white'><tr><th>household_id</th><th>station_num</th></tr></thead><tbody><tr><td>3672067</td><td>65626</td></tr><tr><td>2966025</td><td>64065</td></tr><tr><td>3704832</td><td>11150</td></tr><tr><td>3460567</td><td>99995</td></tr><tr><td>2084973</td><td>64490</td></tr></tbody></table></div>"
      ]
     },
     "metadata": {
      "application/vnd.databricks.v1+output": {
       "addedWidgets": {},
       "aggData": [],
       "aggError": "",
       "aggOverflow": false,
       "aggSchema": [],
       "aggSeriesLimitReached": false,
       "aggType": "",
       "arguments": {},
       "columnCustomDisplayInfos": {},
       "data": [
        [
         3672067,
         65626
        ],
        [
         2966025,
         64065
        ],
        [
         3704832,
         11150
        ],
        [
         3460567,
         99995
        ],
        [
         2084973,
         64490
        ]
       ],
       "datasetInfos": [],
       "dbfsResultPath": null,
       "isJsonSchema": true,
       "metadata": {},
       "overflow": false,
       "plotOptions": {
        "customPlotOptions": {},
        "displayType": "table",
        "pivotAggregation": null,
        "pivotColumns": null,
        "xColumns": null,
        "yColumns": null
       },
       "removedWidgets": [],
       "schema": [
        {
         "metadata": "{}",
         "name": "household_id",
         "type": "\"integer\""
        },
        {
         "metadata": "{}",
         "name": "station_num",
         "type": "\"integer\""
        }
       ],
       "type": "table"
      }
     },
     "output_type": "display_data"
    },
    {
     "output_type": "stream",
     "name": "stdout",
     "output_type": "stream",
     "text": [
      "  Thirds subset → 4129 households\n  Viewing rows (Thirds) → 81700\n"
     ]
    },
    {
     "output_type": "display_data",
     "data": {
      "text/html": [
       "<style scoped>\n",
       "  .table-result-container {\n",
       "    max-height: 300px;\n",
       "    overflow: auto;\n",
       "  }\n",
       "  table, th, td {\n",
       "    border: 1px solid black;\n",
       "    border-collapse: collapse;\n",
       "  }\n",
       "  th, td {\n",
       "    padding: 5px;\n",
       "  }\n",
       "  th {\n",
       "    text-align: left;\n",
       "  }\n",
       "</style><div class='table-result-container'><table class='table-result'><thead style='background-color: white'><tr><th>household_id</th><th>station_num</th></tr></thead><tbody><tr><td>2084973</td><td>64490</td></tr><tr><td>2451093</td><td>10556</td></tr><tr><td>2187632</td><td>10142</td></tr><tr><td>1965232</td><td>35312</td></tr><tr><td>2182981</td><td>58515</td></tr></tbody></table></div>"
      ]
     },
     "metadata": {
      "application/vnd.databricks.v1+output": {
       "addedWidgets": {},
       "aggData": [],
       "aggError": "",
       "aggOverflow": false,
       "aggSchema": [],
       "aggSeriesLimitReached": false,
       "aggType": "",
       "arguments": {},
       "columnCustomDisplayInfos": {},
       "data": [
        [
         2084973,
         64490
        ],
        [
         2451093,
         10556
        ],
        [
         2187632,
         10142
        ],
        [
         1965232,
         35312
        ],
        [
         2182981,
         58515
        ]
       ],
       "datasetInfos": [],
       "dbfsResultPath": null,
       "isJsonSchema": true,
       "metadata": {},
       "overflow": false,
       "plotOptions": {
        "customPlotOptions": {},
        "displayType": "table",
        "pivotAggregation": null,
        "pivotColumns": null,
        "xColumns": null,
        "yColumns": null
       },
       "removedWidgets": [],
       "schema": [
        {
         "metadata": "{}",
         "name": "household_id",
         "type": "\"integer\""
        },
        {
         "metadata": "{}",
         "name": "station_num",
         "type": "\"integer\""
        }
       ],
       "type": "table"
      }
     },
     "output_type": "display_data"
    },
    {
     "output_type": "stream",
     "name": "stdout",
     "output_type": "stream",
     "text": [
      "  17ths subset → 728 households\n  Viewing rows (17ths) → 13737\n"
     ]
    },
    {
     "output_type": "display_data",
     "data": {
      "text/html": [
       "<style scoped>\n",
       "  .table-result-container {\n",
       "    max-height: 300px;\n",
       "    overflow: auto;\n",
       "  }\n",
       "  table, th, td {\n",
       "    border: 1px solid black;\n",
       "    border-collapse: collapse;\n",
       "  }\n",
       "  th, td {\n",
       "    padding: 5px;\n",
       "  }\n",
       "  th {\n",
       "    text-align: left;\n",
       "  }\n",
       "</style><div class='table-result-container'><table class='table-result'><thead style='background-color: white'><tr><th>household_id</th><th>station_num</th></tr></thead><tbody><tr><td>2182981</td><td>58515</td></tr><tr><td>3761306</td><td>10377</td></tr><tr><td>3158329</td><td>18480</td></tr><tr><td>3516159</td><td>18480</td></tr><tr><td>2715058</td><td>61522</td></tr></tbody></table></div>"
      ]
     },
     "metadata": {
      "application/vnd.databricks.v1+output": {
       "addedWidgets": {},
       "aggData": [],
       "aggError": "",
       "aggOverflow": false,
       "aggSchema": [],
       "aggSeriesLimitReached": false,
       "aggType": "",
       "arguments": {},
       "columnCustomDisplayInfos": {},
       "data": [
        [
         2182981,
         58515
        ],
        [
         3761306,
         10377
        ],
        [
         3158329,
         18480
        ],
        [
         3516159,
         18480
        ],
        [
         2715058,
         61522
        ]
       ],
       "datasetInfos": [],
       "dbfsResultPath": null,
       "isJsonSchema": true,
       "metadata": {},
       "overflow": false,
       "plotOptions": {
        "customPlotOptions": {},
        "displayType": "table",
        "pivotAggregation": null,
        "pivotColumns": null,
        "xColumns": null,
        "yColumns": null
       },
       "removedWidgets": [],
       "schema": [
        {
         "metadata": "{}",
         "name": "household_id",
         "type": "\"integer\""
        },
        {
         "metadata": "{}",
         "name": "station_num",
         "type": "\"integer\""
        }
       ],
       "type": "table"
      }
     },
     "output_type": "display_data"
    },
    {
     "output_type": "stream",
     "name": "stdout",
     "output_type": "stream",
     "text": [
      "\nCluster 5:\n  Full subset → 139883 households\n  Viewing rows (Full) → 2918089\n"
     ]
    },
    {
     "output_type": "display_data",
     "data": {
      "text/html": [
       "<style scoped>\n",
       "  .table-result-container {\n",
       "    max-height: 300px;\n",
       "    overflow: auto;\n",
       "  }\n",
       "  table, th, td {\n",
       "    border: 1px solid black;\n",
       "    border-collapse: collapse;\n",
       "  }\n",
       "  th, td {\n",
       "    padding: 5px;\n",
       "  }\n",
       "  th {\n",
       "    text-align: left;\n",
       "  }\n",
       "</style><div class='table-result-container'><table class='table-result'><thead style='background-color: white'><tr><th>household_id</th><th>station_num</th></tr></thead><tbody><tr><td>3783713</td><td>75523</td></tr><tr><td>2358722</td><td>59337</td></tr><tr><td>2965021</td><td>48999</td></tr><tr><td>91472</td><td>12574</td></tr><tr><td>1601677</td><td>11919</td></tr></tbody></table></div>"
      ]
     },
     "metadata": {
      "application/vnd.databricks.v1+output": {
       "addedWidgets": {},
       "aggData": [],
       "aggError": "",
       "aggOverflow": false,
       "aggSchema": [],
       "aggSeriesLimitReached": false,
       "aggType": "",
       "arguments": {},
       "columnCustomDisplayInfos": {},
       "data": [
        [
         3783713,
         75523
        ],
        [
         2358722,
         59337
        ],
        [
         2965021,
         48999
        ],
        [
         91472,
         12574
        ],
        [
         1601677,
         11919
        ]
       ],
       "datasetInfos": [],
       "dbfsResultPath": null,
       "isJsonSchema": true,
       "metadata": {},
       "overflow": false,
       "plotOptions": {
        "customPlotOptions": {},
        "displayType": "table",
        "pivotAggregation": null,
        "pivotColumns": null,
        "xColumns": null,
        "yColumns": null
       },
       "removedWidgets": [],
       "schema": [
        {
         "metadata": "{}",
         "name": "household_id",
         "type": "\"integer\""
        },
        {
         "metadata": "{}",
         "name": "station_num",
         "type": "\"integer\""
        }
       ],
       "type": "table"
      }
     },
     "output_type": "display_data"
    },
    {
     "output_type": "stream",
     "name": "stdout",
     "output_type": "stream",
     "text": [
      "  Thirds subset → 46627 households\n  Viewing rows (Thirds) → 979441\n"
     ]
    },
    {
     "output_type": "display_data",
     "data": {
      "text/html": [
       "<style scoped>\n",
       "  .table-result-container {\n",
       "    max-height: 300px;\n",
       "    overflow: auto;\n",
       "  }\n",
       "  table, th, td {\n",
       "    border: 1px solid black;\n",
       "    border-collapse: collapse;\n",
       "  }\n",
       "  th, td {\n",
       "    padding: 5px;\n",
       "  }\n",
       "  th {\n",
       "    text-align: left;\n",
       "  }\n",
       "</style><div class='table-result-container'><table class='table-result'><thead style='background-color: white'><tr><th>household_id</th><th>station_num</th></tr></thead><tbody><tr><td>2041418</td><td>24824</td></tr><tr><td>2802843</td><td>12510</td></tr><tr><td>1593610</td><td>60179</td></tr><tr><td>2804129</td><td>34240</td></tr><tr><td>3069472</td><td>35885</td></tr></tbody></table></div>"
      ]
     },
     "metadata": {
      "application/vnd.databricks.v1+output": {
       "addedWidgets": {},
       "aggData": [],
       "aggError": "",
       "aggOverflow": false,
       "aggSchema": [],
       "aggSeriesLimitReached": false,
       "aggType": "",
       "arguments": {},
       "columnCustomDisplayInfos": {},
       "data": [
        [
         2041418,
         24824
        ],
        [
         2802843,
         12510
        ],
        [
         1593610,
         60179
        ],
        [
         2804129,
         34240
        ],
        [
         3069472,
         35885
        ]
       ],
       "datasetInfos": [],
       "dbfsResultPath": null,
       "isJsonSchema": true,
       "metadata": {},
       "overflow": false,
       "plotOptions": {
        "customPlotOptions": {},
        "displayType": "table",
        "pivotAggregation": null,
        "pivotColumns": null,
        "xColumns": null,
        "yColumns": null
       },
       "removedWidgets": [],
       "schema": [
        {
         "metadata": "{}",
         "name": "household_id",
         "type": "\"integer\""
        },
        {
         "metadata": "{}",
         "name": "station_num",
         "type": "\"integer\""
        }
       ],
       "type": "table"
      }
     },
     "output_type": "display_data"
    },
    {
     "output_type": "stream",
     "name": "stdout",
     "output_type": "stream",
     "text": [
      "  17ths subset → 8228 households\n  Viewing rows (17ths) → 176402\n"
     ]
    },
    {
     "output_type": "display_data",
     "data": {
      "text/html": [
       "<style scoped>\n",
       "  .table-result-container {\n",
       "    max-height: 300px;\n",
       "    overflow: auto;\n",
       "  }\n",
       "  table, th, td {\n",
       "    border: 1px solid black;\n",
       "    border-collapse: collapse;\n",
       "  }\n",
       "  th, td {\n",
       "    padding: 5px;\n",
       "  }\n",
       "  th {\n",
       "    text-align: left;\n",
       "  }\n",
       "</style><div class='table-result-container'><table class='table-result'><thead style='background-color: white'><tr><th>household_id</th><th>station_num</th></tr></thead><tbody><tr><td>3783713</td><td>75523</td></tr><tr><td>3625465</td><td>47540</td></tr><tr><td>118915</td><td>16485</td></tr><tr><td>2983237</td><td>14321</td></tr><tr><td>2724596</td><td>58780</td></tr></tbody></table></div>"
      ]
     },
     "metadata": {
      "application/vnd.databricks.v1+output": {
       "addedWidgets": {},
       "aggData": [],
       "aggError": "",
       "aggOverflow": false,
       "aggSchema": [],
       "aggSeriesLimitReached": false,
       "aggType": "",
       "arguments": {},
       "columnCustomDisplayInfos": {},
       "data": [
        [
         3783713,
         75523
        ],
        [
         3625465,
         47540
        ],
        [
         118915,
         16485
        ],
        [
         2983237,
         14321
        ],
        [
         2724596,
         58780
        ]
       ],
       "datasetInfos": [],
       "dbfsResultPath": null,
       "isJsonSchema": true,
       "metadata": {},
       "overflow": false,
       "plotOptions": {
        "customPlotOptions": {},
        "displayType": "table",
        "pivotAggregation": null,
        "pivotColumns": null,
        "xColumns": null,
        "yColumns": null
       },
       "removedWidgets": [],
       "schema": [
        {
         "metadata": "{}",
         "name": "household_id",
         "type": "\"integer\""
        },
        {
         "metadata": "{}",
         "name": "station_num",
         "type": "\"integer\""
        }
       ],
       "type": "table"
      }
     },
     "output_type": "display_data"
    }
   ],
   "source": [
    "from pyspark.sql.functions import col, broadcast\n",
    "\n",
    "viewing_full = {}\n",
    "viewing_thirds = {}\n",
    "viewing_seventeenths = {}\n",
    "viewing_counts = {\"full\": [], \"thirds\": [], \"seventeenths\": []}\n",
    "\n",
    "viewing_static_df.cache()\n",
    "\n",
    "for i in range(6):\n",
    "    print(f\"\\nCluster {i}:\")\n",
    "    full_ids = (\n",
    "        broadcast(\n",
    "            full_subsets[i]\n",
    "              .filter(col(\"household_id\").isNotNull())\n",
    "              .select(\"household_id\")\n",
    "              .distinct()\n",
    "              .alias(\"subset\")\n",
    "        )\n",
    "    )\n",
    "\n",
    "    thirds_ids = (\n",
    "        broadcast(\n",
    "            thirds_subsets[i]\n",
    "              .filter(col(\"household_id\").isNotNull())\n",
    "              .select(\"household_id\")\n",
    "              .distinct()\n",
    "              .alias(\"subset\")\n",
    "        )\n",
    "    )\n",
    "\n",
    "    seventeenths_ids = (\n",
    "        broadcast(\n",
    "            seventeenths_subsets[i]\n",
    "              .filter(col(\"household_id\").isNotNull())\n",
    "              .select(\"household_id\")\n",
    "              .distinct()\n",
    "              .alias(\"subset\")\n",
    "        )\n",
    "    )\n",
    "\n",
    "    # חשוב: סינון station_num תקין לפני ה-join\n",
    "    viewing_full[i] = (\n",
    "        viewing_static_df\n",
    "          .where(col(\"station_num\").isNotNull())\n",
    "          .alias(\"viewing\")\n",
    "          .join(full_ids, col(\"viewing.household_id\") ==\\\n",
    "               col(\"subset.household_id\"))\n",
    "    )\n",
    "    view_full_count = viewing_full[i].count()\n",
    "    print(f\"  Full subset → {full_subsets[i].count()} households\")\n",
    "    print(f\"  Viewing rows (Full) → {view_full_count}\")\n",
    "    display(viewing_full[i].select(\"viewing.household_id\", \\\n",
    "        \"viewing.station_num\").limit(5))\n",
    "    viewing_counts[\"full\"].append(view_full_count)\n",
    "\n",
    "    viewing_thirds[i] = (\n",
    "        viewing_static_df\n",
    "          .where(col(\"station_num\").isNotNull())\n",
    "          .alias(\"viewing\")\n",
    "          .join(thirds_ids, col(\"viewing.household_id\") == \\\n",
    "              col(\"subset.household_id\"))\n",
    "    )\n",
    "    view_thirds_count = viewing_thirds[i].count()\n",
    "    print(f\"  Thirds subset → {thirds_subsets[i].count()} households\")\n",
    "    print(f\"  Viewing rows (Thirds) → {view_thirds_count}\")\n",
    "    display(viewing_thirds[i].select(\"viewing.household_id\",\\\n",
    "         \"viewing.station_num\").limit(5))\n",
    "    viewing_counts[\"thirds\"].append(view_thirds_count)\n",
    "\n",
    "    viewing_seventeenths[i] = (\n",
    "        viewing_static_df\n",
    "          .where(col(\"station_num\").isNotNull())\n",
    "          .alias(\"viewing\")\n",
    "          .join(seventeenths_ids, col(\"viewing.household_id\") == col(\"subset.household_id\"))\n",
    "    )\n",
    "    view_sevenths_count = viewing_seventeenths[i].count()\n",
    "    print(f\"  17ths subset → {seventeenths_subsets[i].count()} households\")\n",
    "    print(f\"  Viewing rows (17ths) → {view_sevenths_count}\")\n",
    "    display(viewing_seventeenths[i].select(\"viewing.household_id\",\\\n",
    "         \"viewing.station_num\").limit(5))\n",
    "    viewing_counts[\"seventeenths\"].append(view_sevenths_count)\n"
   ]
  },
  {
   "cell_type": "code",
   "execution_count": 0,
   "metadata": {
    "application/vnd.databricks.v1+cell": {
     "cellMetadata": {
      "byteLimit": 2048000,
      "rowLimit": 10000
     },
     "inputWidgets": {},
     "nuid": "e9b87d06-447a-4d7a-90b1-ca94c5fc73de",
     "showTitle": false,
     "tableResultSettingsMap": {},
     "title": ""
    }
   },
   "outputs": [
    {
     "output_type": "stream",
     "name": "stdout",
     "output_type": "stream",
     "text": [
      "\n\uD83D\uDCCA Cluster 0 – Full subset station distribution:\n"
     ]
    },
    {
     "output_type": "display_data",
     "data": {
      "text/html": [
       "<style scoped>\n",
       "  .table-result-container {\n",
       "    max-height: 300px;\n",
       "    overflow: auto;\n",
       "  }\n",
       "  table, th, td {\n",
       "    border: 1px solid black;\n",
       "    border-collapse: collapse;\n",
       "  }\n",
       "  th, td {\n",
       "    padding: 5px;\n",
       "  }\n",
       "  th {\n",
       "    text-align: left;\n",
       "  }\n",
       "</style><div class='table-result-container'><table class='table-result'><thead style='background-color: white'><tr><th>station_num</th><th>count</th><th>sub_rat</th></tr></thead><tbody><tr><td>60179</td><td>28367</td><td>1.811450060441269</td></tr><tr><td>16374</td><td>27062</td><td>1.7281158224578426</td></tr><tr><td>32645</td><td>19927</td><td>1.2724914638281513</td></tr><tr><td>14771</td><td>18878</td><td>1.2055047851732745</td></tr><tr><td>49788</td><td>18391</td><td>1.174406107856854</td></tr></tbody></table></div>"
      ]
     },
     "metadata": {
      "application/vnd.databricks.v1+output": {
       "addedWidgets": {},
       "aggData": [],
       "aggError": "",
       "aggOverflow": false,
       "aggSchema": [],
       "aggSeriesLimitReached": false,
       "aggType": "",
       "arguments": {},
       "columnCustomDisplayInfos": {},
       "data": [
        [
         60179,
         28367,
         1.811450060441269
        ],
        [
         16374,
         27062,
         1.7281158224578426
        ],
        [
         32645,
         19927,
         1.2724914638281513
        ],
        [
         14771,
         18878,
         1.2055047851732745
        ],
        [
         49788,
         18391,
         1.174406107856854
        ]
       ],
       "datasetInfos": [],
       "dbfsResultPath": null,
       "isJsonSchema": true,
       "metadata": {},
       "overflow": false,
       "plotOptions": {
        "customPlotOptions": {},
        "displayType": "table",
        "pivotAggregation": null,
        "pivotColumns": null,
        "xColumns": null,
        "yColumns": null
       },
       "removedWidgets": [],
       "schema": [
        {
         "metadata": "{}",
         "name": "station_num",
         "type": "\"integer\""
        },
        {
         "metadata": "{}",
         "name": "count",
         "type": "\"long\""
        },
        {
         "metadata": "{}",
         "name": "sub_rat",
         "type": "\"double\""
        }
       ],
       "type": "table"
      }
     },
     "output_type": "display_data"
    },
    {
     "output_type": "stream",
     "name": "stdout",
     "output_type": "stream",
     "text": [
      "\uD83D\uDCCA Cluster 0 – Thirds subset station distribution:\n"
     ]
    },
    {
     "output_type": "display_data",
     "data": {
      "text/html": [
       "<style scoped>\n",
       "  .table-result-container {\n",
       "    max-height: 300px;\n",
       "    overflow: auto;\n",
       "  }\n",
       "  table, th, td {\n",
       "    border: 1px solid black;\n",
       "    border-collapse: collapse;\n",
       "  }\n",
       "  th, td {\n",
       "    padding: 5px;\n",
       "  }\n",
       "  th {\n",
       "    text-align: left;\n",
       "  }\n",
       "</style><div class='table-result-container'><table class='table-result'><thead style='background-color: white'><tr><th>station_num</th><th>count</th><th>sub_rat</th></tr></thead><tbody><tr><td>16374</td><td>9000</td><td>1.7110233630734544</td></tr><tr><td>60179</td><td>8922</td><td>1.6961944939268176</td></tr><tr><td>32645</td><td>7466</td><td>1.4193889365229344</td></tr><tr><td>14771</td><td>6236</td><td>1.1855490769028956</td></tr><tr><td>49788</td><td>5841</td><td>1.1104541626346718</td></tr></tbody></table></div>"
      ]
     },
     "metadata": {
      "application/vnd.databricks.v1+output": {
       "addedWidgets": {},
       "aggData": [],
       "aggError": "",
       "aggOverflow": false,
       "aggSchema": [],
       "aggSeriesLimitReached": false,
       "aggType": "",
       "arguments": {},
       "columnCustomDisplayInfos": {},
       "data": [
        [
         16374,
         9000,
         1.7110233630734544
        ],
        [
         60179,
         8922,
         1.6961944939268176
        ],
        [
         32645,
         7466,
         1.4193889365229344
        ],
        [
         14771,
         6236,
         1.1855490769028956
        ],
        [
         49788,
         5841,
         1.1104541626346718
        ]
       ],
       "datasetInfos": [],
       "dbfsResultPath": null,
       "isJsonSchema": true,
       "metadata": {},
       "overflow": false,
       "plotOptions": {
        "customPlotOptions": {},
        "displayType": "table",
        "pivotAggregation": null,
        "pivotColumns": null,
        "xColumns": null,
        "yColumns": null
       },
       "removedWidgets": [],
       "schema": [
        {
         "metadata": "{}",
         "name": "station_num",
         "type": "\"integer\""
        },
        {
         "metadata": "{}",
         "name": "count",
         "type": "\"long\""
        },
        {
         "metadata": "{}",
         "name": "sub_rat",
         "type": "\"double\""
        }
       ],
       "type": "table"
      }
     },
     "output_type": "display_data"
    },
    {
     "output_type": "stream",
     "name": "stdout",
     "output_type": "stream",
     "text": [
      "\uD83D\uDCCA Cluster 0 – 17ths subset station distribution:\n"
     ]
    },
    {
     "output_type": "display_data",
     "data": {
      "text/html": [
       "<style scoped>\n",
       "  .table-result-container {\n",
       "    max-height: 300px;\n",
       "    overflow: auto;\n",
       "  }\n",
       "  table, th, td {\n",
       "    border: 1px solid black;\n",
       "    border-collapse: collapse;\n",
       "  }\n",
       "  th, td {\n",
       "    padding: 5px;\n",
       "  }\n",
       "  th {\n",
       "    text-align: left;\n",
       "  }\n",
       "</style><div class='table-result-container'><table class='table-result'><thead style='background-color: white'><tr><th>station_num</th><th>count</th><th>sub_rat</th></tr></thead><tbody><tr><td>16374</td><td>2248</td><td>2.3250041370180377</td></tr><tr><td>10142</td><td>1191</td><td>1.231797120635446</td></tr><tr><td>14902</td><td>1189</td><td>1.2297286116167467</td></tr><tr><td>32645</td><td>1142</td><td>1.1811186496773125</td></tr><tr><td>60179</td><td>1080</td><td>1.1169948700976338</td></tr></tbody></table></div>"
      ]
     },
     "metadata": {
      "application/vnd.databricks.v1+output": {
       "addedWidgets": {},
       "aggData": [],
       "aggError": "",
       "aggOverflow": false,
       "aggSchema": [],
       "aggSeriesLimitReached": false,
       "aggType": "",
       "arguments": {},
       "columnCustomDisplayInfos": {},
       "data": [
        [
         16374,
         2248,
         2.3250041370180377
        ],
        [
         10142,
         1191,
         1.231797120635446
        ],
        [
         14902,
         1189,
         1.2297286116167467
        ],
        [
         32645,
         1142,
         1.1811186496773125
        ],
        [
         60179,
         1080,
         1.1169948700976338
        ]
       ],
       "datasetInfos": [],
       "dbfsResultPath": null,
       "isJsonSchema": true,
       "metadata": {},
       "overflow": false,
       "plotOptions": {
        "customPlotOptions": {},
        "displayType": "table",
        "pivotAggregation": null,
        "pivotColumns": null,
        "xColumns": null,
        "yColumns": null
       },
       "removedWidgets": [],
       "schema": [
        {
         "metadata": "{}",
         "name": "station_num",
         "type": "\"integer\""
        },
        {
         "metadata": "{}",
         "name": "count",
         "type": "\"long\""
        },
        {
         "metadata": "{}",
         "name": "sub_rat",
         "type": "\"double\""
        }
       ],
       "type": "table"
      }
     },
     "output_type": "display_data"
    },
    {
     "output_type": "stream",
     "name": "stdout",
     "output_type": "stream",
     "text": [
      "\n\uD83D\uDCCA Cluster 1 – Full subset station distribution:\n"
     ]
    },
    {
     "output_type": "display_data",
     "data": {
      "text/html": [
       "<style scoped>\n",
       "  .table-result-container {\n",
       "    max-height: 300px;\n",
       "    overflow: auto;\n",
       "  }\n",
       "  table, th, td {\n",
       "    border: 1px solid black;\n",
       "    border-collapse: collapse;\n",
       "  }\n",
       "  th, td {\n",
       "    padding: 5px;\n",
       "  }\n",
       "  th {\n",
       "    text-align: left;\n",
       "  }\n",
       "</style><div class='table-result-container'><table class='table-result'><thead style='background-color: white'><tr><th>station_num</th><th>count</th><th>sub_rat</th></tr></thead><tbody><tr><td>16374</td><td>24039</td><td>1.413014024336123</td></tr><tr><td>60179</td><td>20754</td><td>1.2199215050988768</td></tr><tr><td>14771</td><td>20403</td><td>1.1992897016735273</td></tr><tr><td>32645</td><td>20301</td><td>1.1932941348661608</td></tr><tr><td>11207</td><td>19799</td><td>1.1637865413632391</td></tr></tbody></table></div>"
      ]
     },
     "metadata": {
      "application/vnd.databricks.v1+output": {
       "addedWidgets": {},
       "aggData": [],
       "aggError": "",
       "aggOverflow": false,
       "aggSchema": [],
       "aggSeriesLimitReached": false,
       "aggType": "",
       "arguments": {},
       "columnCustomDisplayInfos": {},
       "data": [
        [
         16374,
         24039,
         1.413014024336123
        ],
        [
         60179,
         20754,
         1.2199215050988768
        ],
        [
         14771,
         20403,
         1.1992897016735273
        ],
        [
         32645,
         20301,
         1.1932941348661608
        ],
        [
         11207,
         19799,
         1.1637865413632391
        ]
       ],
       "datasetInfos": [],
       "dbfsResultPath": null,
       "isJsonSchema": true,
       "metadata": {},
       "overflow": false,
       "plotOptions": {
        "customPlotOptions": {},
        "displayType": "table",
        "pivotAggregation": null,
        "pivotColumns": null,
        "xColumns": null,
        "yColumns": null
       },
       "removedWidgets": [],
       "schema": [
        {
         "metadata": "{}",
         "name": "station_num",
         "type": "\"integer\""
        },
        {
         "metadata": "{}",
         "name": "count",
         "type": "\"long\""
        },
        {
         "metadata": "{}",
         "name": "sub_rat",
         "type": "\"double\""
        }
       ],
       "type": "table"
      }
     },
     "output_type": "display_data"
    },
    {
     "output_type": "stream",
     "name": "stdout",
     "output_type": "stream",
     "text": [
      "\uD83D\uDCCA Cluster 1 – Thirds subset station distribution:\n"
     ]
    },
    {
     "output_type": "display_data",
     "data": {
      "text/html": [
       "<style scoped>\n",
       "  .table-result-container {\n",
       "    max-height: 300px;\n",
       "    overflow: auto;\n",
       "  }\n",
       "  table, th, td {\n",
       "    border: 1px solid black;\n",
       "    border-collapse: collapse;\n",
       "  }\n",
       "  th, td {\n",
       "    padding: 5px;\n",
       "  }\n",
       "  th {\n",
       "    text-align: left;\n",
       "  }\n",
       "</style><div class='table-result-container'><table class='table-result'><thead style='background-color: white'><tr><th>station_num</th><th>count</th><th>sub_rat</th></tr></thead><tbody><tr><td>16374</td><td>7496</td><td>1.3399185252316168</td></tr><tr><td>32645</td><td>6866</td><td>1.2273053087300267</td></tr><tr><td>60179</td><td>6638</td><td>1.1865500494246894</td></tr><tr><td>14771</td><td>6428</td><td>1.149012310590826</td></tr><tr><td>11207</td><td>6207</td><td>1.1095083092466176</td></tr></tbody></table></div>"
      ]
     },
     "metadata": {
      "application/vnd.databricks.v1+output": {
       "addedWidgets": {},
       "aggData": [],
       "aggError": "",
       "aggOverflow": false,
       "aggSchema": [],
       "aggSeriesLimitReached": false,
       "aggType": "",
       "arguments": {},
       "columnCustomDisplayInfos": {},
       "data": [
        [
         16374,
         7496,
         1.3399185252316168
        ],
        [
         32645,
         6866,
         1.2273053087300267
        ],
        [
         60179,
         6638,
         1.1865500494246894
        ],
        [
         14771,
         6428,
         1.149012310590826
        ],
        [
         11207,
         6207,
         1.1095083092466176
        ]
       ],
       "datasetInfos": [],
       "dbfsResultPath": null,
       "isJsonSchema": true,
       "metadata": {},
       "overflow": false,
       "plotOptions": {
        "customPlotOptions": {},
        "displayType": "table",
        "pivotAggregation": null,
        "pivotColumns": null,
        "xColumns": null,
        "yColumns": null
       },
       "removedWidgets": [],
       "schema": [
        {
         "metadata": "{}",
         "name": "station_num",
         "type": "\"integer\""
        },
        {
         "metadata": "{}",
         "name": "count",
         "type": "\"long\""
        },
        {
         "metadata": "{}",
         "name": "sub_rat",
         "type": "\"double\""
        }
       ],
       "type": "table"
      }
     },
     "output_type": "display_data"
    },
    {
     "output_type": "stream",
     "name": "stdout",
     "output_type": "stream",
     "text": [
      "\uD83D\uDCCA Cluster 1 – 17ths subset station distribution:\n"
     ]
    },
    {
     "output_type": "display_data",
     "data": {
      "text/html": [
       "<style scoped>\n",
       "  .table-result-container {\n",
       "    max-height: 300px;\n",
       "    overflow: auto;\n",
       "  }\n",
       "  table, th, td {\n",
       "    border: 1px solid black;\n",
       "    border-collapse: collapse;\n",
       "  }\n",
       "  th, td {\n",
       "    padding: 5px;\n",
       "  }\n",
       "  th {\n",
       "    text-align: left;\n",
       "  }\n",
       "</style><div class='table-result-container'><table class='table-result'><thead style='background-color: white'><tr><th>station_num</th><th>count</th><th>sub_rat</th></tr></thead><tbody><tr><td>16374</td><td>1487</td><td>1.5202944484204068</td></tr><tr><td>12131</td><td>1383</td><td>1.4139658521623557</td></tr><tr><td>32645</td><td>1338</td><td>1.3679582864737756</td></tr><tr><td>14902</td><td>1287</td><td>1.3158163786933852</td></tr><tr><td>60179</td><td>1274</td><td>1.3025253041611289</td></tr></tbody></table></div>"
      ]
     },
     "metadata": {
      "application/vnd.databricks.v1+output": {
       "addedWidgets": {},
       "aggData": [],
       "aggError": "",
       "aggOverflow": false,
       "aggSchema": [],
       "aggSeriesLimitReached": false,
       "aggType": "",
       "arguments": {},
       "columnCustomDisplayInfos": {},
       "data": [
        [
         16374,
         1487,
         1.5202944484204068
        ],
        [
         12131,
         1383,
         1.4139658521623557
        ],
        [
         32645,
         1338,
         1.3679582864737756
        ],
        [
         14902,
         1287,
         1.3158163786933852
        ],
        [
         60179,
         1274,
         1.3025253041611289
        ]
       ],
       "datasetInfos": [],
       "dbfsResultPath": null,
       "isJsonSchema": true,
       "metadata": {},
       "overflow": false,
       "plotOptions": {
        "customPlotOptions": {},
        "displayType": "table",
        "pivotAggregation": null,
        "pivotColumns": null,
        "xColumns": null,
        "yColumns": null
       },
       "removedWidgets": [],
       "schema": [
        {
         "metadata": "{}",
         "name": "station_num",
         "type": "\"integer\""
        },
        {
         "metadata": "{}",
         "name": "count",
         "type": "\"long\""
        },
        {
         "metadata": "{}",
         "name": "sub_rat",
         "type": "\"double\""
        }
       ],
       "type": "table"
      }
     },
     "output_type": "display_data"
    },
    {
     "output_type": "stream",
     "name": "stdout",
     "output_type": "stream",
     "text": [
      "\n\uD83D\uDCCA Cluster 2 – Full subset station distribution:\n"
     ]
    },
    {
     "output_type": "display_data",
     "data": {
      "text/html": [
       "<style scoped>\n",
       "  .table-result-container {\n",
       "    max-height: 300px;\n",
       "    overflow: auto;\n",
       "  }\n",
       "  table, th, td {\n",
       "    border: 1px solid black;\n",
       "    border-collapse: collapse;\n",
       "  }\n",
       "  th, td {\n",
       "    padding: 5px;\n",
       "  }\n",
       "  th {\n",
       "    text-align: left;\n",
       "  }\n",
       "</style><div class='table-result-container'><table class='table-result'><thead style='background-color: white'><tr><th>station_num</th><th>count</th><th>sub_rat</th></tr></thead><tbody><tr><td>12131</td><td>6203</td><td>2.1848011383648687</td></tr><tr><td>10171</td><td>4639</td><td>1.6339339804730977</td></tr><tr><td>11207</td><td>3105</td><td>1.0936333281674862</td></tr><tr><td>59684</td><td>3080</td><td>1.0848279068456868</td></tr><tr><td>14771</td><td>3035</td><td>1.0689781484664478</td></tr></tbody></table></div>"
      ]
     },
     "metadata": {
      "application/vnd.databricks.v1+output": {
       "addedWidgets": {},
       "aggData": [],
       "aggError": "",
       "aggOverflow": false,
       "aggSchema": [],
       "aggSeriesLimitReached": false,
       "aggType": "",
       "arguments": {},
       "columnCustomDisplayInfos": {},
       "data": [
        [
         12131,
         6203,
         2.1848011383648687
        ],
        [
         10171,
         4639,
         1.6339339804730977
        ],
        [
         11207,
         3105,
         1.0936333281674862
        ],
        [
         59684,
         3080,
         1.0848279068456868
        ],
        [
         14771,
         3035,
         1.0689781484664478
        ]
       ],
       "datasetInfos": [],
       "dbfsResultPath": null,
       "isJsonSchema": true,
       "metadata": {},
       "overflow": false,
       "plotOptions": {
        "customPlotOptions": {},
        "displayType": "table",
        "pivotAggregation": null,
        "pivotColumns": null,
        "xColumns": null,
        "yColumns": null
       },
       "removedWidgets": [],
       "schema": [
        {
         "metadata": "{}",
         "name": "station_num",
         "type": "\"integer\""
        },
        {
         "metadata": "{}",
         "name": "count",
         "type": "\"long\""
        },
        {
         "metadata": "{}",
         "name": "sub_rat",
         "type": "\"double\""
        }
       ],
       "type": "table"
      }
     },
     "output_type": "display_data"
    },
    {
     "output_type": "stream",
     "name": "stdout",
     "output_type": "stream",
     "text": [
      "\uD83D\uDCCA Cluster 2 – Thirds subset station distribution:\n"
     ]
    },
    {
     "output_type": "display_data",
     "data": {
      "text/html": [
       "<style scoped>\n",
       "  .table-result-container {\n",
       "    max-height: 300px;\n",
       "    overflow: auto;\n",
       "  }\n",
       "  table, th, td {\n",
       "    border: 1px solid black;\n",
       "    border-collapse: collapse;\n",
       "  }\n",
       "  th, td {\n",
       "    padding: 5px;\n",
       "  }\n",
       "  th {\n",
       "    text-align: left;\n",
       "  }\n",
       "</style><div class='table-result-container'><table class='table-result'><thead style='background-color: white'><tr><th>station_num</th><th>count</th><th>sub_rat</th></tr></thead><tbody><tr><td>12131</td><td>2409</td><td>2.6711759161723125</td></tr><tr><td>10171</td><td>1557</td><td>1.726451183677995</td></tr><tr><td>32645</td><td>929</td><td>1.030104784609414</td></tr><tr><td>11207</td><td>924</td><td>1.024560625381161</td></tr><tr><td>10021</td><td>916</td><td>1.0156899706159561</td></tr></tbody></table></div>"
      ]
     },
     "metadata": {
      "application/vnd.databricks.v1+output": {
       "addedWidgets": {},
       "aggData": [],
       "aggError": "",
       "aggOverflow": false,
       "aggSchema": [],
       "aggSeriesLimitReached": false,
       "aggType": "",
       "arguments": {},
       "columnCustomDisplayInfos": {},
       "data": [
        [
         12131,
         2409,
         2.6711759161723125
        ],
        [
         10171,
         1557,
         1.726451183677995
        ],
        [
         32645,
         929,
         1.030104784609414
        ],
        [
         11207,
         924,
         1.024560625381161
        ],
        [
         10021,
         916,
         1.0156899706159561
        ]
       ],
       "datasetInfos": [],
       "dbfsResultPath": null,
       "isJsonSchema": true,
       "metadata": {},
       "overflow": false,
       "plotOptions": {
        "customPlotOptions": {},
        "displayType": "table",
        "pivotAggregation": null,
        "pivotColumns": null,
        "xColumns": null,
        "yColumns": null
       },
       "removedWidgets": [],
       "schema": [
        {
         "metadata": "{}",
         "name": "station_num",
         "type": "\"integer\""
        },
        {
         "metadata": "{}",
         "name": "count",
         "type": "\"long\""
        },
        {
         "metadata": "{}",
         "name": "sub_rat",
         "type": "\"double\""
        }
       ],
       "type": "table"
      }
     },
     "output_type": "display_data"
    },
    {
     "output_type": "stream",
     "name": "stdout",
     "output_type": "stream",
     "text": [
      "\uD83D\uDCCA Cluster 2 – 17ths subset station distribution:\n"
     ]
    },
    {
     "output_type": "display_data",
     "data": {
      "text/html": [
       "<style scoped>\n",
       "  .table-result-container {\n",
       "    max-height: 300px;\n",
       "    overflow: auto;\n",
       "  }\n",
       "  table, th, td {\n",
       "    border: 1px solid black;\n",
       "    border-collapse: collapse;\n",
       "  }\n",
       "  th, td {\n",
       "    padding: 5px;\n",
       "  }\n",
       "  th {\n",
       "    text-align: left;\n",
       "  }\n",
       "</style><div class='table-result-container'><table class='table-result'><thead style='background-color: white'><tr><th>station_num</th><th>count</th><th>sub_rat</th></tr></thead><tbody><tr><td>10171</td><td>344</td><td>1.8059638807223857</td></tr><tr><td>12131</td><td>325</td><td>1.7062158756824863</td></tr><tr><td>59684</td><td>278</td><td>1.4594708105837884</td></tr><tr><td>11867</td><td>232</td><td>1.2179756404871904</td></tr><tr><td>58515</td><td>220</td><td>1.1549769004619908</td></tr></tbody></table></div>"
      ]
     },
     "metadata": {
      "application/vnd.databricks.v1+output": {
       "addedWidgets": {},
       "aggData": [],
       "aggError": "",
       "aggOverflow": false,
       "aggSchema": [],
       "aggSeriesLimitReached": false,
       "aggType": "",
       "arguments": {},
       "columnCustomDisplayInfos": {},
       "data": [
        [
         10171,
         344,
         1.8059638807223857
        ],
        [
         12131,
         325,
         1.7062158756824863
        ],
        [
         59684,
         278,
         1.4594708105837884
        ],
        [
         11867,
         232,
         1.2179756404871904
        ],
        [
         58515,
         220,
         1.1549769004619908
        ]
       ],
       "datasetInfos": [],
       "dbfsResultPath": null,
       "isJsonSchema": true,
       "metadata": {},
       "overflow": false,
       "plotOptions": {
        "customPlotOptions": {},
        "displayType": "table",
        "pivotAggregation": null,
        "pivotColumns": null,
        "xColumns": null,
        "yColumns": null
       },
       "removedWidgets": [],
       "schema": [
        {
         "metadata": "{}",
         "name": "station_num",
         "type": "\"integer\""
        },
        {
         "metadata": "{}",
         "name": "count",
         "type": "\"long\""
        },
        {
         "metadata": "{}",
         "name": "sub_rat",
         "type": "\"double\""
        }
       ],
       "type": "table"
      }
     },
     "output_type": "display_data"
    },
    {
     "output_type": "stream",
     "name": "stdout",
     "output_type": "stream",
     "text": [
      "\n\uD83D\uDCCA Cluster 3 – Full subset station distribution:\n"
     ]
    },
    {
     "output_type": "display_data",
     "data": {
      "text/html": [
       "<style scoped>\n",
       "  .table-result-container {\n",
       "    max-height: 300px;\n",
       "    overflow: auto;\n",
       "  }\n",
       "  table, th, td {\n",
       "    border: 1px solid black;\n",
       "    border-collapse: collapse;\n",
       "  }\n",
       "  th, td {\n",
       "    padding: 5px;\n",
       "  }\n",
       "  th {\n",
       "    text-align: left;\n",
       "  }\n",
       "</style><div class='table-result-container'><table class='table-result'><thead style='background-color: white'><tr><th>station_num</th><th>count</th><th>sub_rat</th></tr></thead><tbody><tr><td>12131</td><td>9448</td><td>1.8600768600768602</td></tr><tr><td>10171</td><td>8755</td><td>1.7236423486423487</td></tr><tr><td>10179</td><td>8682</td><td>1.7092704592704595</td></tr><tr><td>11207</td><td>8456</td><td>1.6647766647766646</td></tr><tr><td>10918</td><td>8140</td><td>1.6025641025641024</td></tr></tbody></table></div>"
      ]
     },
     "metadata": {
      "application/vnd.databricks.v1+output": {
       "addedWidgets": {},
       "aggData": [],
       "aggError": "",
       "aggOverflow": false,
       "aggSchema": [],
       "aggSeriesLimitReached": false,
       "aggType": "",
       "arguments": {},
       "columnCustomDisplayInfos": {},
       "data": [
        [
         12131,
         9448,
         1.8600768600768602
        ],
        [
         10171,
         8755,
         1.7236423486423487
        ],
        [
         10179,
         8682,
         1.7092704592704595
        ],
        [
         11207,
         8456,
         1.6647766647766646
        ],
        [
         10918,
         8140,
         1.6025641025641024
        ]
       ],
       "datasetInfos": [],
       "dbfsResultPath": null,
       "isJsonSchema": true,
       "metadata": {},
       "overflow": false,
       "plotOptions": {
        "customPlotOptions": {},
        "displayType": "table",
        "pivotAggregation": null,
        "pivotColumns": null,
        "xColumns": null,
        "yColumns": null
       },
       "removedWidgets": [],
       "schema": [
        {
         "metadata": "{}",
         "name": "station_num",
         "type": "\"integer\""
        },
        {
         "metadata": "{}",
         "name": "count",
         "type": "\"long\""
        },
        {
         "metadata": "{}",
         "name": "sub_rat",
         "type": "\"double\""
        }
       ],
       "type": "table"
      }
     },
     "output_type": "display_data"
    },
    {
     "output_type": "stream",
     "name": "stdout",
     "output_type": "stream",
     "text": [
      "\uD83D\uDCCA Cluster 3 – Thirds subset station distribution:\n"
     ]
    },
    {
     "output_type": "display_data",
     "data": {
      "text/html": [
       "<style scoped>\n",
       "  .table-result-container {\n",
       "    max-height: 300px;\n",
       "    overflow: auto;\n",
       "  }\n",
       "  table, th, td {\n",
       "    border: 1px solid black;\n",
       "    border-collapse: collapse;\n",
       "  }\n",
       "  th, td {\n",
       "    padding: 5px;\n",
       "  }\n",
       "  th {\n",
       "    text-align: left;\n",
       "  }\n",
       "</style><div class='table-result-container'><table class='table-result'><thead style='background-color: white'><tr><th>station_num</th><th>count</th><th>sub_rat</th></tr></thead><tbody><tr><td>10179</td><td>3170</td><td>1.809577632022103</td></tr><tr><td>11207</td><td>2996</td><td>1.7102506578984922</td></tr><tr><td>12131</td><td>2945</td><td>1.6811375792760548</td></tr><tr><td>35513</td><td>2847</td><td>1.6251948007466648</td></tr><tr><td>10171</td><td>2668</td><td>1.5230136032286976</td></tr></tbody></table></div>"
      ]
     },
     "metadata": {
      "application/vnd.databricks.v1+output": {
       "addedWidgets": {},
       "aggData": [],
       "aggError": "",
       "aggOverflow": false,
       "aggSchema": [],
       "aggSeriesLimitReached": false,
       "aggType": "",
       "arguments": {},
       "columnCustomDisplayInfos": {},
       "data": [
        [
         10179,
         3170,
         1.809577632022103
        ],
        [
         11207,
         2996,
         1.7102506578984922
        ],
        [
         12131,
         2945,
         1.6811375792760548
        ],
        [
         35513,
         2847,
         1.6251948007466648
        ],
        [
         10171,
         2668,
         1.5230136032286976
        ]
       ],
       "datasetInfos": [],
       "dbfsResultPath": null,
       "isJsonSchema": true,
       "metadata": {},
       "overflow": false,
       "plotOptions": {
        "customPlotOptions": {},
        "displayType": "table",
        "pivotAggregation": null,
        "pivotColumns": null,
        "xColumns": null,
        "yColumns": null
       },
       "removedWidgets": [],
       "schema": [
        {
         "metadata": "{}",
         "name": "station_num",
         "type": "\"integer\""
        },
        {
         "metadata": "{}",
         "name": "count",
         "type": "\"long\""
        },
        {
         "metadata": "{}",
         "name": "sub_rat",
         "type": "\"double\""
        }
       ],
       "type": "table"
      }
     },
     "output_type": "display_data"
    },
    {
     "output_type": "stream",
     "name": "stdout",
     "output_type": "stream",
     "text": [
      "\uD83D\uDCCA Cluster 3 – 17ths subset station distribution:\n"
     ]
    },
    {
     "output_type": "display_data",
     "data": {
      "text/html": [
       "<style scoped>\n",
       "  .table-result-container {\n",
       "    max-height: 300px;\n",
       "    overflow: auto;\n",
       "  }\n",
       "  table, th, td {\n",
       "    border: 1px solid black;\n",
       "    border-collapse: collapse;\n",
       "  }\n",
       "  th, td {\n",
       "    padding: 5px;\n",
       "  }\n",
       "  th {\n",
       "    text-align: left;\n",
       "  }\n",
       "</style><div class='table-result-container'><table class='table-result'><thead style='background-color: white'><tr><th>station_num</th><th>count</th><th>sub_rat</th></tr></thead><tbody><tr><td>10171</td><td>908</td><td>2.8696943838690308</td></tr><tr><td>10179</td><td>810</td><td>2.559969659618849</td></tr><tr><td>12131</td><td>625</td><td>1.9752852311873834</td></tr><tr><td>32645</td><td>523</td><td>1.6529186814576027</td></tr><tr><td>16615</td><td>454</td><td>1.4348471919345154</td></tr></tbody></table></div>"
      ]
     },
     "metadata": {
      "application/vnd.databricks.v1+output": {
       "addedWidgets": {},
       "aggData": [],
       "aggError": "",
       "aggOverflow": false,
       "aggSchema": [],
       "aggSeriesLimitReached": false,
       "aggType": "",
       "arguments": {},
       "columnCustomDisplayInfos": {},
       "data": [
        [
         10171,
         908,
         2.8696943838690308
        ],
        [
         10179,
         810,
         2.559969659618849
        ],
        [
         12131,
         625,
         1.9752852311873834
        ],
        [
         32645,
         523,
         1.6529186814576027
        ],
        [
         16615,
         454,
         1.4348471919345154
        ]
       ],
       "datasetInfos": [],
       "dbfsResultPath": null,
       "isJsonSchema": true,
       "metadata": {},
       "overflow": false,
       "plotOptions": {
        "customPlotOptions": {},
        "displayType": "table",
        "pivotAggregation": null,
        "pivotColumns": null,
        "xColumns": null,
        "yColumns": null
       },
       "removedWidgets": [],
       "schema": [
        {
         "metadata": "{}",
         "name": "station_num",
         "type": "\"integer\""
        },
        {
         "metadata": "{}",
         "name": "count",
         "type": "\"long\""
        },
        {
         "metadata": "{}",
         "name": "sub_rat",
         "type": "\"double\""
        }
       ],
       "type": "table"
      }
     },
     "output_type": "display_data"
    },
    {
     "output_type": "stream",
     "name": "stdout",
     "output_type": "stream",
     "text": [
      "\n\uD83D\uDCCA Cluster 4 – Full subset station distribution:\n"
     ]
    },
    {
     "output_type": "display_data",
     "data": {
      "text/html": [
       "<style scoped>\n",
       "  .table-result-container {\n",
       "    max-height: 300px;\n",
       "    overflow: auto;\n",
       "  }\n",
       "  table, th, td {\n",
       "    border: 1px solid black;\n",
       "    border-collapse: collapse;\n",
       "  }\n",
       "  th, td {\n",
       "    padding: 5px;\n",
       "  }\n",
       "  th {\n",
       "    text-align: left;\n",
       "  }\n",
       "</style><div class='table-result-container'><table class='table-result'><thead style='background-color: white'><tr><th>station_num</th><th>count</th><th>sub_rat</th></tr></thead><tbody><tr><td>12131</td><td>4691</td><td>1.9071276405444524</td></tr><tr><td>10171</td><td>3771</td><td>1.533101328606508</td></tr><tr><td>32645</td><td>3133</td><td>1.273722212284325</td></tr><tr><td>11207</td><td>2992</td><td>1.2163986144764445</td></tr><tr><td>10918</td><td>2952</td><td>1.2001366009139252</td></tr></tbody></table></div>"
      ]
     },
     "metadata": {
      "application/vnd.databricks.v1+output": {
       "addedWidgets": {},
       "aggData": [],
       "aggError": "",
       "aggOverflow": false,
       "aggSchema": [],
       "aggSeriesLimitReached": false,
       "aggType": "",
       "arguments": {},
       "columnCustomDisplayInfos": {},
       "data": [
        [
         12131,
         4691,
         1.9071276405444524
        ],
        [
         10171,
         3771,
         1.533101328606508
        ],
        [
         32645,
         3133,
         1.273722212284325
        ],
        [
         11207,
         2992,
         1.2163986144764445
        ],
        [
         10918,
         2952,
         1.2001366009139252
        ]
       ],
       "datasetInfos": [],
       "dbfsResultPath": null,
       "isJsonSchema": true,
       "metadata": {},
       "overflow": false,
       "plotOptions": {
        "customPlotOptions": {},
        "displayType": "table",
        "pivotAggregation": null,
        "pivotColumns": null,
        "xColumns": null,
        "yColumns": null
       },
       "removedWidgets": [],
       "schema": [
        {
         "metadata": "{}",
         "name": "station_num",
         "type": "\"integer\""
        },
        {
         "metadata": "{}",
         "name": "count",
         "type": "\"long\""
        },
        {
         "metadata": "{}",
         "name": "sub_rat",
         "type": "\"double\""
        }
       ],
       "type": "table"
      }
     },
     "output_type": "display_data"
    },
    {
     "output_type": "stream",
     "name": "stdout",
     "output_type": "stream",
     "text": [
      "\uD83D\uDCCA Cluster 4 – Thirds subset station distribution:\n"
     ]
    },
    {
     "output_type": "display_data",
     "data": {
      "text/html": [
       "<style scoped>\n",
       "  .table-result-container {\n",
       "    max-height: 300px;\n",
       "    overflow: auto;\n",
       "  }\n",
       "  table, th, td {\n",
       "    border: 1px solid black;\n",
       "    border-collapse: collapse;\n",
       "  }\n",
       "  th, td {\n",
       "    padding: 5px;\n",
       "  }\n",
       "  th {\n",
       "    text-align: left;\n",
       "  }\n",
       "</style><div class='table-result-container'><table class='table-result'><thead style='background-color: white'><tr><th>station_num</th><th>count</th><th>sub_rat</th></tr></thead><tbody><tr><td>12131</td><td>1478</td><td>1.8090575275397796</td></tr><tr><td>10171</td><td>1362</td><td>1.6670746634026927</td></tr><tr><td>11207</td><td>1242</td><td>1.5201958384332925</td></tr><tr><td>32645</td><td>1235</td><td>1.5116279069767442</td></tr><tr><td>10918</td><td>1010</td><td>1.2362301101591189</td></tr></tbody></table></div>"
      ]
     },
     "metadata": {
      "application/vnd.databricks.v1+output": {
       "addedWidgets": {},
       "aggData": [],
       "aggError": "",
       "aggOverflow": false,
       "aggSchema": [],
       "aggSeriesLimitReached": false,
       "aggType": "",
       "arguments": {},
       "columnCustomDisplayInfos": {},
       "data": [
        [
         12131,
         1478,
         1.8090575275397796
        ],
        [
         10171,
         1362,
         1.6670746634026927
        ],
        [
         11207,
         1242,
         1.5201958384332925
        ],
        [
         32645,
         1235,
         1.5116279069767442
        ],
        [
         10918,
         1010,
         1.2362301101591189
        ]
       ],
       "datasetInfos": [],
       "dbfsResultPath": null,
       "isJsonSchema": true,
       "metadata": {},
       "overflow": false,
       "plotOptions": {
        "customPlotOptions": {},
        "displayType": "table",
        "pivotAggregation": null,
        "pivotColumns": null,
        "xColumns": null,
        "yColumns": null
       },
       "removedWidgets": [],
       "schema": [
        {
         "metadata": "{}",
         "name": "station_num",
         "type": "\"integer\""
        },
        {
         "metadata": "{}",
         "name": "count",
         "type": "\"long\""
        },
        {
         "metadata": "{}",
         "name": "sub_rat",
         "type": "\"double\""
        }
       ],
       "type": "table"
      }
     },
     "output_type": "display_data"
    },
    {
     "output_type": "stream",
     "name": "stdout",
     "output_type": "stream",
     "text": [
      "\uD83D\uDCCA Cluster 4 – 17ths subset station distribution:\n"
     ]
    },
    {
     "output_type": "display_data",
     "data": {
      "text/html": [
       "<style scoped>\n",
       "  .table-result-container {\n",
       "    max-height: 300px;\n",
       "    overflow: auto;\n",
       "  }\n",
       "  table, th, td {\n",
       "    border: 1px solid black;\n",
       "    border-collapse: collapse;\n",
       "  }\n",
       "  th, td {\n",
       "    padding: 5px;\n",
       "  }\n",
       "  th {\n",
       "    text-align: left;\n",
       "  }\n",
       "</style><div class='table-result-container'><table class='table-result'><thead style='background-color: white'><tr><th>station_num</th><th>count</th><th>sub_rat</th></tr></thead><tbody><tr><td>10171</td><td>401</td><td>2.9191235349785254</td></tr><tr><td>12131</td><td>322</td><td>2.344034359758317</td></tr><tr><td>11207</td><td>211</td><td>1.53599767052486</td></tr><tr><td>11221</td><td>195</td><td>1.4195239135182356</td></tr><tr><td>10918</td><td>192</td><td>1.3976850840794932</td></tr></tbody></table></div>"
      ]
     },
     "metadata": {
      "application/vnd.databricks.v1+output": {
       "addedWidgets": {},
       "aggData": [],
       "aggError": "",
       "aggOverflow": false,
       "aggSchema": [],
       "aggSeriesLimitReached": false,
       "aggType": "",
       "arguments": {},
       "columnCustomDisplayInfos": {},
       "data": [
        [
         10171,
         401,
         2.9191235349785254
        ],
        [
         12131,
         322,
         2.344034359758317
        ],
        [
         11207,
         211,
         1.53599767052486
        ],
        [
         11221,
         195,
         1.4195239135182356
        ],
        [
         10918,
         192,
         1.3976850840794932
        ]
       ],
       "datasetInfos": [],
       "dbfsResultPath": null,
       "isJsonSchema": true,
       "metadata": {},
       "overflow": false,
       "plotOptions": {
        "customPlotOptions": {},
        "displayType": "table",
        "pivotAggregation": null,
        "pivotColumns": null,
        "xColumns": null,
        "yColumns": null
       },
       "removedWidgets": [],
       "schema": [
        {
         "metadata": "{}",
         "name": "station_num",
         "type": "\"integer\""
        },
        {
         "metadata": "{}",
         "name": "count",
         "type": "\"long\""
        },
        {
         "metadata": "{}",
         "name": "sub_rat",
         "type": "\"double\""
        }
       ],
       "type": "table"
      }
     },
     "output_type": "display_data"
    },
    {
     "output_type": "stream",
     "name": "stdout",
     "output_type": "stream",
     "text": [
      "\n\uD83D\uDCCA Cluster 5 – Full subset station distribution:\n"
     ]
    },
    {
     "output_type": "display_data",
     "data": {
      "text/html": [
       "<style scoped>\n",
       "  .table-result-container {\n",
       "    max-height: 300px;\n",
       "    overflow: auto;\n",
       "  }\n",
       "  table, th, td {\n",
       "    border: 1px solid black;\n",
       "    border-collapse: collapse;\n",
       "  }\n",
       "  th, td {\n",
       "    padding: 5px;\n",
       "  }\n",
       "  th {\n",
       "    text-align: left;\n",
       "  }\n",
       "</style><div class='table-result-container'><table class='table-result'><thead style='background-color: white'><tr><th>station_num</th><th>count</th><th>sub_rat</th></tr></thead><tbody><tr><td>16374</td><td>48065</td><td>1.6471396177429816</td></tr><tr><td>60179</td><td>46390</td><td>1.5897390381170688</td></tr><tr><td>14771</td><td>37482</td><td>1.2844707615154987</td></tr><tr><td>32645</td><td>32706</td><td>1.1208020043254334</td></tr><tr><td>14902</td><td>32418</td><td>1.1109325315300527</td></tr></tbody></table></div>"
      ]
     },
     "metadata": {
      "application/vnd.databricks.v1+output": {
       "addedWidgets": {},
       "aggData": [],
       "aggError": "",
       "aggOverflow": false,
       "aggSchema": [],
       "aggSeriesLimitReached": false,
       "aggType": "",
       "arguments": {},
       "columnCustomDisplayInfos": {},
       "data": [
        [
         16374,
         48065,
         1.6471396177429816
        ],
        [
         60179,
         46390,
         1.5897390381170688
        ],
        [
         14771,
         37482,
         1.2844707615154987
        ],
        [
         32645,
         32706,
         1.1208020043254334
        ],
        [
         14902,
         32418,
         1.1109325315300527
        ]
       ],
       "datasetInfos": [],
       "dbfsResultPath": null,
       "isJsonSchema": true,
       "metadata": {},
       "overflow": false,
       "plotOptions": {
        "customPlotOptions": {},
        "displayType": "table",
        "pivotAggregation": null,
        "pivotColumns": null,
        "xColumns": null,
        "yColumns": null
       },
       "removedWidgets": [],
       "schema": [
        {
         "metadata": "{}",
         "name": "station_num",
         "type": "\"integer\""
        },
        {
         "metadata": "{}",
         "name": "count",
         "type": "\"long\""
        },
        {
         "metadata": "{}",
         "name": "sub_rat",
         "type": "\"double\""
        }
       ],
       "type": "table"
      }
     },
     "output_type": "display_data"
    },
    {
     "output_type": "stream",
     "name": "stdout",
     "output_type": "stream",
     "text": [
      "\uD83D\uDCCA Cluster 5 – Thirds subset station distribution:\n"
     ]
    },
    {
     "output_type": "display_data",
     "data": {
      "text/html": [
       "<style scoped>\n",
       "  .table-result-container {\n",
       "    max-height: 300px;\n",
       "    overflow: auto;\n",
       "  }\n",
       "  table, th, td {\n",
       "    border: 1px solid black;\n",
       "    border-collapse: collapse;\n",
       "  }\n",
       "  th, td {\n",
       "    padding: 5px;\n",
       "  }\n",
       "  th {\n",
       "    text-align: left;\n",
       "  }\n",
       "</style><div class='table-result-container'><table class='table-result'><thead style='background-color: white'><tr><th>station_num</th><th>count</th><th>sub_rat</th></tr></thead><tbody><tr><td>60179</td><td>15606</td><td>1.5933578439130076</td></tr><tr><td>16374</td><td>15356</td><td>1.5678330802978435</td></tr><tr><td>14771</td><td>12544</td><td>1.2807305391544768</td></tr><tr><td>11207</td><td>11073</td><td>1.130542830042851</td></tr><tr><td>14902</td><td>10911</td><td>1.1140027832202246</td></tr></tbody></table></div>"
      ]
     },
     "metadata": {
      "application/vnd.databricks.v1+output": {
       "addedWidgets": {},
       "aggData": [],
       "aggError": "",
       "aggOverflow": false,
       "aggSchema": [],
       "aggSeriesLimitReached": false,
       "aggType": "",
       "arguments": {},
       "columnCustomDisplayInfos": {},
       "data": [
        [
         60179,
         15606,
         1.5933578439130076
        ],
        [
         16374,
         15356,
         1.5678330802978435
        ],
        [
         14771,
         12544,
         1.2807305391544768
        ],
        [
         11207,
         11073,
         1.130542830042851
        ],
        [
         14902,
         10911,
         1.1140027832202246
        ]
       ],
       "datasetInfos": [],
       "dbfsResultPath": null,
       "isJsonSchema": true,
       "metadata": {},
       "overflow": false,
       "plotOptions": {
        "customPlotOptions": {},
        "displayType": "table",
        "pivotAggregation": null,
        "pivotColumns": null,
        "xColumns": null,
        "yColumns": null
       },
       "removedWidgets": [],
       "schema": [
        {
         "metadata": "{}",
         "name": "station_num",
         "type": "\"integer\""
        },
        {
         "metadata": "{}",
         "name": "count",
         "type": "\"long\""
        },
        {
         "metadata": "{}",
         "name": "sub_rat",
         "type": "\"double\""
        }
       ],
       "type": "table"
      }
     },
     "output_type": "display_data"
    },
    {
     "output_type": "stream",
     "name": "stdout",
     "output_type": "stream",
     "text": [
      "\uD83D\uDCCA Cluster 5 – 17ths subset station distribution:\n"
     ]
    },
    {
     "output_type": "display_data",
     "data": {
      "text/html": [
       "<style scoped>\n",
       "  .table-result-container {\n",
       "    max-height: 300px;\n",
       "    overflow: auto;\n",
       "  }\n",
       "  table, th, td {\n",
       "    border: 1px solid black;\n",
       "    border-collapse: collapse;\n",
       "  }\n",
       "  th, td {\n",
       "    padding: 5px;\n",
       "  }\n",
       "  th {\n",
       "    text-align: left;\n",
       "  }\n",
       "</style><div class='table-result-container'><table class='table-result'><thead style='background-color: white'><tr><th>station_num</th><th>count</th><th>sub_rat</th></tr></thead><tbody><tr><td>16374</td><td>2726</td><td>1.545333953129783</td></tr><tr><td>60179</td><td>2338</td><td>1.3253817983923084</td></tr><tr><td>14771</td><td>2146</td><td>1.2165394950170634</td></tr><tr><td>11207</td><td>1941</td><td>1.1003276606841192</td></tr><tr><td>32645</td><td>1776</td><td>1.0067913062210179</td></tr></tbody></table></div>"
      ]
     },
     "metadata": {
      "application/vnd.databricks.v1+output": {
       "addedWidgets": {},
       "aggData": [],
       "aggError": "",
       "aggOverflow": false,
       "aggSchema": [],
       "aggSeriesLimitReached": false,
       "aggType": "",
       "arguments": {},
       "columnCustomDisplayInfos": {},
       "data": [
        [
         16374,
         2726,
         1.545333953129783
        ],
        [
         60179,
         2338,
         1.3253817983923084
        ],
        [
         14771,
         2146,
         1.2165394950170634
        ],
        [
         11207,
         1941,
         1.1003276606841192
        ],
        [
         32645,
         1776,
         1.0067913062210179
        ]
       ],
       "datasetInfos": [],
       "dbfsResultPath": null,
       "isJsonSchema": true,
       "metadata": {},
       "overflow": false,
       "plotOptions": {
        "customPlotOptions": {},
        "displayType": "table",
        "pivotAggregation": null,
        "pivotColumns": null,
        "xColumns": null,
        "yColumns": null
       },
       "removedWidgets": [],
       "schema": [
        {
         "metadata": "{}",
         "name": "station_num",
         "type": "\"integer\""
        },
        {
         "metadata": "{}",
         "name": "count",
         "type": "\"long\""
        },
        {
         "metadata": "{}",
         "name": "sub_rat",
         "type": "\"double\""
        }
       ],
       "type": "table"
      }
     },
     "output_type": "display_data"
    }
   ],
   "source": [
    "from pyspark.sql.functions import col, count, lit\n",
    "\n",
    "full_final = {}\n",
    "thirds_final = {}\n",
    "seventeenths_final = {}\n",
    "\n",
    "for i in range(6):\n",
    "    print(f\"\\n\uD83D\uDCCA Cluster {i} – Full subset station distribution:\")\n",
    "    full_final[i] = (\n",
    "        viewing_full[i]\n",
    "          .groupBy(\"station_num\")\n",
    "          .agg(count(\"*\").alias(\"count\"))\n",
    "          .withColumn(\"sub_rat\", (col(\"count\") / \\\n",
    "            lit(viewing_counts[\"full\"][i])) * 100)  # אחוזים\n",
    "          .orderBy(col(\"sub_rat\").desc())\n",
    "    )\n",
    "    display(full_final[i].limit(5))\n",
    "\n",
    "    print(f\"\uD83D\uDCCA Cluster {i} – Thirds subset station distribution:\")\n",
    "    thirds_final[i] = (\n",
    "        viewing_thirds[i]\n",
    "          .groupBy(\"station_num\")\n",
    "          .agg(count(\"*\").alias(\"count\"))\n",
    "          .withColumn(\"sub_rat\", (col(\"count\") /\\\n",
    "             lit(viewing_counts[\"thirds\"][i])) * 100)  # אחוזים\n",
    "          .orderBy(col(\"sub_rat\").desc())\n",
    "    )\n",
    "    display(thirds_final[i].limit(5))\n",
    "\n",
    "    print(f\"\uD83D\uDCCA Cluster {i} – 17ths subset station distribution:\")\n",
    "    seventeenths_final[i] = (\n",
    "        viewing_seventeenths[i]\n",
    "          .groupBy(\"station_num\")\n",
    "          .agg(count(\"*\").alias(\"count\"))\n",
    "          .withColumn(\"sub_rat\", (col(\"count\") / \\\n",
    "            lit(viewing_counts[\"seventeenths\"][i])) * 100)  # אחוזים\n",
    "          .orderBy(col(\"sub_rat\").desc())\n",
    "    )\n",
    "    display(seventeenths_final[i].limit(5))\n",
    "\n"
   ]
  },
  {
   "cell_type": "code",
   "execution_count": 0,
   "metadata": {
    "application/vnd.databricks.v1+cell": {
     "cellMetadata": {
      "byteLimit": 2048000,
      "rowLimit": 10000
     },
     "inputWidgets": {},
     "nuid": "ea126bdb-5466-4f38-86d0-bd60bec43f63",
     "showTitle": false,
     "tableResultSettingsMap": {},
     "title": ""
    }
   },
   "outputs": [
    {
     "output_type": "stream",
     "name": "stdout",
     "output_type": "stream",
     "text": [
      "\n\uD83D\uDCCA Cluster 0 – Full subset:\n"
     ]
    },
    {
     "output_type": "display_data",
     "data": {
      "text/html": [
       "<style scoped>\n",
       "  .table-result-container {\n",
       "    max-height: 300px;\n",
       "    overflow: auto;\n",
       "  }\n",
       "  table, th, td {\n",
       "    border: 1px solid black;\n",
       "    border-collapse: collapse;\n",
       "  }\n",
       "  th, td {\n",
       "    padding: 5px;\n",
       "  }\n",
       "  th {\n",
       "    text-align: left;\n",
       "  }\n",
       "</style><div class='table-result-container'><table class='table-result'><thead style='background-color: white'><tr><th>station_num</th><th>diff_rank</th></tr></thead><tbody><tr><td>60179</td><td>0.3920006870166719</td></tr><tr><td>16374</td><td>0.22730308873892513</td></tr><tr><td>49788</td><td>0.2045526380494167</td></tr><tr><td>32645</td><td>0.1001779326043215</td></tr><tr><td>10335</td><td>0.08745533979025041</td></tr><tr><td>50747</td><td>0.08060981371936737</td></tr><tr><td>61854</td><td>0.07566834124361119</td></tr></tbody></table></div>"
      ]
     },
     "metadata": {
      "application/vnd.databricks.v1+output": {
       "addedWidgets": {},
       "aggData": [],
       "aggError": "",
       "aggOverflow": false,
       "aggSchema": [],
       "aggSeriesLimitReached": false,
       "aggType": "",
       "arguments": {},
       "columnCustomDisplayInfos": {},
       "data": [
        [
         60179,
         0.3920006870166719
        ],
        [
         16374,
         0.22730308873892513
        ],
        [
         49788,
         0.2045526380494167
        ],
        [
         32645,
         0.1001779326043215
        ],
        [
         10335,
         0.08745533979025041
        ],
        [
         50747,
         0.08060981371936737
        ],
        [
         61854,
         0.07566834124361119
        ]
       ],
       "datasetInfos": [],
       "dbfsResultPath": null,
       "isJsonSchema": true,
       "metadata": {},
       "overflow": false,
       "plotOptions": {
        "customPlotOptions": {},
        "displayType": "table",
        "pivotAggregation": null,
        "pivotColumns": null,
        "xColumns": null,
        "yColumns": null
       },
       "removedWidgets": [],
       "schema": [
        {
         "metadata": "{}",
         "name": "station_num",
         "type": "\"integer\""
        },
        {
         "metadata": "{}",
         "name": "diff_rank",
         "type": "\"double\""
        }
       ],
       "type": "table"
      }
     },
     "output_type": "display_data"
    },
    {
     "output_type": "stream",
     "name": "stdout",
     "output_type": "stream",
     "text": [
      "\uD83D\uDCCA Cluster 0 – Thirds subset:\n"
     ]
    },
    {
     "output_type": "display_data",
     "data": {
      "text/html": [
       "<style scoped>\n",
       "  .table-result-container {\n",
       "    max-height: 300px;\n",
       "    overflow: auto;\n",
       "  }\n",
       "  table, th, td {\n",
       "    border: 1px solid black;\n",
       "    border-collapse: collapse;\n",
       "  }\n",
       "  th, td {\n",
       "    padding: 5px;\n",
       "  }\n",
       "  th {\n",
       "    text-align: left;\n",
       "  }\n",
       "</style><div class='table-result-container'><table class='table-result'><thead style='background-color: white'><tr><th>station_num</th><th>diff_rank</th></tr></thead><tbody><tr><td>16374</td><td>0.256218146450512</td></tr><tr><td>60179</td><td>0.22104180434882914</td></tr><tr><td>32645</td><td>0.1735014006869462</td></tr><tr><td>45507</td><td>0.1097926770565591</td></tr><tr><td>49788</td><td>0.10752090780781431</td></tr><tr><td>11865</td><td>0.09379017355144018</td></tr><tr><td>11069</td><td>0.0891289484237503</td></tr></tbody></table></div>"
      ]
     },
     "metadata": {
      "application/vnd.databricks.v1+output": {
       "addedWidgets": {},
       "aggData": [],
       "aggError": "",
       "aggOverflow": false,
       "aggSchema": [],
       "aggSeriesLimitReached": false,
       "aggType": "",
       "arguments": {},
       "columnCustomDisplayInfos": {},
       "data": [
        [
         16374,
         0.256218146450512
        ],
        [
         60179,
         0.22104180434882914
        ],
        [
         32645,
         0.1735014006869462
        ],
        [
         45507,
         0.1097926770565591
        ],
        [
         49788,
         0.10752090780781431
        ],
        [
         11865,
         0.09379017355144018
        ],
        [
         11069,
         0.0891289484237503
        ]
       ],
       "datasetInfos": [],
       "dbfsResultPath": null,
       "isJsonSchema": true,
       "metadata": {},
       "overflow": false,
       "plotOptions": {
        "customPlotOptions": {},
        "displayType": "table",
        "pivotAggregation": null,
        "pivotColumns": null,
        "xColumns": null,
        "yColumns": null
       },
       "removedWidgets": [],
       "schema": [
        {
         "metadata": "{}",
         "name": "station_num",
         "type": "\"integer\""
        },
        {
         "metadata": "{}",
         "name": "diff_rank",
         "type": "\"double\""
        }
       ],
       "type": "table"
      }
     },
     "output_type": "display_data"
    },
    {
     "output_type": "stream",
     "name": "stdout",
     "output_type": "stream",
     "text": [
      "\uD83D\uDCCA Cluster 0 – 17ths subset:\n"
     ]
    },
    {
     "output_type": "display_data",
     "data": {
      "text/html": [
       "<style scoped>\n",
       "  .table-result-container {\n",
       "    max-height: 300px;\n",
       "    overflow: auto;\n",
       "  }\n",
       "  table, th, td {\n",
       "    border: 1px solid black;\n",
       "    border-collapse: collapse;\n",
       "  }\n",
       "  th, td {\n",
       "    padding: 5px;\n",
       "  }\n",
       "  th {\n",
       "    text-align: left;\n",
       "  }\n",
       "</style><div class='table-result-container'><table class='table-result'><thead style='background-color: white'><tr><th>station_num</th><th>diff_rank</th></tr></thead><tbody><tr><td>16374</td><td>0.33292051135803113</td></tr><tr><td>35070</td><td>0.19492094633199625</td></tr><tr><td>11069</td><td>0.1932363748678282</td></tr><tr><td>49788</td><td>0.18334030811743451</td></tr><tr><td>61522</td><td>0.1804327586777299</td></tr><tr><td>59684</td><td>0.17904090797268046</td></tr><tr><td>30754</td><td>0.1670806972293202</td></tr></tbody></table></div>"
      ]
     },
     "metadata": {
      "application/vnd.databricks.v1+output": {
       "addedWidgets": {},
       "aggData": [],
       "aggError": "",
       "aggOverflow": false,
       "aggSchema": [],
       "aggSeriesLimitReached": false,
       "aggType": "",
       "arguments": {},
       "columnCustomDisplayInfos": {},
       "data": [
        [
         16374,
         0.33292051135803113
        ],
        [
         35070,
         0.19492094633199625
        ],
        [
         11069,
         0.1932363748678282
        ],
        [
         49788,
         0.18334030811743451
        ],
        [
         61522,
         0.1804327586777299
        ],
        [
         59684,
         0.17904090797268046
        ],
        [
         30754,
         0.1670806972293202
        ]
       ],
       "datasetInfos": [],
       "dbfsResultPath": null,
       "isJsonSchema": true,
       "metadata": {},
       "overflow": false,
       "plotOptions": {
        "customPlotOptions": {},
        "displayType": "table",
        "pivotAggregation": null,
        "pivotColumns": null,
        "xColumns": null,
        "yColumns": null
       },
       "removedWidgets": [],
       "schema": [
        {
         "metadata": "{}",
         "name": "station_num",
         "type": "\"integer\""
        },
        {
         "metadata": "{}",
         "name": "diff_rank",
         "type": "\"double\""
        }
       ],
       "type": "table"
      }
     },
     "output_type": "display_data"
    },
    {
     "output_type": "stream",
     "name": "stdout",
     "output_type": "stream",
     "text": [
      "\n\uD83D\uDCCA Cluster 1 – Full subset:\n"
     ]
    },
    {
     "output_type": "display_data",
     "data": {
      "text/html": [
       "<style scoped>\n",
       "  .table-result-container {\n",
       "    max-height: 300px;\n",
       "    overflow: auto;\n",
       "  }\n",
       "  table, th, td {\n",
       "    border: 1px solid black;\n",
       "    border-collapse: collapse;\n",
       "  }\n",
       "  th, td {\n",
       "    padding: 5px;\n",
       "  }\n",
       "  th {\n",
       "    text-align: left;\n",
       "  }\n",
       "</style><div class='table-result-container'><table class='table-result'><thead style='background-color: white'><tr><th>station_num</th><th>diff_rank</th></tr></thead><tbody><tr><td>74796</td><td>0.09908511426226463</td></tr><tr><td>16615</td><td>0.07821507285923013</td></tr><tr><td>58515</td><td>0.0729052049584783</td></tr><tr><td>15433</td><td>0.06216254750469358</td></tr><tr><td>11867</td><td>0.05490510429148865</td></tr><tr><td>10145</td><td>0.05024015654787872</td></tr><tr><td>18151</td><td>0.045981363105474835</td></tr></tbody></table></div>"
      ]
     },
     "metadata": {
      "application/vnd.databricks.v1+output": {
       "addedWidgets": {},
       "aggData": [],
       "aggError": "",
       "aggOverflow": false,
       "aggSchema": [],
       "aggSeriesLimitReached": false,
       "aggType": "",
       "arguments": {},
       "columnCustomDisplayInfos": {},
       "data": [
        [
         74796,
         0.09908511426226463
        ],
        [
         16615,
         0.07821507285923013
        ],
        [
         58515,
         0.0729052049584783
        ],
        [
         15433,
         0.06216254750469358
        ],
        [
         11867,
         0.05490510429148865
        ],
        [
         10145,
         0.05024015654787872
        ],
        [
         18151,
         0.045981363105474835
        ]
       ],
       "datasetInfos": [],
       "dbfsResultPath": null,
       "isJsonSchema": true,
       "metadata": {},
       "overflow": false,
       "plotOptions": {
        "customPlotOptions": {},
        "displayType": "table",
        "pivotAggregation": null,
        "pivotColumns": null,
        "xColumns": null,
        "yColumns": null
       },
       "removedWidgets": [],
       "schema": [
        {
         "metadata": "{}",
         "name": "station_num",
         "type": "\"integer\""
        },
        {
         "metadata": "{}",
         "name": "diff_rank",
         "type": "\"double\""
        }
       ],
       "type": "table"
      }
     },
     "output_type": "display_data"
    },
    {
     "output_type": "stream",
     "name": "stdout",
     "output_type": "stream",
     "text": [
      "\uD83D\uDCCA Cluster 1 – Thirds subset:\n"
     ]
    },
    {
     "output_type": "display_data",
     "data": {
      "text/html": [
       "<style scoped>\n",
       "  .table-result-container {\n",
       "    max-height: 300px;\n",
       "    overflow: auto;\n",
       "  }\n",
       "  table, th, td {\n",
       "    border: 1px solid black;\n",
       "    border-collapse: collapse;\n",
       "  }\n",
       "  th, td {\n",
       "    padding: 5px;\n",
       "  }\n",
       "  th {\n",
       "    text-align: left;\n",
       "  }\n",
       "</style><div class='table-result-container'><table class='table-result'><thead style='background-color: white'><tr><th>station_num</th><th>diff_rank</th></tr></thead><tbody><tr><td>74796</td><td>0.1392865993066058</td></tr><tr><td>16615</td><td>0.11075668989285414</td></tr><tr><td>11867</td><td>0.1096502217405041</td></tr><tr><td>35859</td><td>0.10889860721950724</td></tr><tr><td>15433</td><td>0.10125561152544815</td></tr><tr><td>10145</td><td>0.09221123263989317</td></tr><tr><td>58515</td><td>0.08846224323634289</td></tr></tbody></table></div>"
      ]
     },
     "metadata": {
      "application/vnd.databricks.v1+output": {
       "addedWidgets": {},
       "aggData": [],
       "aggError": "",
       "aggOverflow": false,
       "aggSchema": [],
       "aggSeriesLimitReached": false,
       "aggType": "",
       "arguments": {},
       "columnCustomDisplayInfos": {},
       "data": [
        [
         74796,
         0.1392865993066058
        ],
        [
         16615,
         0.11075668989285414
        ],
        [
         11867,
         0.1096502217405041
        ],
        [
         35859,
         0.10889860721950724
        ],
        [
         15433,
         0.10125561152544815
        ],
        [
         10145,
         0.09221123263989317
        ],
        [
         58515,
         0.08846224323634289
        ]
       ],
       "datasetInfos": [],
       "dbfsResultPath": null,
       "isJsonSchema": true,
       "metadata": {},
       "overflow": false,
       "plotOptions": {
        "customPlotOptions": {},
        "displayType": "table",
        "pivotAggregation": null,
        "pivotColumns": null,
        "xColumns": null,
        "yColumns": null
       },
       "removedWidgets": [],
       "schema": [
        {
         "metadata": "{}",
         "name": "station_num",
         "type": "\"integer\""
        },
        {
         "metadata": "{}",
         "name": "diff_rank",
         "type": "\"double\""
        }
       ],
       "type": "table"
      }
     },
     "output_type": "display_data"
    },
    {
     "output_type": "stream",
     "name": "stdout",
     "output_type": "stream",
     "text": [
      "\uD83D\uDCCA Cluster 1 – 17ths subset:\n"
     ]
    },
    {
     "output_type": "display_data",
     "data": {
      "text/html": [
       "<style scoped>\n",
       "  .table-result-container {\n",
       "    max-height: 300px;\n",
       "    overflow: auto;\n",
       "  }\n",
       "  table, th, td {\n",
       "    border: 1px solid black;\n",
       "    border-collapse: collapse;\n",
       "  }\n",
       "  th, td {\n",
       "    padding: 5px;\n",
       "  }\n",
       "  th {\n",
       "    text-align: left;\n",
       "  }\n",
       "</style><div class='table-result-container'><table class='table-result'><thead style='background-color: white'><tr><th>station_num</th><th>diff_rank</th></tr></thead><tbody><tr><td>12574</td><td>0.42009922429903135</td></tr><tr><td>16374</td><td>0.36913921393469673</td></tr><tr><td>14902</td><td>0.32957228735556776</td></tr><tr><td>11158</td><td>0.2609606369274394</td></tr><tr><td>16615</td><td>0.2540155817987787</td></tr><tr><td>16123</td><td>0.2534212311635268</td></tr><tr><td>10057</td><td>0.25319885004926873</td></tr></tbody></table></div>"
      ]
     },
     "metadata": {
      "application/vnd.databricks.v1+output": {
       "addedWidgets": {},
       "aggData": [],
       "aggError": "",
       "aggOverflow": false,
       "aggSchema": [],
       "aggSeriesLimitReached": false,
       "aggType": "",
       "arguments": {},
       "columnCustomDisplayInfos": {},
       "data": [
        [
         12574,
         0.42009922429903135
        ],
        [
         16374,
         0.36913921393469673
        ],
        [
         14902,
         0.32957228735556776
        ],
        [
         11158,
         0.2609606369274394
        ],
        [
         16615,
         0.2540155817987787
        ],
        [
         16123,
         0.2534212311635268
        ],
        [
         10057,
         0.25319885004926873
        ]
       ],
       "datasetInfos": [],
       "dbfsResultPath": null,
       "isJsonSchema": true,
       "metadata": {},
       "overflow": false,
       "plotOptions": {
        "customPlotOptions": {},
        "displayType": "table",
        "pivotAggregation": null,
        "pivotColumns": null,
        "xColumns": null,
        "yColumns": null
       },
       "removedWidgets": [],
       "schema": [
        {
         "metadata": "{}",
         "name": "station_num",
         "type": "\"integer\""
        },
        {
         "metadata": "{}",
         "name": "diff_rank",
         "type": "\"double\""
        }
       ],
       "type": "table"
      }
     },
     "output_type": "display_data"
    },
    {
     "output_type": "stream",
     "name": "stdout",
     "output_type": "stream",
     "text": [
      "\n\uD83D\uDCCA Cluster 2 – Full subset:\n"
     ]
    },
    {
     "output_type": "display_data",
     "data": {
      "text/html": [
       "<style scoped>\n",
       "  .table-result-container {\n",
       "    max-height: 300px;\n",
       "    overflow: auto;\n",
       "  }\n",
       "  table, th, td {\n",
       "    border: 1px solid black;\n",
       "    border-collapse: collapse;\n",
       "  }\n",
       "  th, td {\n",
       "    padding: 5px;\n",
       "  }\n",
       "  th {\n",
       "    text-align: left;\n",
       "  }\n",
       "</style><div class='table-result-container'><table class='table-result'><thead style='background-color: white'><tr><th>station_num</th><th>diff_rank</th></tr></thead><tbody><tr><td>12131</td><td>1.0873718024502066</td></tr><tr><td>11118</td><td>0.7932517659986893</td></tr><tr><td>10222</td><td>0.732710780236983</td></tr><tr><td>10171</td><td>0.6282651264421779</td></tr><tr><td>59684</td><td>0.49541771437156923</td></tr><tr><td>44714</td><td>0.3917355689600071</td></tr><tr><td>21883</td><td>0.3498073553587867</td></tr></tbody></table></div>"
      ]
     },
     "metadata": {
      "application/vnd.databricks.v1+output": {
       "addedWidgets": {},
       "aggData": [],
       "aggError": "",
       "aggOverflow": false,
       "aggSchema": [],
       "aggSeriesLimitReached": false,
       "aggType": "",
       "arguments": {},
       "columnCustomDisplayInfos": {},
       "data": [
        [
         12131,
         1.0873718024502066
        ],
        [
         11118,
         0.7932517659986893
        ],
        [
         10222,
         0.732710780236983
        ],
        [
         10171,
         0.6282651264421779
        ],
        [
         59684,
         0.49541771437156923
        ],
        [
         44714,
         0.3917355689600071
        ],
        [
         21883,
         0.3498073553587867
        ]
       ],
       "datasetInfos": [],
       "dbfsResultPath": null,
       "isJsonSchema": true,
       "metadata": {},
       "overflow": false,
       "plotOptions": {
        "customPlotOptions": {},
        "displayType": "table",
        "pivotAggregation": null,
        "pivotColumns": null,
        "xColumns": null,
        "yColumns": null
       },
       "removedWidgets": [],
       "schema": [
        {
         "metadata": "{}",
         "name": "station_num",
         "type": "\"integer\""
        },
        {
         "metadata": "{}",
         "name": "diff_rank",
         "type": "\"double\""
        }
       ],
       "type": "table"
      }
     },
     "output_type": "display_data"
    },
    {
     "output_type": "stream",
     "name": "stdout",
     "output_type": "stream",
     "text": [
      "\uD83D\uDCCA Cluster 2 – Thirds subset:\n"
     ]
    },
    {
     "output_type": "display_data",
     "data": {
      "text/html": [
       "<style scoped>\n",
       "  .table-result-container {\n",
       "    max-height: 300px;\n",
       "    overflow: auto;\n",
       "  }\n",
       "  table, th, td {\n",
       "    border: 1px solid black;\n",
       "    border-collapse: collapse;\n",
       "  }\n",
       "  th, td {\n",
       "    padding: 5px;\n",
       "  }\n",
       "  th {\n",
       "    text-align: left;\n",
       "  }\n",
       "</style><div class='table-result-container'><table class='table-result'><thead style='background-color: white'><tr><th>station_num</th><th>diff_rank</th></tr></thead><tbody><tr><td>12131</td><td>1.5737465802576505</td></tr><tr><td>10222</td><td>0.7723033249399333</td></tr><tr><td>11118</td><td>0.7675798303462545</td></tr><tr><td>10171</td><td>0.7207823296470752</td></tr><tr><td>21883</td><td>0.5843193660815698</td></tr><tr><td>17927</td><td>0.4054949480904666</td></tr><tr><td>10153</td><td>0.3403690111704121</td></tr></tbody></table></div>"
      ]
     },
     "metadata": {
      "application/vnd.databricks.v1+output": {
       "addedWidgets": {},
       "aggData": [],
       "aggError": "",
       "aggOverflow": false,
       "aggSchema": [],
       "aggSeriesLimitReached": false,
       "aggType": "",
       "arguments": {},
       "columnCustomDisplayInfos": {},
       "data": [
        [
         12131,
         1.5737465802576505
        ],
        [
         10222,
         0.7723033249399333
        ],
        [
         11118,
         0.7675798303462545
        ],
        [
         10171,
         0.7207823296470752
        ],
        [
         21883,
         0.5843193660815698
        ],
        [
         17927,
         0.4054949480904666
        ],
        [
         10153,
         0.3403690111704121
        ]
       ],
       "datasetInfos": [],
       "dbfsResultPath": null,
       "isJsonSchema": true,
       "metadata": {},
       "overflow": false,
       "plotOptions": {
        "customPlotOptions": {},
        "displayType": "table",
        "pivotAggregation": null,
        "pivotColumns": null,
        "xColumns": null,
        "yColumns": null
       },
       "removedWidgets": [],
       "schema": [
        {
         "metadata": "{}",
         "name": "station_num",
         "type": "\"integer\""
        },
        {
         "metadata": "{}",
         "name": "diff_rank",
         "type": "\"double\""
        }
       ],
       "type": "table"
      }
     },
     "output_type": "display_data"
    },
    {
     "output_type": "stream",
     "name": "stdout",
     "output_type": "stream",
     "text": [
      "\uD83D\uDCCA Cluster 2 – 17ths subset:\n"
     ]
    },
    {
     "output_type": "display_data",
     "data": {
      "text/html": [
       "<style scoped>\n",
       "  .table-result-container {\n",
       "    max-height: 300px;\n",
       "    overflow: auto;\n",
       "  }\n",
       "  table, th, td {\n",
       "    border: 1px solid black;\n",
       "    border-collapse: collapse;\n",
       "  }\n",
       "  th, td {\n",
       "    padding: 5px;\n",
       "  }\n",
       "  th {\n",
       "    text-align: left;\n",
       "  }\n",
       "</style><div class='table-result-container'><table class='table-result'><thead style='background-color: white'><tr><th>station_num</th><th>diff_rank</th></tr></thead><tbody><tr><td>10222</td><td>0.8519435073760694</td></tr><tr><td>59684</td><td>0.7493130330613718</td></tr><tr><td>11118</td><td>0.6866909314085933</td></tr><tr><td>44714</td><td>0.5983916698508663</td></tr><tr><td>10171</td><td>0.5745495416011677</td></tr><tr><td>10239</td><td>0.545472181112538</td></tr><tr><td>14968</td><td>0.5122555590674094</td></tr></tbody></table></div>"
      ]
     },
     "metadata": {
      "application/vnd.databricks.v1+output": {
       "addedWidgets": {},
       "aggData": [],
       "aggError": "",
       "aggOverflow": false,
       "aggSchema": [],
       "aggSeriesLimitReached": false,
       "aggType": "",
       "arguments": {},
       "columnCustomDisplayInfos": {},
       "data": [
        [
         10222,
         0.8519435073760694
        ],
        [
         59684,
         0.7493130330613718
        ],
        [
         11118,
         0.6866909314085933
        ],
        [
         44714,
         0.5983916698508663
        ],
        [
         10171,
         0.5745495416011677
        ],
        [
         10239,
         0.545472181112538
        ],
        [
         14968,
         0.5122555590674094
        ]
       ],
       "datasetInfos": [],
       "dbfsResultPath": null,
       "isJsonSchema": true,
       "metadata": {},
       "overflow": false,
       "plotOptions": {
        "customPlotOptions": {},
        "displayType": "table",
        "pivotAggregation": null,
        "pivotColumns": null,
        "xColumns": null,
        "yColumns": null
       },
       "removedWidgets": [],
       "schema": [
        {
         "metadata": "{}",
         "name": "station_num",
         "type": "\"integer\""
        },
        {
         "metadata": "{}",
         "name": "diff_rank",
         "type": "\"double\""
        }
       ],
       "type": "table"
      }
     },
     "output_type": "display_data"
    },
    {
     "output_type": "stream",
     "name": "stdout",
     "output_type": "stream",
     "text": [
      "\n\uD83D\uDCCA Cluster 3 – Full subset:\n"
     ]
    },
    {
     "output_type": "display_data",
     "data": {
      "text/html": [
       "<style scoped>\n",
       "  .table-result-container {\n",
       "    max-height: 300px;\n",
       "    overflow: auto;\n",
       "  }\n",
       "  table, th, td {\n",
       "    border: 1px solid black;\n",
       "    border-collapse: collapse;\n",
       "  }\n",
       "  th, td {\n",
       "    padding: 5px;\n",
       "  }\n",
       "  th {\n",
       "    text-align: left;\n",
       "  }\n",
       "</style><div class='table-result-container'><table class='table-result'><thead style='background-color: white'><tr><th>station_num</th><th>diff_rank</th></tr></thead><tbody><tr><td>35513</td><td>1.240484333024132</td></tr><tr><td>70387</td><td>0.9286958286186878</td></tr><tr><td>11706</td><td>0.8767181790254264</td></tr><tr><td>10918</td><td>0.8436296040147847</td></tr><tr><td>10179</td><td>0.7654444043606439</td></tr><tr><td>12131</td><td>0.7626475241621982</td></tr><tr><td>10171</td><td>0.7179734946114289</td></tr></tbody></table></div>"
      ]
     },
     "metadata": {
      "application/vnd.databricks.v1+output": {
       "addedWidgets": {},
       "aggData": [],
       "aggError": "",
       "aggOverflow": false,
       "aggSchema": [],
       "aggSeriesLimitReached": false,
       "aggType": "",
       "arguments": {},
       "columnCustomDisplayInfos": {},
       "data": [
        [
         35513,
         1.240484333024132
        ],
        [
         70387,
         0.9286958286186878
        ],
        [
         11706,
         0.8767181790254264
        ],
        [
         10918,
         0.8436296040147847
        ],
        [
         10179,
         0.7654444043606439
        ],
        [
         12131,
         0.7626475241621982
        ],
        [
         10171,
         0.7179734946114289
        ]
       ],
       "datasetInfos": [],
       "dbfsResultPath": null,
       "isJsonSchema": true,
       "metadata": {},
       "overflow": false,
       "plotOptions": {
        "customPlotOptions": {},
        "displayType": "table",
        "pivotAggregation": null,
        "pivotColumns": null,
        "xColumns": null,
        "yColumns": null
       },
       "removedWidgets": [],
       "schema": [
        {
         "metadata": "{}",
         "name": "station_num",
         "type": "\"integer\""
        },
        {
         "metadata": "{}",
         "name": "diff_rank",
         "type": "\"double\""
        }
       ],
       "type": "table"
      }
     },
     "output_type": "display_data"
    },
    {
     "output_type": "stream",
     "name": "stdout",
     "output_type": "stream",
     "text": [
      "\uD83D\uDCCA Cluster 3 – Thirds subset:\n"
     ]
    },
    {
     "output_type": "display_data",
     "data": {
      "text/html": [
       "<style scoped>\n",
       "  .table-result-container {\n",
       "    max-height: 300px;\n",
       "    overflow: auto;\n",
       "  }\n",
       "  table, th, td {\n",
       "    border: 1px solid black;\n",
       "    border-collapse: collapse;\n",
       "  }\n",
       "  th, td {\n",
       "    padding: 5px;\n",
       "  }\n",
       "  th {\n",
       "    text-align: left;\n",
       "  }\n",
       "</style><div class='table-result-container'><table class='table-result'><thead style='background-color: white'><tr><th>station_num</th><th>diff_rank</th></tr></thead><tbody><tr><td>35513</td><td>1.3144994575911204</td></tr><tr><td>11706</td><td>0.9622786500344955</td></tr><tr><td>10179</td><td>0.8657515771122875</td></tr><tr><td>70387</td><td>0.7954536704334713</td></tr><tr><td>10918</td><td>0.7349660260569423</td></tr><tr><td>16615</td><td>0.6604763228512717</td></tr><tr><td>11164</td><td>0.6154874482562301</td></tr></tbody></table></div>"
      ]
     },
     "metadata": {
      "application/vnd.databricks.v1+output": {
       "addedWidgets": {},
       "aggData": [],
       "aggError": "",
       "aggOverflow": false,
       "aggSchema": [],
       "aggSeriesLimitReached": false,
       "aggType": "",
       "arguments": {},
       "columnCustomDisplayInfos": {},
       "data": [
        [
         35513,
         1.3144994575911204
        ],
        [
         11706,
         0.9622786500344955
        ],
        [
         10179,
         0.8657515771122875
        ],
        [
         70387,
         0.7954536704334713
        ],
        [
         10918,
         0.7349660260569423
        ],
        [
         16615,
         0.6604763228512717
        ],
        [
         11164,
         0.6154874482562301
        ]
       ],
       "datasetInfos": [],
       "dbfsResultPath": null,
       "isJsonSchema": true,
       "metadata": {},
       "overflow": false,
       "plotOptions": {
        "customPlotOptions": {},
        "displayType": "table",
        "pivotAggregation": null,
        "pivotColumns": null,
        "xColumns": null,
        "yColumns": null
       },
       "removedWidgets": [],
       "schema": [
        {
         "metadata": "{}",
         "name": "station_num",
         "type": "\"integer\""
        },
        {
         "metadata": "{}",
         "name": "diff_rank",
         "type": "\"double\""
        }
       ],
       "type": "table"
      }
     },
     "output_type": "display_data"
    },
    {
     "output_type": "stream",
     "name": "stdout",
     "output_type": "stream",
     "text": [
      "\uD83D\uDCCA Cluster 3 – 17ths subset:\n"
     ]
    },
    {
     "output_type": "display_data",
     "data": {
      "text/html": [
       "<style scoped>\n",
       "  .table-result-container {\n",
       "    max-height: 300px;\n",
       "    overflow: auto;\n",
       "  }\n",
       "  table, th, td {\n",
       "    border: 1px solid black;\n",
       "    border-collapse: collapse;\n",
       "  }\n",
       "  th, td {\n",
       "    padding: 5px;\n",
       "  }\n",
       "  th {\n",
       "    text-align: left;\n",
       "  }\n",
       "</style><div class='table-result-container'><table class='table-result'><thead style='background-color: white'><tr><th>station_num</th><th>diff_rank</th></tr></thead><tbody><tr><td>10179</td><td>1.5940204101197344</td></tr><tr><td>10171</td><td>1.1307996520213544</td></tr><tr><td>11706</td><td>0.8654456506864336</td></tr><tr><td>35513</td><td>0.7701807353501917</td></tr><tr><td>10559</td><td>0.6934717557767988</td></tr><tr><td>12131</td><td>0.6850680567088328</td></tr><tr><td>11809</td><td>0.640488085647964</td></tr></tbody></table></div>"
      ]
     },
     "metadata": {
      "application/vnd.databricks.v1+output": {
       "addedWidgets": {},
       "aggData": [],
       "aggError": "",
       "aggOverflow": false,
       "aggSchema": [],
       "aggSeriesLimitReached": false,
       "aggType": "",
       "arguments": {},
       "columnCustomDisplayInfos": {},
       "data": [
        [
         10179,
         1.5940204101197344
        ],
        [
         10171,
         1.1307996520213544
        ],
        [
         11706,
         0.8654456506864336
        ],
        [
         35513,
         0.7701807353501917
        ],
        [
         10559,
         0.6934717557767988
        ],
        [
         12131,
         0.6850680567088328
        ],
        [
         11809,
         0.640488085647964
        ]
       ],
       "datasetInfos": [],
       "dbfsResultPath": null,
       "isJsonSchema": true,
       "metadata": {},
       "overflow": false,
       "plotOptions": {
        "customPlotOptions": {},
        "displayType": "table",
        "pivotAggregation": null,
        "pivotColumns": null,
        "xColumns": null,
        "yColumns": null
       },
       "removedWidgets": [],
       "schema": [
        {
         "metadata": "{}",
         "name": "station_num",
         "type": "\"integer\""
        },
        {
         "metadata": "{}",
         "name": "diff_rank",
         "type": "\"double\""
        }
       ],
       "type": "table"
      }
     },
     "output_type": "display_data"
    },
    {
     "output_type": "stream",
     "name": "stdout",
     "output_type": "stream",
     "text": [
      "\n\uD83D\uDCCA Cluster 4 – Full subset:\n"
     ]
    },
    {
     "output_type": "display_data",
     "data": {
      "text/html": [
       "<style scoped>\n",
       "  .table-result-container {\n",
       "    max-height: 300px;\n",
       "    overflow: auto;\n",
       "  }\n",
       "  table, th, td {\n",
       "    border: 1px solid black;\n",
       "    border-collapse: collapse;\n",
       "  }\n",
       "  th, td {\n",
       "    padding: 5px;\n",
       "  }\n",
       "  th {\n",
       "    text-align: left;\n",
       "  }\n",
       "</style><div class='table-result-container'><table class='table-result'><thead style='background-color: white'><tr><th>station_num</th><th>diff_rank</th></tr></thead><tbody><tr><td>12131</td><td>0.8096983046297903</td></tr><tr><td>10171</td><td>0.5274324745755883</td></tr><tr><td>70387</td><td>0.480288515812175</td></tr><tr><td>10918</td><td>0.44120210236460744</td></tr><tr><td>11706</td><td>0.3840230810500525</td></tr><tr><td>35513</td><td>0.38084678359058927</td></tr><tr><td>10642</td><td>0.36311743823346204</td></tr></tbody></table></div>"
      ]
     },
     "metadata": {
      "application/vnd.databricks.v1+output": {
       "addedWidgets": {},
       "aggData": [],
       "aggError": "",
       "aggOverflow": false,
       "aggSchema": [],
       "aggSeriesLimitReached": false,
       "aggType": "",
       "arguments": {},
       "columnCustomDisplayInfos": {},
       "data": [
        [
         12131,
         0.8096983046297903
        ],
        [
         10171,
         0.5274324745755883
        ],
        [
         70387,
         0.480288515812175
        ],
        [
         10918,
         0.44120210236460744
        ],
        [
         11706,
         0.3840230810500525
        ],
        [
         35513,
         0.38084678359058927
        ],
        [
         10642,
         0.36311743823346204
        ]
       ],
       "datasetInfos": [],
       "dbfsResultPath": null,
       "isJsonSchema": true,
       "metadata": {},
       "overflow": false,
       "plotOptions": {
        "customPlotOptions": {},
        "displayType": "table",
        "pivotAggregation": null,
        "pivotColumns": null,
        "xColumns": null,
        "yColumns": null
       },
       "removedWidgets": [],
       "schema": [
        {
         "metadata": "{}",
         "name": "station_num",
         "type": "\"integer\""
        },
        {
         "metadata": "{}",
         "name": "diff_rank",
         "type": "\"double\""
        }
       ],
       "type": "table"
      }
     },
     "output_type": "display_data"
    },
    {
     "output_type": "stream",
     "name": "stdout",
     "output_type": "stream",
     "text": [
      "\uD83D\uDCCA Cluster 4 – Thirds subset:\n"
     ]
    },
    {
     "output_type": "display_data",
     "data": {
      "text/html": [
       "<style scoped>\n",
       "  .table-result-container {\n",
       "    max-height: 300px;\n",
       "    overflow: auto;\n",
       "  }\n",
       "  table, th, td {\n",
       "    border: 1px solid black;\n",
       "    border-collapse: collapse;\n",
       "  }\n",
       "  th, td {\n",
       "    padding: 5px;\n",
       "  }\n",
       "  th {\n",
       "    text-align: left;\n",
       "  }\n",
       "</style><div class='table-result-container'><table class='table-result'><thead style='background-color: white'><tr><th>station_num</th><th>diff_rank</th></tr></thead><tbody><tr><td>12131</td><td>0.7116281916251175</td></tr><tr><td>10171</td><td>0.661405809371773</td></tr><tr><td>11809</td><td>0.5424399749916053</td></tr><tr><td>10642</td><td>0.523644730340886</td></tr><tr><td>11706</td><td>0.518470402784994</td></tr><tr><td>70387</td><td>0.49605184089514076</td></tr><tr><td>10918</td><td>0.47729561160980116</td></tr></tbody></table></div>"
      ]
     },
     "metadata": {
      "application/vnd.databricks.v1+output": {
       "addedWidgets": {},
       "aggData": [],
       "aggError": "",
       "aggOverflow": false,
       "aggSchema": [],
       "aggSeriesLimitReached": false,
       "aggType": "",
       "arguments": {},
       "columnCustomDisplayInfos": {},
       "data": [
        [
         12131,
         0.7116281916251175
        ],
        [
         10171,
         0.661405809371773
        ],
        [
         11809,
         0.5424399749916053
        ],
        [
         10642,
         0.523644730340886
        ],
        [
         11706,
         0.518470402784994
        ],
        [
         70387,
         0.49605184089514076
        ],
        [
         10918,
         0.47729561160980116
        ]
       ],
       "datasetInfos": [],
       "dbfsResultPath": null,
       "isJsonSchema": true,
       "metadata": {},
       "overflow": false,
       "plotOptions": {
        "customPlotOptions": {},
        "displayType": "table",
        "pivotAggregation": null,
        "pivotColumns": null,
        "xColumns": null,
        "yColumns": null
       },
       "removedWidgets": [],
       "schema": [
        {
         "metadata": "{}",
         "name": "station_num",
         "type": "\"integer\""
        },
        {
         "metadata": "{}",
         "name": "diff_rank",
         "type": "\"double\""
        }
       ],
       "type": "table"
      }
     },
     "output_type": "display_data"
    },
    {
     "output_type": "stream",
     "name": "stdout",
     "output_type": "stream",
     "text": [
      "\uD83D\uDCCA Cluster 4 – 17ths subset:\n"
     ]
    },
    {
     "output_type": "display_data",
     "data": {
      "text/html": [
       "<style scoped>\n",
       "  .table-result-container {\n",
       "    max-height: 300px;\n",
       "    overflow: auto;\n",
       "  }\n",
       "  table, th, td {\n",
       "    border: 1px solid black;\n",
       "    border-collapse: collapse;\n",
       "  }\n",
       "  th, td {\n",
       "    padding: 5px;\n",
       "  }\n",
       "  th {\n",
       "    text-align: left;\n",
       "  }\n",
       "</style><div class='table-result-container'><table class='table-result'><thead style='background-color: white'><tr><th>station_num</th><th>diff_rank</th></tr></thead><tbody><tr><td>10171</td><td>1.2073325290949448</td></tr><tr><td>12131</td><td>1.1665293159016008</td></tr><tr><td>35513</td><td>0.9850752035431527</td></tr><tr><td>10642</td><td>0.9316990260724951</td></tr><tr><td>10918</td><td>0.8061816112271983</td></tr><tr><td>14767</td><td>0.6493799613609541</td></tr><tr><td>70387</td><td>0.6182714108564235</td></tr></tbody></table></div>"
      ]
     },
     "metadata": {
      "application/vnd.databricks.v1+output": {
       "addedWidgets": {},
       "aggData": [],
       "aggError": "",
       "aggOverflow": false,
       "aggSchema": [],
       "aggSeriesLimitReached": false,
       "aggType": "",
       "arguments": {},
       "columnCustomDisplayInfos": {},
       "data": [
        [
         10171,
         1.2073325290949448
        ],
        [
         12131,
         1.1665293159016008
        ],
        [
         35513,
         0.9850752035431527
        ],
        [
         10642,
         0.9316990260724951
        ],
        [
         10918,
         0.8061816112271983
        ],
        [
         14767,
         0.6493799613609541
        ],
        [
         70387,
         0.6182714108564235
        ]
       ],
       "datasetInfos": [],
       "dbfsResultPath": null,
       "isJsonSchema": true,
       "metadata": {},
       "overflow": false,
       "plotOptions": {
        "customPlotOptions": {},
        "displayType": "table",
        "pivotAggregation": null,
        "pivotColumns": null,
        "xColumns": null,
        "yColumns": null
       },
       "removedWidgets": [],
       "schema": [
        {
         "metadata": "{}",
         "name": "station_num",
         "type": "\"integer\""
        },
        {
         "metadata": "{}",
         "name": "diff_rank",
         "type": "\"double\""
        }
       ],
       "type": "table"
      }
     },
     "output_type": "display_data"
    },
    {
     "output_type": "stream",
     "name": "stdout",
     "output_type": "stream",
     "text": [
      "\n\uD83D\uDCCA Cluster 5 – Full subset:\n"
     ]
    },
    {
     "output_type": "display_data",
     "data": {
      "text/html": [
       "<style scoped>\n",
       "  .table-result-container {\n",
       "    max-height: 300px;\n",
       "    overflow: auto;\n",
       "  }\n",
       "  table, th, td {\n",
       "    border: 1px solid black;\n",
       "    border-collapse: collapse;\n",
       "  }\n",
       "  th, td {\n",
       "    padding: 5px;\n",
       "  }\n",
       "  th {\n",
       "    text-align: left;\n",
       "  }\n",
       "</style><div class='table-result-container'><table class='table-result'><thead style='background-color: white'><tr><th>station_num</th><th>diff_rank</th></tr></thead><tbody><tr><td>60179</td><td>0.17028966469247164</td></tr><tr><td>16374</td><td>0.14632688402406413</td></tr><tr><td>19606</td><td>0.10247038444002322</td></tr><tr><td>11713</td><td>0.09290124219643248</td></tr><tr><td>14771</td><td>0.08079973308788535</td></tr><tr><td>11661</td><td>0.0792271519320012</td></tr><tr><td>57708</td><td>0.06647335945716687</td></tr></tbody></table></div>"
      ]
     },
     "metadata": {
      "application/vnd.databricks.v1+output": {
       "addedWidgets": {},
       "aggData": [],
       "aggError": "",
       "aggOverflow": false,
       "aggSchema": [],
       "aggSeriesLimitReached": false,
       "aggType": "",
       "arguments": {},
       "columnCustomDisplayInfos": {},
       "data": [
        [
         60179,
         0.17028966469247164
        ],
        [
         16374,
         0.14632688402406413
        ],
        [
         19606,
         0.10247038444002322
        ],
        [
         11713,
         0.09290124219643248
        ],
        [
         14771,
         0.08079973308788535
        ],
        [
         11661,
         0.0792271519320012
        ],
        [
         57708,
         0.06647335945716687
        ]
       ],
       "datasetInfos": [],
       "dbfsResultPath": null,
       "isJsonSchema": true,
       "metadata": {},
       "overflow": false,
       "plotOptions": {
        "customPlotOptions": {},
        "displayType": "table",
        "pivotAggregation": null,
        "pivotColumns": null,
        "xColumns": null,
        "yColumns": null
       },
       "removedWidgets": [],
       "schema": [
        {
         "metadata": "{}",
         "name": "station_num",
         "type": "\"integer\""
        },
        {
         "metadata": "{}",
         "name": "diff_rank",
         "type": "\"double\""
        }
       ],
       "type": "table"
      }
     },
     "output_type": "display_data"
    },
    {
     "output_type": "stream",
     "name": "stdout",
     "output_type": "stream",
     "text": [
      "\uD83D\uDCCA Cluster 5 – Thirds subset:\n"
     ]
    },
    {
     "output_type": "display_data",
     "data": {
      "text/html": [
       "<style scoped>\n",
       "  .table-result-container {\n",
       "    max-height: 300px;\n",
       "    overflow: auto;\n",
       "  }\n",
       "  table, th, td {\n",
       "    border: 1px solid black;\n",
       "    border-collapse: collapse;\n",
       "  }\n",
       "  th, td {\n",
       "    padding: 5px;\n",
       "  }\n",
       "  th {\n",
       "    text-align: left;\n",
       "  }\n",
       "</style><div class='table-result-container'><table class='table-result'><thead style='background-color: white'><tr><th>station_num</th><th>diff_rank</th></tr></thead><tbody><tr><td>60179</td><td>0.1739084704884104</td></tr><tr><td>19606</td><td>0.09859784122661984</td></tr><tr><td>11661</td><td>0.09046155511766307</td></tr><tr><td>11954</td><td>0.08788048485578892</td></tr><tr><td>30754</td><td>0.08519435587452426</td></tr><tr><td>14771</td><td>0.07705951072686346</td></tr><tr><td>11765</td><td>0.07349965224943972</td></tr></tbody></table></div>"
      ]
     },
     "metadata": {
      "application/vnd.databricks.v1+output": {
       "addedWidgets": {},
       "aggData": [],
       "aggError": "",
       "aggOverflow": false,
       "aggSchema": [],
       "aggSeriesLimitReached": false,
       "aggType": "",
       "arguments": {},
       "columnCustomDisplayInfos": {},
       "data": [
        [
         60179,
         0.1739084704884104
        ],
        [
         19606,
         0.09859784122661984
        ],
        [
         11661,
         0.09046155511766307
        ],
        [
         11954,
         0.08788048485578892
        ],
        [
         30754,
         0.08519435587452426
        ],
        [
         14771,
         0.07705951072686346
        ],
        [
         11765,
         0.07349965224943972
        ]
       ],
       "datasetInfos": [],
       "dbfsResultPath": null,
       "isJsonSchema": true,
       "metadata": {},
       "overflow": false,
       "plotOptions": {
        "customPlotOptions": {},
        "displayType": "table",
        "pivotAggregation": null,
        "pivotColumns": null,
        "xColumns": null,
        "yColumns": null
       },
       "removedWidgets": [],
       "schema": [
        {
         "metadata": "{}",
         "name": "station_num",
         "type": "\"integer\""
        },
        {
         "metadata": "{}",
         "name": "diff_rank",
         "type": "\"double\""
        }
       ],
       "type": "table"
      }
     },
     "output_type": "display_data"
    },
    {
     "output_type": "stream",
     "name": "stdout",
     "output_type": "stream",
     "text": [
      "\uD83D\uDCCA Cluster 5 – 17ths subset:\n"
     ]
    },
    {
     "output_type": "display_data",
     "data": {
      "text/html": [
       "<style scoped>\n",
       "  .table-result-container {\n",
       "    max-height: 300px;\n",
       "    overflow: auto;\n",
       "  }\n",
       "  table, th, td {\n",
       "    border: 1px solid black;\n",
       "    border-collapse: collapse;\n",
       "  }\n",
       "  th, td {\n",
       "    padding: 5px;\n",
       "  }\n",
       "  th {\n",
       "    text-align: left;\n",
       "  }\n",
       "</style><div class='table-result-container'><table class='table-result'><thead style='background-color: white'><tr><th>station_num</th><th>diff_rank</th></tr></thead><tbody><tr><td>16374</td><td>0.28884951500842115</td></tr><tr><td>60179</td><td>0.2477652840055906</td></tr><tr><td>18544</td><td>0.14507241822226394</td></tr><tr><td>31258</td><td>0.13235024132470305</td></tr><tr><td>19630</td><td>0.13088946082804936</td></tr><tr><td>20290</td><td>0.11982721060094331</td></tr><tr><td>10139</td><td>0.11142573987957238</td></tr></tbody></table></div>"
      ]
     },
     "metadata": {
      "application/vnd.databricks.v1+output": {
       "addedWidgets": {},
       "aggData": [],
       "aggError": "",
       "aggOverflow": false,
       "aggSchema": [],
       "aggSeriesLimitReached": false,
       "aggType": "",
       "arguments": {},
       "columnCustomDisplayInfos": {},
       "data": [
        [
         16374,
         0.28884951500842115
        ],
        [
         60179,
         0.2477652840055906
        ],
        [
         18544,
         0.14507241822226394
        ],
        [
         31258,
         0.13235024132470305
        ],
        [
         19630,
         0.13088946082804936
        ],
        [
         20290,
         0.11982721060094331
        ],
        [
         10139,
         0.11142573987957238
        ]
       ],
       "datasetInfos": [],
       "dbfsResultPath": null,
       "isJsonSchema": true,
       "metadata": {},
       "overflow": false,
       "plotOptions": {
        "customPlotOptions": {},
        "displayType": "table",
        "pivotAggregation": null,
        "pivotColumns": null,
        "xColumns": null,
        "yColumns": null
       },
       "removedWidgets": [],
       "schema": [
        {
         "metadata": "{}",
         "name": "station_num",
         "type": "\"integer\""
        },
        {
         "metadata": "{}",
         "name": "diff_rank",
         "type": "\"double\""
        }
       ],
       "type": "table"
      }
     },
     "output_type": "display_data"
    }
   ],
   "source": [
    "from pyspark.sql.functions import col, coalesce\n",
    "\n",
    "full_result = {}\n",
    "thirds_result = {}\n",
    "seventeenths_result = {}\n",
    "\n",
    "for i in range(6):\n",
    "    print(f\"\\n\uD83D\uDCCA Cluster {i} – Full subset:\")\n",
    "    full_result[i] = (\n",
    "        full_final[i].alias(\"subset\")\n",
    "        .join(\n",
    "            general_population.alias(\"general\"),\n",
    "            col(\"subset.station_num\") == col(\"general.station_num\"),\n",
    "            how=\"full_outer\"  # חשוב\n",
    "        )\n",
    "        .select(\n",
    "            coalesce(col(\"subset.station_num\"),\\\n",
    "                 col(\"general.station_num\")).alias(\"station_num\"),\n",
    "            col(\"subset.sub_rat\").alias(\"sub_rat\"),\n",
    "            col(\"general.genreal_precentage\").alias(\"genreal_precentage\")\n",
    "        )\n",
    "        .fillna({\"sub_rat\": 0.0, \"genreal_precentage\": 0.0})\n",
    "        .withColumn(\"diff_rank\", col(\"sub_rat\") - col(\"genreal_precentage\"))\n",
    "        .select(\"station_num\", \"diff_rank\")\n",
    "        .orderBy(col(\"diff_rank\").desc())\n",
    "    )\n",
    "    display(full_result[i].limit(7))  # לפי הדרישה - הטופ 7\n",
    "\n",
    "    print(f\"\uD83D\uDCCA Cluster {i} – Thirds subset:\")\n",
    "    thirds_result[i] = (\n",
    "        thirds_final[i].alias(\"subset\")\n",
    "        .join(\n",
    "            general_population.alias(\"general\"),\n",
    "            col(\"subset.station_num\") == col(\"general.station_num\"),\n",
    "            how=\"full_outer\"\n",
    "        )\n",
    "        .select(\n",
    "            coalesce(col(\"subset.station_num\"), \\\n",
    "                col(\"general.station_num\")).alias(\"station_num\"),\n",
    "            col(\"subset.sub_rat\").alias(\"sub_rat\"),\n",
    "            col(\"general.genreal_precentage\").alias(\"genreal_precentage\")\n",
    "        )\n",
    "        .fillna({\"sub_rat\": 0.0, \"genreal_precentage\": 0.0})\n",
    "        .withColumn(\"diff_rank\", col(\"sub_rat\") - col(\"genreal_precentage\"))\n",
    "        .select(\"station_num\", \"diff_rank\")\n",
    "        .orderBy(col(\"diff_rank\").desc())\n",
    "    )\n",
    "    display(thirds_result[i].limit(7))\n",
    "\n",
    "    print(f\"\uD83D\uDCCA Cluster {i} – 17ths subset:\")\n",
    "    seventeenths_result[i] = (\n",
    "        seventeenths_final[i].alias(\"subset\")\n",
    "        .join(\n",
    "            general_population.alias(\"general\"),\n",
    "            col(\"subset.station_num\") == col(\"general.station_num\"),\n",
    "            how=\"full_outer\"\n",
    "        )\n",
    "        .select(\n",
    "            coalesce(col(\"subset.station_num\"), \\\n",
    "                col(\"general.station_num\")).alias(\"station_num\"),\n",
    "            col(\"subset.sub_rat\").alias(\"sub_rat\"),\n",
    "            col(\"general.genreal_precentage\").alias(\"genreal_precentage\")\n",
    "        )\n",
    "        .fillna({\"sub_rat\": 0.0, \"genreal_precentage\": 0.0})\n",
    "        .withColumn(\"diff_rank\", col(\"sub_rat\") - col(\"genreal_precentage\"))\n",
    "        .select(\"station_num\", \"diff_rank\")\n",
    "        .orderBy(col(\"diff_rank\").desc())\n",
    "    )\n",
    "    display(seventeenths_result[i].limit(7))\n"
   ]
  },
  {
   "cell_type": "markdown",
   "metadata": {
    "application/vnd.databricks.v1+cell": {
     "cellMetadata": {
      "byteLimit": 2048000,
      "rowLimit": 10000
     },
     "inputWidgets": {},
     "nuid": "6b823221-f028-48d6-870a-090cc687665f",
     "showTitle": false,
     "tableResultSettingsMap": {},
     "title": ""
    }
   },
   "source": [
    "## Dynamic Data Analysis - Streaming (35 points)"
   ]
  },
  {
   "cell_type": "code",
   "execution_count": 0,
   "metadata": {
    "application/vnd.databricks.v1+cell": {
     "cellMetadata": {
      "byteLimit": 2048000,
      "rowLimit": 10000
     },
     "inputWidgets": {},
     "nuid": "53de1bb2-e87a-424e-b802-97bae4f31a9c",
     "showTitle": false,
     "tableResultSettingsMap": {},
     "title": ""
    }
   },
   "outputs": [],
   "source": [
    "SCHEMA = \"device_id STRING, event_date INT, event_time INT, \\\n",
    "    station_num STRING, prog_code STRING, household_id STRING\"\n",
    "kafka_server = \"kafka.eastus.cloudapp.azure.com:29092\"\n",
    "topic = \"view_data\" \n",
    "OFFSETS_PER_TRIGGER = 50000\n",
    "\n",
    "streaming_df = spark.readStream\\\n",
    "                  .format(\"kafka\")\\\n",
    "                  .option(\"kafka.bootstrap.servers\", kafka_server)\\\n",
    "                  .option(\"subscribe\", topic)\\\n",
    "                  .option(\"startingOffsets\", \"earliest\")\\\n",
    "                  .option(\"failOnDataLoss\",False)\\\n",
    "                  .option(\"maxOffsetsPerTrigger\", OFFSETS_PER_TRIGGER)\\\n",
    "                  .load()\\\n",
    "                  .select(from_csv(decode(\"value\", \"US-ASCII\")\\\n",
    "                      , schema=SCHEMA).alias(\"value\")).select(\"value.*\")\n"
   ]
  },
  {
   "cell_type": "code",
   "execution_count": 0,
   "metadata": {
    "application/vnd.databricks.v1+cell": {
     "cellMetadata": {
      "byteLimit": 2048000,
      "rowLimit": 10000
     },
     "inputWidgets": {},
     "nuid": "a2b292b0-a470-480d-abef-319c0e393fd1",
     "showTitle": false,
     "tableResultSettingsMap": {},
     "title": ""
    }
   },
   "outputs": [],
   "source": [
    "batch_counter = 0\n",
    "query_handle = None\n",
    "all_batches_df = spark.createDataFrame([], schema=streaming_df.schema)"
   ]
  },
  {
   "cell_type": "code",
   "execution_count": 0,
   "metadata": {
    "application/vnd.databricks.v1+cell": {
     "cellMetadata": {
      "byteLimit": 2048000,
      "rowLimit": 10000
     },
     "inputWidgets": {},
     "nuid": "b7d2c71d-8111-48c4-ba39-0b96cba5f38e",
     "showTitle": false,
     "tableResultSettingsMap": {},
     "title": ""
    }
   },
   "outputs": [],
   "source": [
    "def process_batch(batch_df, batch_id):\n",
    "    print(\"Batch Triggered!\")\n",
    "    global batch_counter, query_handle, all_batches_df\n",
    "    batch_counter += 1\n",
    "    print(f\"\\n=== Processing Batch {batch_counter}\\\n",
    "         (Kafka batch_id: {batch_id}) ===\")\n",
    "\n",
    "    # איחוד באצ'ים בצורה בטוחה לסכמה\n",
    "    all_batches_df = all_batches_df.unionByName\\\n",
    "        (batch_df, allowMissingColumns=True)\n",
    "\n",
    "    # כלל האוכלוסייה המצטברת: סינון + אחוזים\n",
    "    filtered_df = all_batches_df.where(col(\"station_num\").isNotNull())\n",
    "    full_count  = filtered_df.count()\n",
    "    filtered_df = (filtered_df\n",
    "                   .groupBy(\"station_num\").agg(count(\"*\").alias(\"count\"))\n",
    "                   .withColumn(\"general_rating\", (col(\"count\") \\\n",
    "                       / full_count) * 100))\n",
    "\n",
    "    dynamic_viewing = {}\n",
    "    viewing_counts = []\n",
    "\n",
    "    for i in range(6):\n",
    "        thirds_ids = broadcast(\n",
    "            thirds_subsets[i]\n",
    "              .filter(col(\"household_id\").isNotNull())\n",
    "              .select(\"household_id\")\n",
    "        )\n",
    "\n",
    "        dynamic_viewing[i] = (\n",
    "            all_batches_df.where(col(\"station_num\").isNotNull())\\\n",
    "                .alias(\"viewing\")\n",
    "            .join(thirds_ids.alias(\"subset\"),\n",
    "                  col(\"viewing.household_id\") == col(\"subset.household_id\"))\n",
    "        )\n",
    "\n",
    "        view_thirds_count = dynamic_viewing[i].count()\n",
    "        viewing_counts.append(view_thirds_count)\n",
    "\n",
    "        if view_thirds_count == 0:\n",
    "            print(f\"Cluster {i}, Batch {batch_counter}\\\n",
    "                 → No matching 3rds rows.\")\n",
    "            continue\n",
    "\n",
    "        dynamic_viewing[i] = (dynamic_viewing[i]\n",
    "            .groupBy(\"station_num\").agg(count(\"*\").alias(\"count\"))\n",
    "            .withColumn(\"sub_rat\", (col(\"count\") / \\\n",
    "                view_thirds_count) * 100))\n",
    "\n",
    "        joined = (dynamic_viewing[i]\n",
    "            .join(filtered_df.select(\"station_num\", \\\n",
    "                \"general_rating\"), on=\"station_num\")\n",
    "            .withColumn(\"diff_rank\", col(\"sub_rat\") - \\\n",
    "                col(\"general_rating\"))\n",
    "            .select(\"station_num\", \"diff_rank\")\n",
    "            .orderBy(col(\"diff_rank\").desc()))\n",
    "\n",
    "        print(f\"Top 7 stations for Cluster {i}, Batch {batch_counter}\")\n",
    "        joined.select(\"station_num\",\"diff_rank\").show(7, truncate=False)  \n",
    "        joined.limit(7).createOrReplaceTempView\\\n",
    "            (f\"top7_cluster_{i}_batch_{batch_counter}\")\n",
    "\n",
    "    if batch_counter >= 3:\n",
    "        print(\"Stopping stream after 3 batches.\")\n",
    "        query_handle.stop()\n",
    "\n",
    "query_handle = (streaming_df.writeStream\n",
    "    .foreachBatch(process_batch)\n",
    "    .outputMode(\"append\")\n",
    "    .start())\n"
   ]
  },
  {
   "cell_type": "code",
   "execution_count": 0,
   "metadata": {
    "application/vnd.databricks.v1+cell": {
     "cellMetadata": {
      "byteLimit": 2048000,
      "rowLimit": 10000
     },
     "inputWidgets": {},
     "nuid": "a54f76ce-48fb-4b5b-b2fd-22318bf7eef7",
     "showTitle": false,
     "tableResultSettingsMap": {},
     "title": ""
    }
   },
   "outputs": [
    {
     "output_type": "display_data",
     "data": {
      "text/markdown": [
       "### \uD83D\uDCCA Cluster 0                 — Batch 1"
      ],
      "text/plain": [
       "<IPython.core.display.Markdown object>"
      ]
     },
     "metadata": {},
     "output_type": "display_data"
    },
    {
     "output_type": "stream",
     "name": "stdout",
     "output_type": "stream",
     "text": [
      "+-----------+-------------------+\n|station_num|diff_rank          |\n+-----------+-------------------+\n|11150      |0.7932529550827423 |\n|32645      |0.7336926713947989 |\n|11164      |0.4609314420803782 |\n|10021      |0.4296264775413712 |\n|11913      |0.31636406619385343|\n|31709      |0.31011820330969264|\n|11187      |0.30615130023640647|\n+-----------+-------------------+\n\n"
     ]
    },
    {
     "output_type": "display_data",
     "data": {
      "text/markdown": [
       "### \uD83D\uDCCA Cluster 1                 — Batch 1"
      ],
      "text/plain": [
       "<IPython.core.display.Markdown object>"
      ]
     },
     "metadata": {},
     "output_type": "display_data"
    },
    {
     "output_type": "stream",
     "name": "stdout",
     "output_type": "stream",
     "text": [
      "+-----------+-------------------+\n|station_num|diff_rank          |\n+-----------+-------------------+\n|14771      |0.5273573291601461 |\n|10145      |0.5229452269170578 |\n|15433      |0.44296713615023475|\n|18001      |0.3759780907668232 |\n|34215      |0.32581324986958793|\n|12131      |0.28412102243088144|\n|11069      |0.27573082942097027|\n+-----------+-------------------+\n\n"
     ]
    },
    {
     "output_type": "display_data",
     "data": {
      "text/markdown": [
       "### \uD83D\uDCCA Cluster 2                 — Batch 1"
      ],
      "text/plain": [
       "<IPython.core.display.Markdown object>"
      ]
     },
     "metadata": {},
     "output_type": "display_data"
    },
    {
     "output_type": "stream",
     "name": "stdout",
     "output_type": "stream",
     "text": [
      "+-----------+------------------+\n|station_num|diff_rank         |\n+-----------+------------------+\n|32645      |2.4915675675675675|\n|10918      |1.7647027027027027|\n|18480      |1.493945945945946 |\n|59684      |1.419027027027027 |\n|10179      |1.3056216216216219|\n|12510      |1.1233513513513513|\n|10830      |1.0644324324324324|\n+-----------+------------------+\n\n"
     ]
    },
    {
     "output_type": "display_data",
     "data": {
      "text/markdown": [
       "### \uD83D\uDCCA Cluster 3                 — Batch 1"
      ],
      "text/plain": [
       "<IPython.core.display.Markdown object>"
      ]
     },
     "metadata": {},
     "output_type": "display_data"
    },
    {
     "output_type": "stream",
     "name": "stdout",
     "output_type": "stream",
     "text": [
      "+-----------+------------------+\n|station_num|diff_rank         |\n+-----------+------------------+\n|10918      |1.9762381348875937|\n|10171      |1.6509741881765196|\n|10021      |1.5655986677768525|\n|70387      |1.563070774354704 |\n|10057      |1.4695986677768524|\n|10179      |1.4315020815986677|\n|14909      |1.2187510407993338|\n+-----------+------------------+\n\n"
     ]
    },
    {
     "output_type": "display_data",
     "data": {
      "text/markdown": [
       "### \uD83D\uDCCA Cluster 4                 — Batch 1"
      ],
      "text/plain": [
       "<IPython.core.display.Markdown object>"
      ]
     },
     "metadata": {},
     "output_type": "display_data"
    },
    {
     "output_type": "stream",
     "name": "stdout",
     "output_type": "stream",
     "text": [
      "+-----------+------------------+\n|station_num|diff_rank         |\n+-----------+------------------+\n|11221      |1.6858620689655173|\n|49788      |1.6686206896551725|\n|10918      |1.6482068965517243|\n|56905      |1.2669655172413794|\n|16300      |1.1357241379310345|\n|11809      |1.026896551724138 |\n|10162      |0.9404827586206898|\n+-----------+------------------+\n\n"
     ]
    },
    {
     "output_type": "display_data",
     "data": {
      "text/markdown": [
       "### \uD83D\uDCCA Cluster 5                 — Batch 1"
      ],
      "text/plain": [
       "<IPython.core.display.Markdown object>"
      ]
     },
     "metadata": {},
     "output_type": "display_data"
    },
    {
     "output_type": "stream",
     "name": "stdout",
     "output_type": "stream",
     "text": [
      "+-----------+-------------------+\n|station_num|diff_rank          |\n+-----------+-------------------+\n|11713      |0.6569836801916453 |\n|11661      |0.39094744722263813|\n|31709      |0.3337535559215451 |\n|16331      |0.32986435095074107|\n|16616      |0.28169815840694706|\n|57708      |0.24850426710585416|\n|11069      |0.23705824225183414|\n+-----------+-------------------+\n\n"
     ]
    },
    {
     "output_type": "display_data",
     "data": {
      "text/markdown": [
       "### \uD83D\uDCCA Cluster 0                 — Batch 2"
      ],
      "text/plain": [
       "<IPython.core.display.Markdown object>"
      ]
     },
     "metadata": {},
     "output_type": "display_data"
    },
    {
     "output_type": "stream",
     "name": "stdout",
     "output_type": "stream",
     "text": [
      "+-----------+-------------------+\n|station_num|diff_rank          |\n+-----------+-------------------+\n|11150      |0.7131325673884226 |\n|32645      |0.5270231256444249 |\n|14321      |0.3364579466784504 |\n|49788      |0.2940521431727796 |\n|10549      |0.28851303579319487|\n|11865      |0.28729636176167334|\n|66268      |0.2849717189571366 |\n+-----------+-------------------+\n\n"
     ]
    },
    {
     "output_type": "display_data",
     "data": {
      "text/markdown": [
       "### \uD83D\uDCCA Cluster 1                 — Batch 2"
      ],
      "text/plain": [
       "<IPython.core.display.Markdown object>"
      ]
     },
     "metadata": {},
     "output_type": "display_data"
    },
    {
     "output_type": "stream",
     "name": "stdout",
     "output_type": "stream",
     "text": [
      "+-----------+-------------------+\n|station_num|diff_rank          |\n+-----------+-------------------+\n|10145      |0.37380066958537217|\n|18480      |0.28711820757146544|\n|10563      |0.25279268606747357|\n|14771      |0.23491089363893902|\n|11069      |0.23394231264486226|\n|11765      |0.22457223796033998|\n|87317      |0.22229925315477725|\n+-----------+-------------------+\n\n"
     ]
    },
    {
     "output_type": "display_data",
     "data": {
      "text/markdown": [
       "### \uD83D\uDCCA Cluster 2                 — Batch 2"
      ],
      "text/plain": [
       "<IPython.core.display.Markdown object>"
      ]
     },
     "metadata": {},
     "output_type": "display_data"
    },
    {
     "output_type": "stream",
     "name": "stdout",
     "output_type": "stream",
     "text": [
      "+-----------+------------------+\n|station_num|diff_rank         |\n+-----------+------------------+\n|32645      |2.0425157232704403|\n|10918      |1.536490566037736 |\n|59684      |1.4450251572327042|\n|66379      |1.1283270440251574|\n|12131      |1.0800251572327042|\n|59337      |0.9820943396226417|\n|18480      |0.9323270440251573|\n+-----------+------------------+\n\n"
     ]
    },
    {
     "output_type": "display_data",
     "data": {
      "text/markdown": [
       "### \uD83D\uDCCA Cluster 3                 — Batch 2"
      ],
      "text/plain": [
       "<IPython.core.display.Markdown object>"
      ]
     },
     "metadata": {},
     "output_type": "display_data"
    },
    {
     "output_type": "stream",
     "name": "stdout",
     "output_type": "stream",
     "text": [
      "+-----------+------------------+\n|station_num|diff_rank         |\n+-----------+------------------+\n|10918      |1.6111870761866771|\n|10021      |1.5037455125648185|\n|10171      |1.4878520143597926|\n|70387      |1.3311974471479857|\n|10057      |1.2399740725967292|\n|10179      |1.174516952532908 |\n|14909      |1.08320263262864  |\n+-----------+------------------+\n\n"
     ]
    },
    {
     "output_type": "display_data",
     "data": {
      "text/markdown": [
       "### \uD83D\uDCCA Cluster 4                 — Batch 2"
      ],
      "text/plain": [
       "<IPython.core.display.Markdown object>"
      ]
     },
     "metadata": {},
     "output_type": "display_data"
    },
    {
     "output_type": "stream",
     "name": "stdout",
     "output_type": "stream",
     "text": [
      "+-----------+------------------+\n|station_num|diff_rank         |\n+-----------+------------------+\n|49788      |1.641506276150628 |\n|56905      |1.2860502092050208|\n|10918      |1.2700502092050208|\n|45980      |1.0695481171548116|\n|51529      |0.916276150627615 |\n|10162      |0.90418410041841  |\n|11221      |0.8861422594142256|\n+-----------+------------------+\n\n"
     ]
    },
    {
     "output_type": "display_data",
     "data": {
      "text/markdown": [
       "### \uD83D\uDCCA Cluster 5                 — Batch 2"
      ],
      "text/plain": [
       "<IPython.core.display.Markdown object>"
      ]
     },
     "metadata": {},
     "output_type": "display_data"
    },
    {
     "output_type": "stream",
     "name": "stdout",
     "output_type": "stream",
     "text": [
      "+-----------+-------------------+\n|station_num|diff_rank          |\n+-----------+-------------------+\n|11713      |0.43602653726590357|\n|31709      |0.297730229736902  |\n|16616      |0.2606406095989083 |\n|11661      |0.24735757070285846|\n|57708      |0.22187929335051937|\n|11867      |0.21172931988778532|\n|16331      |0.20050663431647586|\n+-----------+-------------------+\n\n"
     ]
    },
    {
     "output_type": "display_data",
     "data": {
      "text/markdown": [
       "### \uD83D\uDCCA Cluster 0                 — Batch 3"
      ],
      "text/plain": [
       "<IPython.core.display.Markdown object>"
      ]
     },
     "metadata": {},
     "output_type": "display_data"
    },
    {
     "output_type": "stream",
     "name": "stdout",
     "output_type": "stream",
     "text": [
      "+-----------+-------------------+\n|station_num|diff_rank          |\n+-----------+-------------------+\n|11150      |0.6079760997688124 |\n|32645      |0.5312878121845594 |\n|31709      |0.3435068216599916 |\n|14321      |0.3341262739734947 |\n|66268      |0.28229351046856177|\n|49788      |0.24593116472925014|\n|58812      |0.24321956302302095|\n+-----------+-------------------+\n\n"
     ]
    },
    {
     "output_type": "display_data",
     "data": {
      "text/markdown": [
       "### \uD83D\uDCCA Cluster 1                 — Batch 3"
      ],
      "text/plain": [
       "<IPython.core.display.Markdown object>"
      ]
     },
     "metadata": {},
     "output_type": "display_data"
    },
    {
     "output_type": "stream",
     "name": "stdout",
     "output_type": "stream",
     "text": [
      "+-----------+-------------------+\n|station_num|diff_rank          |\n+-----------+-------------------+\n|10145      |0.29007353981049366|\n|11187      |0.25601301088954886|\n|11344      |0.24665337293169276|\n|15433      |0.23440220619431473|\n|34215      |0.23342016687880074|\n|11069      |0.22615669636543628|\n|18480      |0.22483467684910197|\n+-----------+-------------------+\n\n"
     ]
    },
    {
     "output_type": "display_data",
     "data": {
      "text/markdown": [
       "### \uD83D\uDCCA Cluster 2                 — Batch 3"
      ],
      "text/plain": [
       "<IPython.core.display.Markdown object>"
      ]
     },
     "metadata": {},
     "output_type": "display_data"
    },
    {
     "output_type": "stream",
     "name": "stdout",
     "output_type": "stream",
     "text": [
      "+-----------+------------------+\n|station_num|diff_rank         |\n+-----------+------------------+\n|10918      |1.3849535309184047|\n|59684      |1.2980812294182216|\n|32645      |1.2064178558360776|\n|10222      |1.0685795828759603|\n|12131      |1.0538507135016464|\n|66379      |0.9747852177094769|\n|59337      |0.9494518843761435|\n+-----------+------------------+\n\n"
     ]
    },
    {
     "output_type": "display_data",
     "data": {
      "text/markdown": [
       "### \uD83D\uDCCA Cluster 3                 — Batch 3"
      ],
      "text/plain": [
       "<IPython.core.display.Markdown object>"
      ]
     },
     "metadata": {},
     "output_type": "display_data"
    },
    {
     "output_type": "stream",
     "name": "stdout",
     "output_type": "stream",
     "text": [
      "+-----------+------------------+\n|station_num|diff_rank         |\n+-----------+------------------+\n|10918      |1.4057335493743812|\n|10171      |1.3224310018903596|\n|10021      |1.2837130254748401|\n|70387      |1.232318120442884 |\n|11164      |1.1653950850661623|\n|10057      |1.089641191826447 |\n|10559      |1.056615536952021 |\n+-----------+------------------+\n\n"
     ]
    },
    {
     "output_type": "display_data",
     "data": {
      "text/markdown": [
       "### \uD83D\uDCCA Cluster 4                 — Batch 3"
      ],
      "text/plain": [
       "<IPython.core.display.Markdown object>"
      ]
     },
     "metadata": {},
     "output_type": "display_data"
    },
    {
     "output_type": "stream",
     "name": "stdout",
     "output_type": "stream",
     "text": [
      "+-----------+------------------+\n|station_num|diff_rank         |\n+-----------+------------------+\n|49788      |1.492320030846347 |\n|56905      |1.1892843647580489|\n|10918      |0.9766034316560633|\n|45980      |0.8792272990167727|\n|11221      |0.809312897628687 |\n|51529      |0.8055820320030845|\n|32645      |0.8051783304414886|\n+-----------+------------------+\n\n"
     ]
    },
    {
     "output_type": "display_data",
     "data": {
      "text/markdown": [
       "### \uD83D\uDCCA Cluster 5                 — Batch 3"
      ],
      "text/plain": [
       "<IPython.core.display.Markdown object>"
      ]
     },
     "metadata": {},
     "output_type": "display_data"
    },
    {
     "output_type": "stream",
     "name": "stdout",
     "output_type": "stream",
     "text": [
      "+-----------+-------------------+\n|station_num|diff_rank          |\n+-----------+-------------------+\n|11713      |0.34143917477277697|\n|31709      |0.30198299816877516|\n|16616      |0.2160614216353342 |\n|57708      |0.21120891084118742|\n|11867      |0.20156188364161753|\n|19630      |0.16925833711338478|\n|14902      |0.16892250054600744|\n+-----------+-------------------+\n\n"
     ]
    }
   ],
   "source": [
    "from IPython.display import display, Markdown\n",
    "from pyspark.sql.functions import col\n",
    "\n",
    "total_batches = 3\n",
    "total_clusters = 6\n",
    "\n",
    "for batch_no in range(1, total_batches + 1):  # 1..3\n",
    "    for cluster_id in range(total_clusters):\n",
    "        view_name = f\"top7_cluster_{cluster_id}_batch_{batch_no}\"\n",
    "        try:\n",
    "            df = spark.sql(f\"SELECT * FROM {view_name}\")\n",
    "            display(Markdown(f\"### \uD83D\uDCCA Cluster {cluster_id} \\\n",
    "                — Batch {batch_no}\"))\n",
    "            df.show(7, truncate=False)  \n",
    "        except Exception as e:\n",
    "            print(f\"❌ Could not load {view_name}: {e}\")\n"
   ]
  }
 ],
 "metadata": {
  "application/vnd.databricks.v1+notebook": {
   "computePreferences": {
    "hardware": {
     "accelerator": null,
     "gpuPoolId": null,
     "memory": null
    }
   },
   "dashboards": [],
   "environmentMetadata": null,
   "inputWidgetPreferences": null,
   "language": "python",
   "notebookMetadata": {
    "pythonIndentUnit": 4
   },
   "notebookName": "_213820616_214034621",
   "widgets": {}
  },
  "language_info": {
   "name": "python"
  }
 },
 "nbformat": 4,
 "nbformat_minor": 0
}